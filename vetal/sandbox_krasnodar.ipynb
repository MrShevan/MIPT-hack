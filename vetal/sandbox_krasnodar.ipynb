{
 "cells": [
  {
   "cell_type": "code",
   "execution_count": 1,
   "metadata": {
    "ExecuteTime": {
     "end_time": "2020-04-25T09:37:50.328477Z",
     "start_time": "2020-04-25T09:37:50.326170Z"
    }
   },
   "outputs": [],
   "source": [
    "import pandas as pd\n",
    "import numpy as np\n",
    "import matplotlib.pyplot as plt\n"
   ]
  },
  {
   "cell_type": "code",
   "execution_count": 2,
   "metadata": {
    "ExecuteTime": {
     "end_time": "2020-04-25T09:37:56.640258Z",
     "start_time": "2020-04-25T09:37:51.005794Z"
    }
   },
   "outputs": [],
   "source": [
    "df = pd.read_csv('../data/train.csv')"
   ]
  },
  {
   "cell_type": "code",
   "execution_count": 3,
   "metadata": {
    "ExecuteTime": {
     "end_time": "2020-04-25T09:37:56.666624Z",
     "start_time": "2020-04-25T09:37:56.641838Z"
    }
   },
   "outputs": [
    {
     "data": {
      "text/html": [
       "<div>\n",
       "<style scoped>\n",
       "    .dataframe tbody tr th:only-of-type {\n",
       "        vertical-align: middle;\n",
       "    }\n",
       "\n",
       "    .dataframe tbody tr th {\n",
       "        vertical-align: top;\n",
       "    }\n",
       "\n",
       "    .dataframe thead th {\n",
       "        text-align: right;\n",
       "    }\n",
       "</style>\n",
       "<table border=\"1\" class=\"dataframe\">\n",
       "  <thead>\n",
       "    <tr style=\"text-align: right;\">\n",
       "      <th></th>\n",
       "      <th>Id</th>\n",
       "      <th>main_id_locality</th>\n",
       "      <th>ETA</th>\n",
       "      <th>RTA</th>\n",
       "      <th>OrderedDate</th>\n",
       "      <th>latitude</th>\n",
       "      <th>del_latitude</th>\n",
       "      <th>longitude</th>\n",
       "      <th>del_longitude</th>\n",
       "      <th>EDA</th>\n",
       "      <th>...</th>\n",
       "      <th>ready_latitude</th>\n",
       "      <th>ready_longitude</th>\n",
       "      <th>onway_latitude</th>\n",
       "      <th>onway_longitude</th>\n",
       "      <th>arrived_latitude</th>\n",
       "      <th>arrived_longitude</th>\n",
       "      <th>center_latitude</th>\n",
       "      <th>center_longitude</th>\n",
       "      <th>route</th>\n",
       "      <th>track</th>\n",
       "    </tr>\n",
       "  </thead>\n",
       "  <tbody>\n",
       "    <tr>\n",
       "      <th>0</th>\n",
       "      <td>0</td>\n",
       "      <td>338</td>\n",
       "      <td>1249.0</td>\n",
       "      <td>1076.0</td>\n",
       "      <td>2020-03-11 20:43:49</td>\n",
       "      <td>45.013191</td>\n",
       "      <td>45.040428</td>\n",
       "      <td>38.981220</td>\n",
       "      <td>39.026501</td>\n",
       "      <td>7.0</td>\n",
       "      <td>...</td>\n",
       "      <td>45.012991</td>\n",
       "      <td>38.981120</td>\n",
       "      <td>45.012991</td>\n",
       "      <td>38.981120</td>\n",
       "      <td>45.040108</td>\n",
       "      <td>39.026086</td>\n",
       "      <td>45.040235</td>\n",
       "      <td>38.976080</td>\n",
       "      <td>stvqG{n|lFf@bCN|@NhBH~D?n@MvC_@rES`B??YFWCoAgE...</td>\n",
       "      <td>NaN</td>\n",
       "    </tr>\n",
       "    <tr>\n",
       "      <th>1</th>\n",
       "      <td>1</td>\n",
       "      <td>22402</td>\n",
       "      <td>1822.0</td>\n",
       "      <td>1812.0</td>\n",
       "      <td>2020-02-03 14:27:22</td>\n",
       "      <td>54.735378</td>\n",
       "      <td>54.710651</td>\n",
       "      <td>55.961922</td>\n",
       "      <td>55.822079</td>\n",
       "      <td>15.0</td>\n",
       "      <td>...</td>\n",
       "      <td>54.735327</td>\n",
       "      <td>55.961558</td>\n",
       "      <td>54.735515</td>\n",
       "      <td>55.962046</td>\n",
       "      <td>54.710222</td>\n",
       "      <td>55.822577</td>\n",
       "      <td>54.734853</td>\n",
       "      <td>55.957865</td>\n",
       "      <td>ooamI}`qtIXtE??h@_@|@^??lAaN??jA`@??XwD`@_E|@u...</td>\n",
       "      <td>m_qtI}namIWEQASCO?@B@@A@??????????EAKEBKHGDA??...</td>\n",
       "    </tr>\n",
       "    <tr>\n",
       "      <th>2</th>\n",
       "      <td>2</td>\n",
       "      <td>22394</td>\n",
       "      <td>410.0</td>\n",
       "      <td>336.0</td>\n",
       "      <td>2020-02-22 11:15:02</td>\n",
       "      <td>53.529202</td>\n",
       "      <td>53.543640</td>\n",
       "      <td>49.337990</td>\n",
       "      <td>49.351028</td>\n",
       "      <td>2.0</td>\n",
       "      <td>...</td>\n",
       "      <td>53.530384</td>\n",
       "      <td>49.339986</td>\n",
       "      <td>53.529227</td>\n",
       "      <td>49.338437</td>\n",
       "      <td>53.543038</td>\n",
       "      <td>49.350991</td>\n",
       "      <td>53.516670</td>\n",
       "      <td>49.416670</td>\n",
       "      <td>u}ueI_hclHwBkGaDqJo@oA]OiCuHK[M{@??Ag@Ie@UYSIU...</td>\n",
       "      <td>wlclHk}ueIGJVH????LJEJ\\AtCJbBTHFVB?n@hC\\`@iBiA...</td>\n",
       "    </tr>\n",
       "    <tr>\n",
       "      <th>3</th>\n",
       "      <td>3</td>\n",
       "      <td>22406</td>\n",
       "      <td>653.0</td>\n",
       "      <td>558.0</td>\n",
       "      <td>2020-02-26 22:21:28</td>\n",
       "      <td>56.836250</td>\n",
       "      <td>56.863159</td>\n",
       "      <td>60.632580</td>\n",
       "      <td>60.654831</td>\n",
       "      <td>4.0</td>\n",
       "      <td>...</td>\n",
       "      <td>56.836830</td>\n",
       "      <td>60.633442</td>\n",
       "      <td>56.836830</td>\n",
       "      <td>60.633442</td>\n",
       "      <td>56.862945</td>\n",
       "      <td>60.654256</td>\n",
       "      <td>56.838633</td>\n",
       "      <td>60.605489</td>\n",
       "      <td>qy{yIshaqJuADoAS_Bb@??UiE??wIfCgOrD}FhB_Bd@??m...</td>\n",
       "      <td>upaqJ{b|yI??^Dl@RFRCTFPNP?PIXGVAH????AA?????A@...</td>\n",
       "    </tr>\n",
       "    <tr>\n",
       "      <th>4</th>\n",
       "      <td>4</td>\n",
       "      <td>22406</td>\n",
       "      <td>518.0</td>\n",
       "      <td>463.0</td>\n",
       "      <td>2020-01-31 07:24:25</td>\n",
       "      <td>56.798431</td>\n",
       "      <td>56.782021</td>\n",
       "      <td>60.632622</td>\n",
       "      <td>60.681702</td>\n",
       "      <td>6.0</td>\n",
       "      <td>...</td>\n",
       "      <td>56.798378</td>\n",
       "      <td>60.632567</td>\n",
       "      <td>56.798399</td>\n",
       "      <td>60.632575</td>\n",
       "      <td>56.782251</td>\n",
       "      <td>60.682133</td>\n",
       "      <td>56.838633</td>\n",
       "      <td>60.605489</td>\n",
       "      <td>gmtyI{haqJ\\f@??]pA]|@i@t@[Z_@X??c@gDcAoI??aEzB...</td>\n",
       "      <td>NaN</td>\n",
       "    </tr>\n",
       "  </tbody>\n",
       "</table>\n",
       "<p>5 rows × 24 columns</p>\n",
       "</div>"
      ],
      "text/plain": [
       "   Id  main_id_locality     ETA     RTA          OrderedDate   latitude  \\\n",
       "0   0               338  1249.0  1076.0  2020-03-11 20:43:49  45.013191   \n",
       "1   1             22402  1822.0  1812.0  2020-02-03 14:27:22  54.735378   \n",
       "2   2             22394   410.0   336.0  2020-02-22 11:15:02  53.529202   \n",
       "3   3             22406   653.0   558.0  2020-02-26 22:21:28  56.836250   \n",
       "4   4             22406   518.0   463.0  2020-01-31 07:24:25  56.798431   \n",
       "\n",
       "   del_latitude  longitude  del_longitude   EDA  ...  ready_latitude  \\\n",
       "0     45.040428  38.981220      39.026501   7.0  ...       45.012991   \n",
       "1     54.710651  55.961922      55.822079  15.0  ...       54.735327   \n",
       "2     53.543640  49.337990      49.351028   2.0  ...       53.530384   \n",
       "3     56.863159  60.632580      60.654831   4.0  ...       56.836830   \n",
       "4     56.782021  60.632622      60.681702   6.0  ...       56.798378   \n",
       "\n",
       "  ready_longitude onway_latitude onway_longitude  arrived_latitude  \\\n",
       "0       38.981120      45.012991       38.981120         45.040108   \n",
       "1       55.961558      54.735515       55.962046         54.710222   \n",
       "2       49.339986      53.529227       49.338437         53.543038   \n",
       "3       60.633442      56.836830       60.633442         56.862945   \n",
       "4       60.632567      56.798399       60.632575         56.782251   \n",
       "\n",
       "   arrived_longitude  center_latitude  center_longitude  \\\n",
       "0          39.026086        45.040235         38.976080   \n",
       "1          55.822577        54.734853         55.957865   \n",
       "2          49.350991        53.516670         49.416670   \n",
       "3          60.654256        56.838633         60.605489   \n",
       "4          60.682133        56.838633         60.605489   \n",
       "\n",
       "                                               route  \\\n",
       "0  stvqG{n|lFf@bCN|@NhBH~D?n@MvC_@rES`B??YFWCoAgE...   \n",
       "1  ooamI}`qtIXtE??h@_@|@^??lAaN??jA`@??XwD`@_E|@u...   \n",
       "2  u}ueI_hclHwBkGaDqJo@oA]OiCuHK[M{@??Ag@Ie@UYSIU...   \n",
       "3  qy{yIshaqJuADoAS_Bb@??UiE??wIfCgOrD}FhB_Bd@??m...   \n",
       "4  gmtyI{haqJ\\f@??]pA]|@i@t@[Z_@X??c@gDcAoI??aEzB...   \n",
       "\n",
       "                                               track  \n",
       "0                                                NaN  \n",
       "1  m_qtI}namIWEQASCO?@B@@A@??????????EAKEBKHGDA??...  \n",
       "2  wlclHk}ueIGJVH????LJEJ\\AtCJbBTHFVB?n@hC\\`@iBiA...  \n",
       "3  upaqJ{b|yI??^Dl@RFRCTFPNP?PIXGVAH????AA?????A@...  \n",
       "4                                                NaN  \n",
       "\n",
       "[5 rows x 24 columns]"
      ]
     },
     "execution_count": 3,
     "metadata": {},
     "output_type": "execute_result"
    }
   ],
   "source": [
    "df.head()"
   ]
  },
  {
   "cell_type": "code",
   "execution_count": 4,
   "metadata": {
    "ExecuteTime": {
     "end_time": "2020-04-25T09:37:56.681281Z",
     "start_time": "2020-04-25T09:37:56.668117Z"
    }
   },
   "outputs": [
    {
     "data": {
      "text/plain": [
       "array([  338, 22394, 22402, 22406])"
      ]
     },
     "execution_count": 4,
     "metadata": {},
     "output_type": "execute_result"
    }
   ],
   "source": [
    "np.unique(df.main_id_locality)"
   ]
  },
  {
   "cell_type": "code",
   "execution_count": 5,
   "metadata": {
    "ExecuteTime": {
     "end_time": "2020-04-25T09:37:56.685096Z",
     "start_time": "2020-04-25T09:37:56.682791Z"
    }
   },
   "outputs": [],
   "source": [
    "city_dict = { \n",
    "    338: \"Краснодар\",\n",
    "    22394: \"Тольятти\",\n",
    "    22402: \"Уфа\",\n",
    "    22406: \"Екатеринбург\"\n",
    "}"
   ]
  },
  {
   "cell_type": "code",
   "execution_count": 20,
   "metadata": {},
   "outputs": [],
   "source": [
    "city_coords = {\n",
    "    \"Краснодар\": (45.035470, 38.975313)\n",
    "}"
   ]
  },
  {
   "cell_type": "code",
   "execution_count": 6,
   "metadata": {
    "ExecuteTime": {
     "end_time": "2020-04-25T09:37:56.806327Z",
     "start_time": "2020-04-25T09:37:56.686341Z"
    }
   },
   "outputs": [],
   "source": [
    "df['city'] = df.main_id_locality.apply(lambda x: city_dict[x])"
   ]
  },
  {
   "cell_type": "code",
   "execution_count": 7,
   "metadata": {
    "ExecuteTime": {
     "end_time": "2020-04-25T09:37:58.189069Z",
     "start_time": "2020-04-25T09:37:58.167868Z"
    }
   },
   "outputs": [
    {
     "data": {
      "text/html": [
       "<div>\n",
       "<style scoped>\n",
       "    .dataframe tbody tr th:only-of-type {\n",
       "        vertical-align: middle;\n",
       "    }\n",
       "\n",
       "    .dataframe tbody tr th {\n",
       "        vertical-align: top;\n",
       "    }\n",
       "\n",
       "    .dataframe thead th {\n",
       "        text-align: right;\n",
       "    }\n",
       "</style>\n",
       "<table border=\"1\" class=\"dataframe\">\n",
       "  <thead>\n",
       "    <tr style=\"text-align: right;\">\n",
       "      <th></th>\n",
       "      <th>Id</th>\n",
       "      <th>main_id_locality</th>\n",
       "      <th>ETA</th>\n",
       "      <th>RTA</th>\n",
       "      <th>OrderedDate</th>\n",
       "      <th>latitude</th>\n",
       "      <th>del_latitude</th>\n",
       "      <th>longitude</th>\n",
       "      <th>del_longitude</th>\n",
       "      <th>EDA</th>\n",
       "      <th>...</th>\n",
       "      <th>ready_longitude</th>\n",
       "      <th>onway_latitude</th>\n",
       "      <th>onway_longitude</th>\n",
       "      <th>arrived_latitude</th>\n",
       "      <th>arrived_longitude</th>\n",
       "      <th>center_latitude</th>\n",
       "      <th>center_longitude</th>\n",
       "      <th>route</th>\n",
       "      <th>track</th>\n",
       "      <th>city</th>\n",
       "    </tr>\n",
       "  </thead>\n",
       "  <tbody>\n",
       "    <tr>\n",
       "      <th>0</th>\n",
       "      <td>0</td>\n",
       "      <td>338</td>\n",
       "      <td>1249.0</td>\n",
       "      <td>1076.0</td>\n",
       "      <td>2020-03-11 20:43:49</td>\n",
       "      <td>45.013191</td>\n",
       "      <td>45.040428</td>\n",
       "      <td>38.981220</td>\n",
       "      <td>39.026501</td>\n",
       "      <td>7.0</td>\n",
       "      <td>...</td>\n",
       "      <td>38.981120</td>\n",
       "      <td>45.012991</td>\n",
       "      <td>38.981120</td>\n",
       "      <td>45.040108</td>\n",
       "      <td>39.026086</td>\n",
       "      <td>45.040235</td>\n",
       "      <td>38.976080</td>\n",
       "      <td>stvqG{n|lFf@bCN|@NhBH~D?n@MvC_@rES`B??YFWCoAgE...</td>\n",
       "      <td>NaN</td>\n",
       "      <td>Краснодар</td>\n",
       "    </tr>\n",
       "    <tr>\n",
       "      <th>1</th>\n",
       "      <td>1</td>\n",
       "      <td>22402</td>\n",
       "      <td>1822.0</td>\n",
       "      <td>1812.0</td>\n",
       "      <td>2020-02-03 14:27:22</td>\n",
       "      <td>54.735378</td>\n",
       "      <td>54.710651</td>\n",
       "      <td>55.961922</td>\n",
       "      <td>55.822079</td>\n",
       "      <td>15.0</td>\n",
       "      <td>...</td>\n",
       "      <td>55.961558</td>\n",
       "      <td>54.735515</td>\n",
       "      <td>55.962046</td>\n",
       "      <td>54.710222</td>\n",
       "      <td>55.822577</td>\n",
       "      <td>54.734853</td>\n",
       "      <td>55.957865</td>\n",
       "      <td>ooamI}`qtIXtE??h@_@|@^??lAaN??jA`@??XwD`@_E|@u...</td>\n",
       "      <td>m_qtI}namIWEQASCO?@B@@A@??????????EAKEBKHGDA??...</td>\n",
       "      <td>Уфа</td>\n",
       "    </tr>\n",
       "    <tr>\n",
       "      <th>2</th>\n",
       "      <td>2</td>\n",
       "      <td>22394</td>\n",
       "      <td>410.0</td>\n",
       "      <td>336.0</td>\n",
       "      <td>2020-02-22 11:15:02</td>\n",
       "      <td>53.529202</td>\n",
       "      <td>53.543640</td>\n",
       "      <td>49.337990</td>\n",
       "      <td>49.351028</td>\n",
       "      <td>2.0</td>\n",
       "      <td>...</td>\n",
       "      <td>49.339986</td>\n",
       "      <td>53.529227</td>\n",
       "      <td>49.338437</td>\n",
       "      <td>53.543038</td>\n",
       "      <td>49.350991</td>\n",
       "      <td>53.516670</td>\n",
       "      <td>49.416670</td>\n",
       "      <td>u}ueI_hclHwBkGaDqJo@oA]OiCuHK[M{@??Ag@Ie@UYSIU...</td>\n",
       "      <td>wlclHk}ueIGJVH????LJEJ\\AtCJbBTHFVB?n@hC\\`@iBiA...</td>\n",
       "      <td>Тольятти</td>\n",
       "    </tr>\n",
       "    <tr>\n",
       "      <th>3</th>\n",
       "      <td>3</td>\n",
       "      <td>22406</td>\n",
       "      <td>653.0</td>\n",
       "      <td>558.0</td>\n",
       "      <td>2020-02-26 22:21:28</td>\n",
       "      <td>56.836250</td>\n",
       "      <td>56.863159</td>\n",
       "      <td>60.632580</td>\n",
       "      <td>60.654831</td>\n",
       "      <td>4.0</td>\n",
       "      <td>...</td>\n",
       "      <td>60.633442</td>\n",
       "      <td>56.836830</td>\n",
       "      <td>60.633442</td>\n",
       "      <td>56.862945</td>\n",
       "      <td>60.654256</td>\n",
       "      <td>56.838633</td>\n",
       "      <td>60.605489</td>\n",
       "      <td>qy{yIshaqJuADoAS_Bb@??UiE??wIfCgOrD}FhB_Bd@??m...</td>\n",
       "      <td>upaqJ{b|yI??^Dl@RFRCTFPNP?PIXGVAH????AA?????A@...</td>\n",
       "      <td>Екатеринбург</td>\n",
       "    </tr>\n",
       "    <tr>\n",
       "      <th>4</th>\n",
       "      <td>4</td>\n",
       "      <td>22406</td>\n",
       "      <td>518.0</td>\n",
       "      <td>463.0</td>\n",
       "      <td>2020-01-31 07:24:25</td>\n",
       "      <td>56.798431</td>\n",
       "      <td>56.782021</td>\n",
       "      <td>60.632622</td>\n",
       "      <td>60.681702</td>\n",
       "      <td>6.0</td>\n",
       "      <td>...</td>\n",
       "      <td>60.632567</td>\n",
       "      <td>56.798399</td>\n",
       "      <td>60.632575</td>\n",
       "      <td>56.782251</td>\n",
       "      <td>60.682133</td>\n",
       "      <td>56.838633</td>\n",
       "      <td>60.605489</td>\n",
       "      <td>gmtyI{haqJ\\f@??]pA]|@i@t@[Z_@X??c@gDcAoI??aEzB...</td>\n",
       "      <td>NaN</td>\n",
       "      <td>Екатеринбург</td>\n",
       "    </tr>\n",
       "  </tbody>\n",
       "</table>\n",
       "<p>5 rows × 25 columns</p>\n",
       "</div>"
      ],
      "text/plain": [
       "   Id  main_id_locality     ETA     RTA          OrderedDate   latitude  \\\n",
       "0   0               338  1249.0  1076.0  2020-03-11 20:43:49  45.013191   \n",
       "1   1             22402  1822.0  1812.0  2020-02-03 14:27:22  54.735378   \n",
       "2   2             22394   410.0   336.0  2020-02-22 11:15:02  53.529202   \n",
       "3   3             22406   653.0   558.0  2020-02-26 22:21:28  56.836250   \n",
       "4   4             22406   518.0   463.0  2020-01-31 07:24:25  56.798431   \n",
       "\n",
       "   del_latitude  longitude  del_longitude   EDA  ...  ready_longitude  \\\n",
       "0     45.040428  38.981220      39.026501   7.0  ...        38.981120   \n",
       "1     54.710651  55.961922      55.822079  15.0  ...        55.961558   \n",
       "2     53.543640  49.337990      49.351028   2.0  ...        49.339986   \n",
       "3     56.863159  60.632580      60.654831   4.0  ...        60.633442   \n",
       "4     56.782021  60.632622      60.681702   6.0  ...        60.632567   \n",
       "\n",
       "  onway_latitude onway_longitude arrived_latitude  arrived_longitude  \\\n",
       "0      45.012991       38.981120        45.040108          39.026086   \n",
       "1      54.735515       55.962046        54.710222          55.822577   \n",
       "2      53.529227       49.338437        53.543038          49.350991   \n",
       "3      56.836830       60.633442        56.862945          60.654256   \n",
       "4      56.798399       60.632575        56.782251          60.682133   \n",
       "\n",
       "   center_latitude  center_longitude  \\\n",
       "0        45.040235         38.976080   \n",
       "1        54.734853         55.957865   \n",
       "2        53.516670         49.416670   \n",
       "3        56.838633         60.605489   \n",
       "4        56.838633         60.605489   \n",
       "\n",
       "                                               route  \\\n",
       "0  stvqG{n|lFf@bCN|@NhBH~D?n@MvC_@rES`B??YFWCoAgE...   \n",
       "1  ooamI}`qtIXtE??h@_@|@^??lAaN??jA`@??XwD`@_E|@u...   \n",
       "2  u}ueI_hclHwBkGaDqJo@oA]OiCuHK[M{@??Ag@Ie@UYSIU...   \n",
       "3  qy{yIshaqJuADoAS_Bb@??UiE??wIfCgOrD}FhB_Bd@??m...   \n",
       "4  gmtyI{haqJ\\f@??]pA]|@i@t@[Z_@X??c@gDcAoI??aEzB...   \n",
       "\n",
       "                                               track          city  \n",
       "0                                                NaN     Краснодар  \n",
       "1  m_qtI}namIWEQASCO?@B@@A@??????????EAKEBKHGDA??...           Уфа  \n",
       "2  wlclHk}ueIGJVH????LJEJ\\AtCJbBTHFVB?n@hC\\`@iBiA...      Тольятти  \n",
       "3  upaqJ{b|yI??^Dl@RFRCTFPNP?PIXGVAH????AA?????A@...  Екатеринбург  \n",
       "4                                                NaN  Екатеринбург  \n",
       "\n",
       "[5 rows x 25 columns]"
      ]
     },
     "execution_count": 7,
     "metadata": {},
     "output_type": "execute_result"
    }
   ],
   "source": [
    "df.head()"
   ]
  },
  {
   "cell_type": "code",
   "execution_count": 8,
   "metadata": {
    "ExecuteTime": {
     "end_time": "2020-04-25T09:38:00.010421Z",
     "start_time": "2020-04-25T09:37:59.708035Z"
    }
   },
   "outputs": [
    {
     "data": {
      "text/html": [
       "<div>\n",
       "<style scoped>\n",
       "    .dataframe tbody tr th:only-of-type {\n",
       "        vertical-align: middle;\n",
       "    }\n",
       "\n",
       "    .dataframe tbody tr th {\n",
       "        vertical-align: top;\n",
       "    }\n",
       "\n",
       "    .dataframe thead th {\n",
       "        text-align: right;\n",
       "    }\n",
       "</style>\n",
       "<table border=\"1\" class=\"dataframe\">\n",
       "  <thead>\n",
       "    <tr style=\"text-align: right;\">\n",
       "      <th></th>\n",
       "      <th>ETA</th>\n",
       "      <th>RTA</th>\n",
       "    </tr>\n",
       "    <tr>\n",
       "      <th>city</th>\n",
       "      <th></th>\n",
       "      <th></th>\n",
       "    </tr>\n",
       "  </thead>\n",
       "  <tbody>\n",
       "    <tr>\n",
       "      <th>Екатеринбург</th>\n",
       "      <td>1074.206074</td>\n",
       "      <td>981.944779</td>\n",
       "    </tr>\n",
       "    <tr>\n",
       "      <th>Краснодар</th>\n",
       "      <td>1079.602798</td>\n",
       "      <td>941.468390</td>\n",
       "    </tr>\n",
       "    <tr>\n",
       "      <th>Тольятти</th>\n",
       "      <td>797.363446</td>\n",
       "      <td>612.176717</td>\n",
       "    </tr>\n",
       "    <tr>\n",
       "      <th>Уфа</th>\n",
       "      <td>956.302418</td>\n",
       "      <td>807.959151</td>\n",
       "    </tr>\n",
       "  </tbody>\n",
       "</table>\n",
       "</div>"
      ],
      "text/plain": [
       "                      ETA         RTA\n",
       "city                                 \n",
       "Екатеринбург  1074.206074  981.944779\n",
       "Краснодар     1079.602798  941.468390\n",
       "Тольятти       797.363446  612.176717\n",
       "Уфа            956.302418  807.959151"
      ]
     },
     "execution_count": 8,
     "metadata": {},
     "output_type": "execute_result"
    }
   ],
   "source": [
    "df.groupby(by=['city']).mean()[['ETA', 'RTA']]"
   ]
  },
  {
   "cell_type": "markdown",
   "metadata": {},
   "source": [
    "### Аналитика по городу"
   ]
  },
  {
   "cell_type": "code",
   "execution_count": 62,
   "metadata": {
    "ExecuteTime": {
     "end_time": "2020-04-25T09:38:04.120498Z",
     "start_time": "2020-04-25T09:38:04.114573Z"
    }
   },
   "outputs": [],
   "source": [
    "df['TIME_DIFF'] = df.ETA - df.RTA"
   ]
  },
  {
   "cell_type": "code",
   "execution_count": 63,
   "metadata": {},
   "outputs": [],
   "source": [
    "city_name = \"Краснодар\""
   ]
  },
  {
   "cell_type": "code",
   "execution_count": 64,
   "metadata": {
    "ExecuteTime": {
     "end_time": "2020-04-25T09:38:04.383658Z",
     "start_time": "2020-04-25T09:38:04.258297Z"
    }
   },
   "outputs": [],
   "source": [
    "df_ = df[(df.city == city_name)]"
   ]
  },
  {
   "cell_type": "code",
   "execution_count": 65,
   "metadata": {
    "ExecuteTime": {
     "end_time": "2020-04-25T09:38:04.921666Z",
     "start_time": "2020-04-25T09:38:04.634241Z"
    }
   },
   "outputs": [
    {
     "data": {
      "text/plain": [
       "<matplotlib.collections.PathCollection at 0x7f93a4d499b0>"
      ]
     },
     "execution_count": 65,
     "metadata": {},
     "output_type": "execute_result"
    },
    {
     "data": {
      "image/png": "[encoded data removed]",
      "text/plain": [
       "<Figure size 432x288 with 1 Axes>"
      ]
     },
     "metadata": {
      "needs_background": "light"
     },
     "output_type": "display_data"
    }
   ],
   "source": [
    "plt.scatter(df_['latitude'], df_['longitude'])"
   ]
  },
  {
   "cell_type": "markdown",
   "metadata": {},
   "source": [
    "Расхожение по времени:"
   ]
  },
  {
   "cell_type": "code",
   "execution_count": 66,
   "metadata": {},
   "outputs": [
    {
     "data": {
      "text/plain": [
       "<matplotlib.axes._subplots.AxesSubplot at 0x7f93a4c95828>"
      ]
     },
     "execution_count": 66,
     "metadata": {},
     "output_type": "execute_result"
    },
    {
     "data": {
      "image/png": "[encoded data removed]",
      "text/plain": [
       "<Figure size 432x288 with 1 Axes>"
      ]
     },
     "metadata": {
      "needs_background": "light"
     },
     "output_type": "display_data"
    }
   ],
   "source": [
    "df_['TIME_DIFF'].hist(bins=100)"
   ]
  },
  {
   "cell_type": "code",
   "execution_count": null,
   "metadata": {},
   "outputs": [],
   "source": [
    " "
   ]
  },
  {
   "cell_type": "code",
   "execution_count": 70,
   "metadata": {
    "ExecuteTime": {
     "end_time": "2020-04-25T09:38:06.850362Z",
     "start_time": "2020-04-25T09:38:06.786293Z"
    }
   },
   "outputs": [],
   "source": [
    "df_ = df[(df.city == city_name) & (df['TIME_DIFF'] < -500) & \n",
    "         (df['latitude'] > 44.9) & (df['latitude'] < 45.1) & \n",
    "         (df['longitude'] > 38.9) & (df['longitude'] < 39.1)]"
   ]
  },
  {
   "cell_type": "code",
   "execution_count": 71,
   "metadata": {},
   "outputs": [
    {
     "data": {
      "text/plain": [
       "(3755, 26)"
      ]
     },
     "execution_count": 71,
     "metadata": {},
     "output_type": "execute_result"
    }
   ],
   "source": [
    "df_.shape"
   ]
  },
  {
   "cell_type": "code",
   "execution_count": 72,
   "metadata": {},
   "outputs": [
    {
     "data": {
      "text/html": [
       "<div>\n",
       "<style scoped>\n",
       "    .dataframe tbody tr th:only-of-type {\n",
       "        vertical-align: middle;\n",
       "    }\n",
       "\n",
       "    .dataframe tbody tr th {\n",
       "        vertical-align: top;\n",
       "    }\n",
       "\n",
       "    .dataframe thead th {\n",
       "        text-align: right;\n",
       "    }\n",
       "</style>\n",
       "<table border=\"1\" class=\"dataframe\">\n",
       "  <thead>\n",
       "    <tr style=\"text-align: right;\">\n",
       "      <th></th>\n",
       "      <th>Id</th>\n",
       "      <th>main_id_locality</th>\n",
       "      <th>ETA</th>\n",
       "      <th>RTA</th>\n",
       "      <th>OrderedDate</th>\n",
       "      <th>latitude</th>\n",
       "      <th>del_latitude</th>\n",
       "      <th>longitude</th>\n",
       "      <th>del_longitude</th>\n",
       "      <th>EDA</th>\n",
       "      <th>...</th>\n",
       "      <th>onway_latitude</th>\n",
       "      <th>onway_longitude</th>\n",
       "      <th>arrived_latitude</th>\n",
       "      <th>arrived_longitude</th>\n",
       "      <th>center_latitude</th>\n",
       "      <th>center_longitude</th>\n",
       "      <th>route</th>\n",
       "      <th>track</th>\n",
       "      <th>city</th>\n",
       "      <th>TIME_DIFF</th>\n",
       "    </tr>\n",
       "  </thead>\n",
       "  <tbody>\n",
       "    <tr>\n",
       "      <th>195</th>\n",
       "      <td>195</td>\n",
       "      <td>338</td>\n",
       "      <td>2648.0</td>\n",
       "      <td>3739.0</td>\n",
       "      <td>2020-03-02 17:45:24</td>\n",
       "      <td>45.021801</td>\n",
       "      <td>45.069820</td>\n",
       "      <td>39.031288</td>\n",
       "      <td>39.014820</td>\n",
       "      <td>10.0</td>\n",
       "      <td>...</td>\n",
       "      <td>45.020961</td>\n",
       "      <td>39.028507</td>\n",
       "      <td>45.069658</td>\n",
       "      <td>39.014688</td>\n",
       "      <td>45.040235</td>\n",
       "      <td>38.97608</td>\n",
       "      <td>gixqGqhfmF_@]WI[NQVc@\\Wj@Gr@DnAP^r@h@Ff@sAlL}B...</td>\n",
       "      <td>NaN</td>\n",
       "      <td>Краснодар</td>\n",
       "      <td>-1091.0</td>\n",
       "    </tr>\n",
       "    <tr>\n",
       "      <th>606</th>\n",
       "      <td>606</td>\n",
       "      <td>338</td>\n",
       "      <td>2372.0</td>\n",
       "      <td>3111.0</td>\n",
       "      <td>2020-02-04 17:22:55</td>\n",
       "      <td>45.014469</td>\n",
       "      <td>45.060341</td>\n",
       "      <td>38.984951</td>\n",
       "      <td>39.009930</td>\n",
       "      <td>10.0</td>\n",
       "      <td>...</td>\n",
       "      <td>45.015539</td>\n",
       "      <td>38.987921</td>\n",
       "      <td>45.060802</td>\n",
       "      <td>39.009745</td>\n",
       "      <td>45.040235</td>\n",
       "      <td>38.97608</td>\n",
       "      <td>m{vqG_g}lFYP??g@_CWgAwBsJeAgEaCmHgDqJwKoYQq@M}...</td>\n",
       "      <td>wr}lF_`wqGqB_@eBc@q@OIAB@CC[Iw@OmA_@y@SyAk@oAa...</td>\n",
       "      <td>Краснодар</td>\n",
       "      <td>-739.0</td>\n",
       "    </tr>\n",
       "    <tr>\n",
       "      <th>753</th>\n",
       "      <td>753</td>\n",
       "      <td>338</td>\n",
       "      <td>1374.0</td>\n",
       "      <td>2360.0</td>\n",
       "      <td>2020-03-11 06:42:10</td>\n",
       "      <td>44.998619</td>\n",
       "      <td>44.999889</td>\n",
       "      <td>38.983158</td>\n",
       "      <td>38.961529</td>\n",
       "      <td>11.0</td>\n",
       "      <td>...</td>\n",
       "      <td>NaN</td>\n",
       "      <td>NaN</td>\n",
       "      <td>NaN</td>\n",
       "      <td>NaN</td>\n",
       "      <td>45.040235</td>\n",
       "      <td>38.97608</td>\n",
       "      <td>}ysqG}~|lFk@iBo@aDiAcEa@iAI{@y@iD?e@fD{B??_BaH...</td>\n",
       "      <td>NaN</td>\n",
       "      <td>Краснодар</td>\n",
       "      <td>-986.0</td>\n",
       "    </tr>\n",
       "    <tr>\n",
       "      <th>1013</th>\n",
       "      <td>1013</td>\n",
       "      <td>338</td>\n",
       "      <td>3627.0</td>\n",
       "      <td>4346.0</td>\n",
       "      <td>2020-02-21 16:42:58</td>\n",
       "      <td>45.015331</td>\n",
       "      <td>45.054920</td>\n",
       "      <td>38.916870</td>\n",
       "      <td>39.003719</td>\n",
       "      <td>15.0</td>\n",
       "      <td>...</td>\n",
       "      <td>45.015317</td>\n",
       "      <td>38.917122</td>\n",
       "      <td>45.054871</td>\n",
       "      <td>39.003837</td>\n",
       "      <td>45.040235</td>\n",
       "      <td>38.97608</td>\n",
       "      <td>y`wqGo}olFjApB??rBwC??lBdD??vGwKrL_RnGcKdQsTvK...</td>\n",
       "      <td>o_plF{_wqG???????????????????A?E@ACA??DCJKLIJA...</td>\n",
       "      <td>Краснодар</td>\n",
       "      <td>-719.0</td>\n",
       "    </tr>\n",
       "    <tr>\n",
       "      <th>1205</th>\n",
       "      <td>1205</td>\n",
       "      <td>338</td>\n",
       "      <td>1055.0</td>\n",
       "      <td>1829.0</td>\n",
       "      <td>2020-02-26 16:53:14</td>\n",
       "      <td>45.054070</td>\n",
       "      <td>45.065262</td>\n",
       "      <td>38.985710</td>\n",
       "      <td>39.007881</td>\n",
       "      <td>3.0</td>\n",
       "      <td>...</td>\n",
       "      <td>45.056707</td>\n",
       "      <td>38.985316</td>\n",
       "      <td>45.064895</td>\n",
       "      <td>39.009016</td>\n",
       "      <td>45.040235</td>\n",
       "      <td>38.97608</td>\n",
       "      <td>mr~qG}k}lFCY??yF@q@H}Cr@qFxAw@N[DkF\\??K}AWeC??...</td>\n",
       "      <td>uh}lFqe_rG@???A@@A?????????E@G@E@E?A@A?A??????...</td>\n",
       "      <td>Краснодар</td>\n",
       "      <td>-774.0</td>\n",
       "    </tr>\n",
       "  </tbody>\n",
       "</table>\n",
       "<p>5 rows × 26 columns</p>\n",
       "</div>"
      ],
      "text/plain": [
       "        Id  main_id_locality     ETA     RTA          OrderedDate   latitude  \\\n",
       "195    195               338  2648.0  3739.0  2020-03-02 17:45:24  45.021801   \n",
       "606    606               338  2372.0  3111.0  2020-02-04 17:22:55  45.014469   \n",
       "753    753               338  1374.0  2360.0  2020-03-11 06:42:10  44.998619   \n",
       "1013  1013               338  3627.0  4346.0  2020-02-21 16:42:58  45.015331   \n",
       "1205  1205               338  1055.0  1829.0  2020-02-26 16:53:14  45.054070   \n",
       "\n",
       "      del_latitude  longitude  del_longitude   EDA  ...  onway_latitude  \\\n",
       "195      45.069820  39.031288      39.014820  10.0  ...       45.020961   \n",
       "606      45.060341  38.984951      39.009930  10.0  ...       45.015539   \n",
       "753      44.999889  38.983158      38.961529  11.0  ...             NaN   \n",
       "1013     45.054920  38.916870      39.003719  15.0  ...       45.015317   \n",
       "1205     45.065262  38.985710      39.007881   3.0  ...       45.056707   \n",
       "\n",
       "     onway_longitude arrived_latitude arrived_longitude  center_latitude  \\\n",
       "195        39.028507        45.069658         39.014688        45.040235   \n",
       "606        38.987921        45.060802         39.009745        45.040235   \n",
       "753              NaN              NaN               NaN        45.040235   \n",
       "1013       38.917122        45.054871         39.003837        45.040235   \n",
       "1205       38.985316        45.064895         39.009016        45.040235   \n",
       "\n",
       "      center_longitude                                              route  \\\n",
       "195           38.97608  gixqGqhfmF_@]WI[NQVc@\\Wj@Gr@DnAP^r@h@Ff@sAlL}B...   \n",
       "606           38.97608  m{vqG_g}lFYP??g@_CWgAwBsJeAgEaCmHgDqJwKoYQq@M}...   \n",
       "753           38.97608  }ysqG}~|lFk@iBo@aDiAcEa@iAI{@y@iD?e@fD{B??_BaH...   \n",
       "1013          38.97608  y`wqGo}olFjApB??rBwC??lBdD??vGwKrL_RnGcKdQsTvK...   \n",
       "1205          38.97608  mr~qG}k}lFCY??yF@q@H}Cr@qFxAw@N[DkF\\??K}AWeC??...   \n",
       "\n",
       "                                                  track       city  TIME_DIFF  \n",
       "195                                                 NaN  Краснодар    -1091.0  \n",
       "606   wr}lF_`wqGqB_@eBc@q@OIAB@CC[Iw@OmA_@y@SyAk@oAa...  Краснодар     -739.0  \n",
       "753                                                 NaN  Краснодар     -986.0  \n",
       "1013  o_plF{_wqG???????????????????A?E@ACA??DCJKLIJA...  Краснодар     -719.0  \n",
       "1205  uh}lFqe_rG@???A@@A?????????E@G@E@E?A@A?A??????...  Краснодар     -774.0  \n",
       "\n",
       "[5 rows x 26 columns]"
      ]
     },
     "execution_count": 72,
     "metadata": {},
     "output_type": "execute_result"
    }
   ],
   "source": [
    "df_.head()"
   ]
  },
  {
   "cell_type": "code",
   "execution_count": 73,
   "metadata": {
    "ExecuteTime": {
     "end_time": "2020-04-25T09:38:08.271518Z",
     "start_time": "2020-04-25T09:38:08.106493Z"
    }
   },
   "outputs": [
    {
     "data": {
      "text/plain": [
       "<matplotlib.collections.PathCollection at 0x7f93a4b4d320>"
      ]
     },
     "execution_count": 73,
     "metadata": {},
     "output_type": "execute_result"
    },
    {
     "data": {
      "image/png": "[encoded data removed]",
      "text/plain": [
       "<Figure size 432x288 with 1 Axes>"
      ]
     },
     "metadata": {
      "needs_background": "light"
     },
     "output_type": "display_data"
    }
   ],
   "source": [
    "plt.scatter(df_['latitude'], df_['longitude'])"
   ]
  },
  {
   "cell_type": "code",
   "execution_count": 74,
   "metadata": {},
   "outputs": [
    {
     "data": {
      "text/plain": [
       "<matplotlib.collections.PathCollection at 0x7f93a4299ba8>"
      ]
     },
     "execution_count": 74,
     "metadata": {},
     "output_type": "execute_result"
    },
    {
     "data": {
      "image/png": "[encoded data removed]",
      "text/plain": [
       "<Figure size 432x288 with 1 Axes>"
      ]
     },
     "metadata": {
      "needs_background": "light"
     },
     "output_type": "display_data"
    }
   ],
   "source": [
    "plt.scatter(df_['del_latitude'], df_['del_longitude'])"
   ]
  },
  {
   "cell_type": "code",
   "execution_count": 18,
   "metadata": {
    "ExecuteTime": {
     "end_time": "2020-04-25T09:38:15.103452Z",
     "start_time": "2020-04-25T09:38:15.101321Z"
    }
   },
   "outputs": [],
   "source": [
    "# !pip install folium"
   ]
  },
  {
   "cell_type": "code",
   "execution_count": 75,
   "metadata": {
    "ExecuteTime": {
     "end_time": "2020-04-25T09:38:17.236602Z",
     "start_time": "2020-04-25T09:38:16.920763Z"
    }
   },
   "outputs": [],
   "source": [
    "import folium"
   ]
  },
  {
   "cell_type": "code",
   "execution_count": 76,
   "metadata": {
    "ExecuteTime": {
     "end_time": "2020-04-25T09:38:17.864144Z",
     "start_time": "2020-04-25T09:38:17.854869Z"
    }
   },
   "outputs": [],
   "source": [
    "\n"
   ]
  },
  {
   "cell_type": "code",
   "execution_count": 85,
   "metadata": {
    "ExecuteTime": {
     "end_time": "2020-04-25T09:38:37.641138Z",
     "start_time": "2020-04-25T09:38:37.604195Z"
    }
   },
   "outputs": [
    {
     "data": {
      "text/html": [
       "<div style=\"width:100%;\"><div style=\"position:relative;width:100%;height:0;padding-bottom:60%;\"><iframe src=\"about:blank\" style=\"position:absolute;width:100%;height:100%;left:0;top:0;border:none !important;\" data-html=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 onload=\"this.contentDocument.open();this.contentDocument.write(atob(this.getAttribute('data-html')));this.contentDocument.close();\" allowfullscreen webkitallowfullscreen mozallowfullscreen></iframe></div></div>"
      ],
      "text/plain": [
       "<folium.folium.Map at 0x7f938cf54d30>"
      ]
     },
     "execution_count": 85,
     "metadata": {},
     "output_type": "execute_result"
    }
   ],
   "source": [
    "city_map = folium.Map(\n",
    "                location=city_coords[city_name],\n",
    "                zoom_start=10\n",
    "            )\n",
    "\n",
    "# instantiate a feature group for the incidents in the dataframe\n",
    "incidents = folium.map.FeatureGroup()\n",
    "\n",
    "num_trips = 6\n",
    "for i, (lat_start, lng_start, lat_end, lng_end) in enumerate(zip(df_['latitude'][:num_trips], df_['longitude'][:num_trips], \n",
    "                                                  df_['del_latitude'][:num_trips], df_['del_longitude'][:num_trips])):\n",
    "    incidents.add_child(\n",
    "        folium.vector_layers.CircleMarker(\n",
    "            [lat_start, lng_start],\n",
    "            radius=5, # define how big you want the circle markers to be\n",
    "            color='yellow',\n",
    "            fill=True,\n",
    "            fill_color='blue',\n",
    "            fill_opacity=0.6,\n",
    "            popup='route: {}, start: lat: {}, long: {}'.format(i, lat, lng)\n",
    "        )\n",
    "    ).add_to(city_map)\n",
    "    \n",
    "    incidents.add_child(\n",
    "        folium.vector_layers.CircleMarker(\n",
    "            [lat_end, lng_end],\n",
    "            radius=5, # define how big you want the circle markers to be\n",
    "            color='red',\n",
    "            fill=True,\n",
    "            fill_color='blue',\n",
    "            fill_opacity=0.6,\n",
    "            popup='route: {}, finish: lat: {}, long: {}'.format(i, lat, lng)\n",
    "        )\n",
    "    ).add_to(city_map)\n",
    "\n",
    "city_map"
   ]
  },
  {
   "cell_type": "code",
   "execution_count": 61,
   "metadata": {},
   "outputs": [
    {
     "data": {
      "text/html": [
       "<div>\n",
       "<style scoped>\n",
       "    .dataframe tbody tr th:only-of-type {\n",
       "        vertical-align: middle;\n",
       "    }\n",
       "\n",
       "    .dataframe tbody tr th {\n",
       "        vertical-align: top;\n",
       "    }\n",
       "\n",
       "    .dataframe thead th {\n",
       "        text-align: right;\n",
       "    }\n",
       "</style>\n",
       "<table border=\"1\" class=\"dataframe\">\n",
       "  <thead>\n",
       "    <tr style=\"text-align: right;\">\n",
       "      <th></th>\n",
       "      <th>Id</th>\n",
       "      <th>main_id_locality</th>\n",
       "      <th>ETA</th>\n",
       "      <th>RTA</th>\n",
       "      <th>OrderedDate</th>\n",
       "      <th>latitude</th>\n",
       "      <th>del_latitude</th>\n",
       "      <th>longitude</th>\n",
       "      <th>del_longitude</th>\n",
       "      <th>EDA</th>\n",
       "      <th>...</th>\n",
       "      <th>onway_latitude</th>\n",
       "      <th>onway_longitude</th>\n",
       "      <th>arrived_latitude</th>\n",
       "      <th>arrived_longitude</th>\n",
       "      <th>center_latitude</th>\n",
       "      <th>center_longitude</th>\n",
       "      <th>route</th>\n",
       "      <th>track</th>\n",
       "      <th>city</th>\n",
       "      <th>TIME_DIFF</th>\n",
       "    </tr>\n",
       "  </thead>\n",
       "  <tbody>\n",
       "    <tr>\n",
       "      <th>28</th>\n",
       "      <td>28</td>\n",
       "      <td>338</td>\n",
       "      <td>2413.0</td>\n",
       "      <td>1392.0</td>\n",
       "      <td>2020-03-12 10:10:31</td>\n",
       "      <td>45.060162</td>\n",
       "      <td>45.025089</td>\n",
       "      <td>38.916481</td>\n",
       "      <td>38.95916</td>\n",
       "      <td>9.0</td>\n",
       "      <td>...</td>\n",
       "      <td>45.060378</td>\n",
       "      <td>38.916168</td>\n",
       "      <td>45.025165</td>\n",
       "      <td>38.959393</td>\n",
       "      <td>45.040235</td>\n",
       "      <td>38.97608</td>\n",
       "      <td>_y_rGa{olFlBhB??V}@??b]z[h@j@JR??VbAP~@??t@NF?...</td>\n",
       "      <td>NaN</td>\n",
       "      <td>Краснодар</td>\n",
       "      <td>1021.0</td>\n",
       "    </tr>\n",
       "  </tbody>\n",
       "</table>\n",
       "<p>1 rows × 26 columns</p>\n",
       "</div>"
      ],
      "text/plain": [
       "    Id  main_id_locality     ETA     RTA          OrderedDate   latitude  \\\n",
       "28  28               338  2413.0  1392.0  2020-03-12 10:10:31  45.060162   \n",
       "\n",
       "    del_latitude  longitude  del_longitude  EDA  ...  onway_latitude  \\\n",
       "28     45.025089  38.916481       38.95916  9.0  ...       45.060378   \n",
       "\n",
       "   onway_longitude arrived_latitude arrived_longitude  center_latitude  \\\n",
       "28       38.916168        45.025165         38.959393        45.040235   \n",
       "\n",
       "    center_longitude                                              route  \\\n",
       "28          38.97608  _y_rGa{olFlBhB??V}@??b]z[h@j@JR??VbAP~@??t@NF?...   \n",
       "\n",
       "    track       city  TIME_DIFF  \n",
       "28    NaN  Краснодар     1021.0  \n",
       "\n",
       "[1 rows x 26 columns]"
      ]
     },
     "execution_count": 61,
     "metadata": {},
     "output_type": "execute_result"
    }
   ],
   "source": [
    "df_.head(1)"
   ]
  },
  {
   "cell_type": "code",
   "execution_count": null,
   "metadata": {},
   "outputs": [],
   "source": []
  }
 ],
 "metadata": {
  "kernelspec": {
   "display_name": "Python (ml)",
   "language": "python",
   "name": "ml"
  },
  "language_info": {
   "codemirror_mode": {
    "name": "ipython",
    "version": 3
   },
   "file_extension": ".py",
   "mimetype": "text/x-python",
   "name": "python",
   "nbconvert_exporter": "python",
   "pygments_lexer": "ipython3",
   "version": "3.6.10"
  },
  "toc": {
   "base_numbering": 1,
   "nav_menu": {},
   "number_sections": true,
   "sideBar": true,
   "skip_h1_title": false,
   "title_cell": "Table of Contents",
   "title_sidebar": "Contents",
   "toc_cell": false,
   "toc_position": {},
   "toc_section_display": true,
   "toc_window_display": false
  }
 },
 "nbformat": 4,
 "nbformat_minor": 4
}
