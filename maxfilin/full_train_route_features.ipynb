{
 "cells": [
  {
   "cell_type": "code",
   "execution_count": null,
   "metadata": {
    "ExecuteTime": {
     "end_time": "2020-04-25T11:13:40.348491Z",
     "start_time": "2020-04-25T11:13:39.690241Z"
    }
   },
   "outputs": [],
   "source": [
    "import pandas as pd\n",
    "import numpy as np\n",
    "import matplotlib.pyplot as plt\n",
    "\n",
    "from collections import Counter\n",
    "\n",
    "from haversine import haversine # too slow\n",
    "from sklearn.model_selection import train_test_split\n",
    "\n",
    "from sklearn.decomposition import PCA\n",
    "from sklearn.cluster import MiniBatchKMeans\n",
    "\n",
    "from catboost import CatBoostRegressor\n",
    "from catboost import cv\n",
    "from catboost import Pool"
   ]
  },
  {
   "cell_type": "markdown",
   "metadata": {},
   "source": [
    "### Загрузка и объединение трейна и валидации"
   ]
  },
  {
   "cell_type": "code",
   "execution_count": null,
   "metadata": {},
   "outputs": [],
   "source": [
    "!ls ../../"
   ]
  },
  {
   "cell_type": "code",
   "execution_count": null,
   "metadata": {
    "ExecuteTime": {
     "end_time": "2020-04-25T11:14:08.768365Z",
     "start_time": "2020-04-25T11:14:02.651301Z"
    }
   },
   "outputs": [],
   "source": [
    "train_df = pd.read_csv('../../data/train.csv')\n",
    "val_df = pd.read_csv('../../data/validation.csv')"
   ]
  },
  {
   "cell_type": "code",
   "execution_count": null,
   "metadata": {
    "ExecuteTime": {
     "end_time": "2020-04-25T11:14:58.281110Z",
     "start_time": "2020-04-25T11:14:57.781053Z"
    }
   },
   "outputs": [],
   "source": [
    "train_df = pd.concat([train_df, val_df])"
   ]
  },
  {
   "cell_type": "code",
   "execution_count": null,
   "metadata": {
    "ExecuteTime": {
     "end_time": "2020-04-25T11:15:05.735675Z",
     "start_time": "2020-04-25T11:15:05.711391Z"
    }
   },
   "outputs": [],
   "source": [
    "train_df.head()"
   ]
  },
  {
   "cell_type": "code",
   "execution_count": null,
   "metadata": {
    "ExecuteTime": {
     "end_time": "2020-04-25T11:15:12.607197Z",
     "start_time": "2020-04-25T11:15:12.451633Z"
    }
   },
   "outputs": [],
   "source": [
    "city_dict = { \n",
    "    338: \"Краснодар\",\n",
    "    22394: \"Тольятти\",\n",
    "    22402: \"Уфа\",\n",
    "    22406: \"Екатеринбург\"\n",
    "}\n",
    "\n",
    "train_df['city'] = train_df.main_id_locality.apply(lambda x: city_dict[x])"
   ]
  },
  {
   "cell_type": "code",
   "execution_count": null,
   "metadata": {
    "ExecuteTime": {
     "end_time": "2020-04-25T11:15:28.114025Z",
     "start_time": "2020-04-25T11:15:26.922142Z"
    }
   },
   "outputs": [],
   "source": [
    "plt.scatter(train_df['latitude'], train_df['longitude'])"
   ]
  },
  {
   "cell_type": "code",
   "execution_count": null,
   "metadata": {
    "ExecuteTime": {
     "end_time": "2020-04-25T11:15:35.986166Z",
     "start_time": "2020-04-25T11:15:35.983094Z"
    }
   },
   "outputs": [],
   "source": [
    "def train_pca(df):\n",
    "    coords = np.vstack((df[['latitude', 'longitude']].values,\n",
    "                    df[['del_latitude', 'del_longitude']].values))\n",
    "    pca = PCA()\n",
    "    pca.fit(coords)\n",
    "    \n",
    "    return pca"
   ]
  },
  {
   "cell_type": "code",
   "execution_count": null,
   "metadata": {
    "ExecuteTime": {
     "end_time": "2020-04-25T11:15:43.542697Z",
     "start_time": "2020-04-25T11:15:43.538987Z"
    }
   },
   "outputs": [],
   "source": [
    "def clusterize(df, n_clusters=100, batch_size=10000, sample_size=500000):\n",
    "    coords = np.vstack((df[['latitude', 'longitude']].values,\n",
    "                    df[['del_latitude', 'del_longitude']].values))\n",
    "    \n",
    "    sample_ind = np.random.permutation(len(coords))[:sample_size]\n",
    "    kmeans = MiniBatchKMeans(n_clusters=n_clusters, batch_size=batch_size).fit(coords[sample_ind])\n",
    "    \n",
    "    return kmeans"
   ]
  },
  {
   "cell_type": "code",
   "execution_count": null,
   "metadata": {
    "ExecuteTime": {
     "end_time": "2020-04-25T11:15:52.121894Z",
     "start_time": "2020-04-25T11:15:52.115150Z"
    }
   },
   "outputs": [],
   "source": [
    "def create_features(df, features_to_use, pca, kmeans, train=False):\n",
    "    # time features\n",
    "    df['OrderedDate_datetime'] = pd.to_datetime(df['OrderedDate'])\n",
    "    df['month'] = df['OrderedDate_datetime'].dt.month\n",
    "    df['hour'] = df['OrderedDate_datetime'].dt.hour\n",
    "    df['week_of_year'] = df['OrderedDate_datetime'].dt.weekofyear\n",
    "    df['day_of_year'] = df['OrderedDate_datetime'].dt.dayofyear\n",
    "    df['day_of_week'] = df['OrderedDate_datetime'].dt.dayofweek\n",
    "    \n",
    "    # geo features\n",
    "    df['haversine'] = df.apply(lambda row: haversine((row['latitude'], row['longitude']), \n",
    "                                                     (row['del_latitude'], row['del_longitude'])), axis=1)\n",
    "    \n",
    "    # maneuvers\n",
    "#     df['n_turns'] = df['step_maneuvers'].apply(lambda s: Counter(s.split('|'))['turn'])\n",
    "    \n",
    "#     df['n_left_directions'] = df['step_direction'].apply(lambda s: Counter(s.split('|'))['left'])\n",
    "#     df['n_right_directions'] = df['step_direction'].apply(lambda s: Counter(s.split('|'))['right'])\n",
    "    \n",
    "    # PCA features\n",
    "    pickup_pca_features = pca.transform(df[['latitude', 'longitude']])\n",
    "    df['pickup_pca0'] = pickup_pca_features[:, 0]\n",
    "    df['pickup_pca1'] = pickup_pca_features[:, 1]\n",
    "    \n",
    "    dropoff_pca_features = pca.transform(df[['del_latitude', 'del_longitude']])\n",
    "    df['dropoff_pca0'] = dropoff_pca_features[:, 0]\n",
    "    df['dropoff_pca1'] = dropoff_pca_features[:, 1]\n",
    "    \n",
    "    # kmeans features\n",
    "    df['pickup_cluster'] = kmeans.predict(df[['latitude', 'longitude']])\n",
    "    df['dropoff_cluster'] = kmeans.predict(df[['del_latitude', 'del_longitude']])\n",
    "    \n",
    "    \n",
    "    if train:\n",
    "        return df[features_to_use + ['RTA']]\n",
    "    \n",
    "    return df[features_to_use]"
   ]
  },
  {
   "cell_type": "code",
   "execution_count": null,
   "metadata": {
    "ExecuteTime": {
     "end_time": "2020-04-25T11:16:00.640362Z",
     "start_time": "2020-04-25T11:16:00.637429Z"
    }
   },
   "outputs": [],
   "source": [
    "features_to_use = ['main_id_locality', 'ETA','month', 'hour', 'week_of_year',\n",
    "                   'day_of_year', 'day_of_week', 'haversine', \n",
    "                   'pickup_pca0', 'pickup_pca1', 'dropoff_pca0', 'dropoff_pca1', \n",
    "                   'pickup_cluster', 'dropoff_cluster']\n",
    "\n",
    "categorical_features = ['main_id_locality',\n",
    "                        'month', 'hour', 'week_of_year', 'day_of_week',\n",
    "                        'pickup_cluster', 'dropoff_cluster']"
   ]
  },
  {
   "cell_type": "code",
   "execution_count": null,
   "metadata": {
    "ExecuteTime": {
     "end_time": "2020-04-25T11:16:06.541134Z",
     "start_time": "2020-04-25T11:16:06.187686Z"
    }
   },
   "outputs": [],
   "source": [
    "pca = train_pca(train_df)"
   ]
  },
  {
   "cell_type": "code",
   "execution_count": null,
   "metadata": {
    "ExecuteTime": {
     "end_time": "2020-04-25T11:16:17.485056Z",
     "start_time": "2020-04-25T11:16:16.360331Z"
    }
   },
   "outputs": [],
   "source": [
    "kmeans = clusterize(train_df)"
   ]
  },
  {
   "cell_type": "code",
   "execution_count": null,
   "metadata": {
    "ExecuteTime": {
     "end_time": "2020-04-25T11:17:03.229177Z",
     "start_time": "2020-04-25T11:16:23.804188Z"
    }
   },
   "outputs": [],
   "source": [
    "train_df = create_features(train_df, features_to_use, pca, kmeans, True)\n",
    "print(train_df.shape)"
   ]
  },
  {
   "cell_type": "code",
   "execution_count": null,
   "metadata": {
    "ExecuteTime": {
     "end_time": "2020-04-25T11:17:03.243726Z",
     "start_time": "2020-04-25T11:17:03.230824Z"
    }
   },
   "outputs": [],
   "source": [
    "train_df.head()"
   ]
  },
  {
   "cell_type": "markdown",
   "metadata": {},
   "source": [
    "### Добавляем фичи маршрута"
   ]
  },
  {
   "cell_type": "code",
   "execution_count": null,
   "metadata": {},
   "outputs": [],
   "source": [
    "train_df_extended = pd.read_csv(\"../../data/train_extended.csv\", index_col=None)"
   ]
  },
  {
   "cell_type": "code",
   "execution_count": null,
   "metadata": {},
   "outputs": [],
   "source": [
    "train_df_extended.shape"
   ]
  },
  {
   "cell_type": "code",
   "execution_count": null,
   "metadata": {},
   "outputs": [],
   "source": [
    "valid_df_extended = pd.read_csv(\"../../data/valid_extended.csv\", index_col=None)"
   ]
  },
  {
   "cell_type": "code",
   "execution_count": null,
   "metadata": {},
   "outputs": [],
   "source": [
    "extended_route_features = pd.concat([train_df_extended, valid_df_extended], axis=0)"
   ]
  },
  {
   "cell_type": "code",
   "execution_count": null,
   "metadata": {},
   "outputs": [],
   "source": [
    "extended_route_features.shape"
   ]
  },
  {
   "cell_type": "code",
   "execution_count": null,
   "metadata": {},
   "outputs": [],
   "source": [
    "train_df = pd.concat([train_df, extended_route_features], axis=1)\n",
    "train_df.shape"
   ]
  },
  {
   "cell_type": "markdown",
   "metadata": {},
   "source": [
    "### Обучение"
   ]
  },
  {
   "cell_type": "code",
   "execution_count": null,
   "metadata": {
    "ExecuteTime": {
     "end_time": "2020-04-25T11:17:26.509872Z",
     "start_time": "2020-04-25T11:17:26.461994Z"
    }
   },
   "outputs": [],
   "source": [
    "X = train_df.drop('RTA', axis=1)\n",
    "y = np.log(train_df['RTA'])"
   ]
  },
  {
   "cell_type": "code",
   "execution_count": null,
   "metadata": {
    "ExecuteTime": {
     "end_time": "2020-04-25T11:17:26.629165Z",
     "start_time": "2020-04-25T11:17:26.626671Z"
    }
   },
   "outputs": [],
   "source": [
    "categorical_features_indicies = [features_to_use.index(feat) for feat in categorical_features]"
   ]
  },
  {
   "cell_type": "code",
   "execution_count": null,
   "metadata": {
    "ExecuteTime": {
     "end_time": "2020-04-25T11:18:31.763584Z",
     "start_time": "2020-04-25T11:17:46.608188Z"
    }
   },
   "outputs": [],
   "source": [
    "model = CatBoostRegressor(loss_function='MAPE')\n",
    "model.fit(\n",
    "    X, y,\n",
    "    cat_features=categorical_features_indicies,\n",
    "    early_stopping_rounds=10,\n",
    "    verbose=False,\n",
    "    plot=True\n",
    ");"
   ]
  },
  {
   "cell_type": "code",
   "execution_count": null,
   "metadata": {
    "ExecuteTime": {
     "end_time": "2020-04-25T11:18:58.325629Z",
     "start_time": "2020-04-25T11:18:58.315306Z"
    }
   },
   "outputs": [],
   "source": [
    "importances = model.get_feature_importance(prettified=True)\n",
    "print(importances)"
   ]
  },
  {
   "cell_type": "code",
   "execution_count": null,
   "metadata": {
    "ExecuteTime": {
     "end_time": "2020-04-25T11:19:03.932025Z",
     "start_time": "2020-04-25T11:19:03.632128Z"
    }
   },
   "outputs": [],
   "source": [
    "test_df = pd.read_csv('../../data/test.csv')"
   ]
  },
  {
   "cell_type": "code",
   "execution_count": null,
   "metadata": {},
   "outputs": [],
   "source": [
    "test_df_extended = pd.read_csv('../../data/test_extended.csv')"
   ]
  },
  {
   "cell_type": "code",
   "execution_count": null,
   "metadata": {
    "ExecuteTime": {
     "end_time": "2020-04-25T11:19:08.807618Z",
     "start_time": "2020-04-25T11:19:04.986962Z"
    }
   },
   "outputs": [],
   "source": [
    "test_df = create_features(test_df, features_to_use, pca, kmeans, False)"
   ]
  },
  {
   "cell_type": "code",
   "execution_count": null,
   "metadata": {},
   "outputs": [],
   "source": [
    "test_df = pd.concat([test_df, test_df_extended], axis=1)"
   ]
  },
  {
   "cell_type": "code",
   "execution_count": null,
   "metadata": {},
   "outputs": [],
   "source": [
    "test_df"
   ]
  },
  {
   "cell_type": "code",
   "execution_count": null,
   "metadata": {},
   "outputs": [],
   "source": [
    "test_df.loc[0, :][\"main_id_locality\"]"
   ]
  },
  {
   "cell_type": "code",
   "execution_count": null,
   "metadata": {},
   "outputs": [],
   "source": [
    "models = {}\n",
    "for p in test_df[\"main_id_locality\"].unique():\n",
    "    models[p] = model"
   ]
  },
  {
   "cell_type": "code",
   "execution_count": null,
   "metadata": {},
   "outputs": [],
   "source": [
    "from tqdm import tqdm_notebook"
   ]
  },
  {
   "cell_type": "code",
   "execution_count": null,
   "metadata": {},
   "outputs": [],
   "source": [
    "predicts = []\n",
    "for i in tqdm_notebook(range(len(test_df))):\n",
    "    p = models[test_df.loc[i, :][\"main_id_locality\"]].predict(test_df[i:i+1])\n",
    "    predicts.append(p)"
   ]
  },
  {
   "cell_type": "code",
   "execution_count": null,
   "metadata": {
    "ExecuteTime": {
     "end_time": "2020-04-25T11:19:09.821471Z",
     "start_time": "2020-04-25T11:19:09.546192Z"
    }
   },
   "outputs": [],
   "source": [
    "test_df['predict'] = np.exp(model.predict(test_df))"
   ]
  },
  {
   "cell_type": "code",
   "execution_count": null,
   "metadata": {
    "ExecuteTime": {
     "end_time": "2020-04-25T11:19:10.621549Z",
     "start_time": "2020-04-25T11:19:10.615783Z"
    }
   },
   "outputs": [],
   "source": [
    "test_df = test_df.reset_index()"
   ]
  },
  {
   "cell_type": "code",
   "execution_count": null,
   "metadata": {
    "ExecuteTime": {
     "end_time": "2020-04-25T11:19:11.989161Z",
     "start_time": "2020-04-25T11:19:11.981770Z"
    }
   },
   "outputs": [],
   "source": [
    "test_df = test_df.rename(columns={'index':'Id', 'predict':'Prediction'})"
   ]
  },
  {
   "cell_type": "code",
   "execution_count": null,
   "metadata": {},
   "outputs": [],
   "source": [
    "!ls ../submission/"
   ]
  },
  {
   "cell_type": "code",
   "execution_count": null,
   "metadata": {
    "ExecuteTime": {
     "end_time": "2020-04-25T11:19:14.345337Z",
     "start_time": "2020-04-25T11:19:14.099663Z"
    }
   },
   "outputs": [],
   "source": [
    "test_df[['Id', 'Prediction']].to_csv('../submission/submission_2.csv', sep=',', index=False, header=True)"
   ]
  },
  {
   "cell_type": "code",
   "execution_count": null,
   "metadata": {
    "ExecuteTime": {
     "end_time": "2020-04-25T11:19:24.933653Z",
     "start_time": "2020-04-25T11:19:24.388159Z"
    }
   },
   "outputs": [],
   "source": [
    "!head ../submission/submission_2.csv"
   ]
  },
  {
   "cell_type": "code",
   "execution_count": null,
   "metadata": {},
   "outputs": [],
   "source": [
    "!pwd "
   ]
  },
  {
   "cell_type": "code",
   "execution_count": null,
   "metadata": {},
   "outputs": [],
   "source": [
    "test_df.loc[0, ]"
   ]
  },
  {
   "cell_type": "code",
   "execution_count": null,
   "metadata": {},
   "outputs": [],
   "source": [
    "np.array(test_df.loc[0, ].values)"
   ]
  },
  {
   "cell_type": "code",
   "execution_count": null,
   "metadata": {},
   "outputs": [],
   "source": [
    "for idx, row in test_df.iterrows():\n",
    "    print(model.predict(row))"
   ]
  },
  {
   "cell_type": "code",
   "execution_count": null,
   "metadata": {},
   "outputs": [],
   "source": []
  },
  {
   "cell_type": "code",
   "execution_count": null,
   "metadata": {},
   "outputs": [],
   "source": []
  },
  {
   "cell_type": "code",
   "execution_count": null,
   "metadata": {},
   "outputs": [],
   "source": []
  }
 ],
 "metadata": {
  "kernelspec": {
   "display_name": "Python 3",
   "language": "python",
   "name": "python3"
  },
  "language_info": {
   "codemirror_mode": {
    "name": "ipython",
    "version": 3
   },
   "file_extension": ".py",
   "mimetype": "text/x-python",
   "name": "python",
   "nbconvert_exporter": "python",
   "pygments_lexer": "ipython3",
   "version": "3.6.10"
  },
  "toc": {
   "base_numbering": 1,
   "nav_menu": {},
   "number_sections": true,
   "sideBar": true,
   "skip_h1_title": false,
   "title_cell": "Table of Contents",
   "title_sidebar": "Contents",
   "toc_cell": false,
   "toc_position": {},
   "toc_section_display": true,
   "toc_window_display": false
  }
 },
 "nbformat": 4,
 "nbformat_minor": 4
}
