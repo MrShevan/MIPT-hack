{
 "cells": [
  {
   "cell_type": "code",
   "execution_count": null,
   "metadata": {},
   "outputs": [],
   "source": [
    "import pandas as pd\n",
    "import numpy as np\n",
    "\n",
    "from collections import Counter\n",
    "\n",
    "from haversine import haversine # too slow\n",
    "from sklearn.model_selection import train_test_split\n",
    "\n",
    "from sklearn.decomposition import PCA\n",
    "from sklearn.cluster import MiniBatchKMeans\n",
    "\n",
    "from catboost import CatBoostRegressor\n",
    "from catboost import cv\n",
    "from catboost import Pool\n",
    "\n",
    "pd.set_option('display.max_columns', None)\n"
   ]
  },
  {
   "cell_type": "markdown",
   "metadata": {},
   "source": [
    "## 1. Загрузка данных"
   ]
  },
  {
   "cell_type": "code",
   "execution_count": null,
   "metadata": {},
   "outputs": [],
   "source": [
    "ls ../../data"
   ]
  },
  {
   "cell_type": "code",
   "execution_count": null,
   "metadata": {},
   "outputs": [],
   "source": [
    "train_df = pd.read_csv(\"../../data/train.csv\")"
   ]
  },
  {
   "cell_type": "code",
   "execution_count": null,
   "metadata": {},
   "outputs": [],
   "source": [
    "test_df = pd.read_csv(\"../../data/test.csv\")"
   ]
  },
  {
   "cell_type": "code",
   "execution_count": null,
   "metadata": {},
   "outputs": [],
   "source": []
  },
  {
   "cell_type": "code",
   "execution_count": null,
   "metadata": {},
   "outputs": [],
   "source": [
    "# 45.040235\t38.976080 Краснодар\n",
    "# 54.734853\t55.957865 Уфа\n",
    "# 53.516670\t49.416670 Тольятти\n",
    "# 56.838633\t60.605489 Екатеринбург"
   ]
  },
  {
   "cell_type": "code",
   "execution_count": null,
   "metadata": {},
   "outputs": [],
   "source": [
    "train_df.head()"
   ]
  },
  {
   "cell_type": "code",
   "execution_count": null,
   "metadata": {},
   "outputs": [],
   "source": [
    "train_df[\"main_id_locality\"].value_counts()"
   ]
  },
  {
   "cell_type": "code",
   "execution_count": null,
   "metadata": {},
   "outputs": [],
   "source": [
    "train_df.info()"
   ]
  },
  {
   "cell_type": "code",
   "execution_count": null,
   "metadata": {},
   "outputs": [],
   "source": [
    "mean = (train_df[\"ETA\"] - train_df[\"RTA\"]).mean()\n",
    "mean"
   ]
  },
  {
   "cell_type": "code",
   "execution_count": null,
   "metadata": {},
   "outputs": [],
   "source": [
    "koeff = (train_df[\"RTA\"].sum() + train_df[\"RTA\"].shape[0]) / train_df[\"ETA\"].sum()\n",
    "koeff"
   ]
  },
  {
   "cell_type": "code",
   "execution_count": null,
   "metadata": {},
   "outputs": [],
   "source": []
  },
  {
   "cell_type": "code",
   "execution_count": null,
   "metadata": {},
   "outputs": [],
   "source": [
    "(train_df[\"ETA\"] - train_df[\"RTA\"]).hist(figsize=(20,10), bins=100)"
   ]
  },
  {
   "cell_type": "markdown",
   "metadata": {},
   "source": [
    "Ожидаемое время выше реального (измерение в секундах)"
   ]
  },
  {
   "cell_type": "code",
   "execution_count": null,
   "metadata": {},
   "outputs": [],
   "source": [
    "city_dict = { \n",
    "    338: \"Краснодар\",\n",
    "    22394: \"Тольятти\",\n",
    "    22402: \"Уфа\",\n",
    "    22406: \"Екатеринбург\"\n",
    "}\n",
    "\n",
    "train_df['city'] = train_df.main_id_locality.apply(lambda x: city_dict[x])"
   ]
  },
  {
   "cell_type": "code",
   "execution_count": null,
   "metadata": {},
   "outputs": [],
   "source": [
    "(train_df[\"EDA\"] - train_df[\"RDA\"]).hist(figsize=(20,10), bins=50)"
   ]
  },
  {
   "cell_type": "code",
   "execution_count": null,
   "metadata": {},
   "outputs": [],
   "source": []
  },
  {
   "cell_type": "code",
   "execution_count": null,
   "metadata": {},
   "outputs": [],
   "source": [
    "import polyline\n",
    "polyline.decode(train_df.loc[0, 'route'])[:5]"
   ]
  },
  {
   "cell_type": "markdown",
   "metadata": {},
   "source": [
    "## 3. Анализ маршрутов"
   ]
  },
  {
   "cell_type": "code",
   "execution_count": null,
   "metadata": {},
   "outputs": [],
   "source": [
    "import geopy.distance\n",
    "from tqdm import tqdm_notebook\n",
    "from haversine import haversine"
   ]
  },
  {
   "cell_type": "code",
   "execution_count": null,
   "metadata": {},
   "outputs": [],
   "source": [
    "train_df[\"route\"].dropna().shape[0], train_df[\"route\"].shape[0]"
   ]
  },
  {
   "cell_type": "code",
   "execution_count": null,
   "metadata": {},
   "outputs": [],
   "source": [
    "test_df.info()"
   ]
  },
  {
   "cell_type": "markdown",
   "metadata": {},
   "source": [
    "Маршрут:\n",
    "1. Кол-во ребер\n",
    "2. Средняя длина ребер\n",
    "3. Сумма длин ребер \n",
    "4. Сумма удаленностей от центра каждой точки пути\n",
    "5. Средняя удаленность от центра\n",
    "6. Сумма углов между ребрами пути\n",
    "7. Средний угол \n",
    "8. Кол-во кластеров в маршруте\n",
    "9. Принадлежность к кластеру (one-hot)\n",
    "\n",
    "Начальна и конечная точки\n",
    "1. Геогрфическое расстояние от начальной до конечной точки\n",
    "2. Коэффициент перепробега (отношение реальной длины к расстоянию между точками)\n",
    "3. Удаленность от центра города начала маршрута\n",
    "4. Удаленнность от центра города конца маршрута\n",
    "\n",
    "Город:\n",
    "1. Средняя длина маршрутов\n",
    "2. Среднее кол-во ребер \n",
    "3. Среднее расстояние между точками начало и конец\n",
    "4. Средний коэффициент перепробега\n",
    "5. Средняя сумма удаленностей от центра\n",
    "6. Средний угол\n",
    "7. Средняя сумма углов между ребрами пути\n",
    "\n",
    "\n",
    "\n",
    "Отрисовка на карте маршрута"
   ]
  },
  {
   "cell_type": "code",
   "execution_count": null,
   "metadata": {},
   "outputs": [],
   "source": [
    "coords_1 = (52.2296756, 21.0122287)\n",
    "coords_2 = (52.406374, 16.9251681)\n",
    "\n",
    "print(geopy.distance.distance(coords_1, coords_2).km)"
   ]
  },
  {
   "cell_type": "code",
   "execution_count": null,
   "metadata": {},
   "outputs": [],
   "source": [
    "train_df.columns"
   ]
  },
  {
   "cell_type": "code",
   "execution_count": null,
   "metadata": {},
   "outputs": [],
   "source": [
    "# Геогрфическое расстояние от начальной до конечной точки\n",
    "train_df['haversine'] = train_df.apply(lambda row: haversine((row['latitude'], row['longitude']), \n",
    "                             (row['del_latitude'], row['del_longitude'])), axis=1)"
   ]
  },
  {
   "cell_type": "code",
   "execution_count": null,
   "metadata": {},
   "outputs": [],
   "source": [
    "# Удаленность от центра города начала маршрута\n",
    "train_df['start_offset'] = train_df.apply(lambda row: haversine((row['latitude'], row['longitude']), \n",
    "                             (row['center_latitude'], row['center_longitude'])), axis=1)"
   ]
  },
  {
   "cell_type": "code",
   "execution_count": null,
   "metadata": {},
   "outputs": [],
   "source": [
    "# Удаленность от центра города конца маршрута\n",
    "train_df['finish_offset'] = train_df.apply(lambda row: haversine((row['del_latitude'], row['del_longitude']), \n",
    "                             (row['center_latitude'], row['center_longitude'])), axis=1)"
   ]
  },
  {
   "cell_type": "code",
   "execution_count": null,
   "metadata": {},
   "outputs": [],
   "source": [
    "# Коэффициент перепробега (отношение реальной длины к расстоянию между точками)\n",
    "train_df[\"koeff_overroute\"] = train_df.apply(lambda row: row['EDA'] / row['haversine'], axis=1)"
   ]
  },
  {
   "cell_type": "code",
   "execution_count": null,
   "metadata": {},
   "outputs": [],
   "source": []
  },
  {
   "cell_type": "code",
   "execution_count": null,
   "metadata": {},
   "outputs": [],
   "source": [
    "# %%timeit\n",
    "# haversine(coords_1, coords_2)"
   ]
  },
  {
   "cell_type": "code",
   "execution_count": null,
   "metadata": {},
   "outputs": [],
   "source": [
    "# %%timeit\n",
    "# get_distance(coords_1, coords_2)"
   ]
  },
  {
   "cell_type": "code",
   "execution_count": null,
   "metadata": {},
   "outputs": [],
   "source": [
    "def get_route_features(row):\n",
    "    features = {}\n",
    "    parts = polyline.decode(row[\"route\"])\n",
    "    \n",
    "    parts_count = len(parts)\n",
    "    parts_distance_sum = 0\n",
    "    \n",
    "    for i in range(0, len(parts) - 1):\n",
    "        parts_distance_sum += get_distance(parts[i], parts[i + 1])\n",
    "\n",
    "    features[\"parts_count\"] = parts_count\n",
    "    features[\"parts_distance_sum\"] = parts_distance_sum\n",
    "    features[\"parts_distance_avg\"] = parts_distance_sum / parts_count\n",
    "    \n",
    "    return features"
   ]
  },
  {
   "cell_type": "code",
   "execution_count": null,
   "metadata": {},
   "outputs": [],
   "source": [
    "def get_route_features(row):\n",
    "    features = {}\n",
    "   \n",
    "    try:        \n",
    "        parts = polyline.decode(row[\"route\"])\n",
    "\n",
    "        parts_count = len(parts)\n",
    "        parts_distance_sum = 0\n",
    "\n",
    "        for i in range(0, len(parts) - 1):\n",
    "            parts_distance_sum += haversine(parts[i], parts[i + 1])\n",
    "\n",
    "        features[\"parts_count\"] = parts_count\n",
    "        features[\"parts_distance_sum\"] = parts_distance_sum\n",
    "        features[\"parts_distance_avg\"] = parts_distance_sum / parts_count\n",
    "    except:\n",
    "        features[\"parts_count\"] = 0\n",
    "        features[\"parts_distance_sum\"] = 0\n",
    "        features[\"parts_distance_avg\"] = 0\n",
    "\n",
    "    return features"
   ]
  },
  {
   "cell_type": "code",
   "execution_count": null,
   "metadata": {},
   "outputs": [],
   "source": []
  },
  {
   "cell_type": "code",
   "execution_count": null,
   "metadata": {},
   "outputs": [],
   "source": []
  },
  {
   "cell_type": "code",
   "execution_count": null,
   "metadata": {},
   "outputs": [],
   "source": [
    "train_route_features = []\n",
    "for idx, row in tqdm_notebook(train_df.iterrows()):\n",
    "    train_route_features.append(get_route_features(row))"
   ]
  },
  {
   "cell_type": "code",
   "execution_count": null,
   "metadata": {},
   "outputs": [],
   "source": [
    "train_route_features[0]"
   ]
  },
  {
   "cell_type": "code",
   "execution_count": null,
   "metadata": {},
   "outputs": [],
   "source": [
    "train_route_features_df = pd.DataFrame(train_route_features)"
   ]
  },
  {
   "cell_type": "code",
   "execution_count": null,
   "metadata": {},
   "outputs": [],
   "source": [
    "train_route_features_df.shape"
   ]
  },
  {
   "cell_type": "code",
   "execution_count": null,
   "metadata": {},
   "outputs": [],
   "source": [
    "train_route_features_df.head()"
   ]
  },
  {
   "cell_type": "code",
   "execution_count": null,
   "metadata": {},
   "outputs": [],
   "source": [
    "train_df.shape"
   ]
  },
  {
   "cell_type": "code",
   "execution_count": null,
   "metadata": {},
   "outputs": [],
   "source": [
    "train_df.head()"
   ]
  },
  {
   "cell_type": "code",
   "execution_count": null,
   "metadata": {},
   "outputs": [],
   "source": [
    "train_routes_df = pd.concat([train_df, train_route_features_df], axis=1)"
   ]
  },
  {
   "cell_type": "code",
   "execution_count": null,
   "metadata": {},
   "outputs": [],
   "source": [
    "train_routes_df.shape"
   ]
  },
  {
   "cell_type": "code",
   "execution_count": null,
   "metadata": {},
   "outputs": [],
   "source": []
  },
  {
   "cell_type": "code",
   "execution_count": null,
   "metadata": {},
   "outputs": [],
   "source": []
  },
  {
   "cell_type": "code",
   "execution_count": null,
   "metadata": {},
   "outputs": [],
   "source": []
  },
  {
   "cell_type": "markdown",
   "metadata": {},
   "source": [
    "## 4. Code"
   ]
  },
  {
   "cell_type": "code",
   "execution_count": null,
   "metadata": {},
   "outputs": [],
   "source": []
  },
  {
   "cell_type": "code",
   "execution_count": null,
   "metadata": {},
   "outputs": [],
   "source": [
    "train_df = pd.read_csv(\"../../data/train.csv\")"
   ]
  },
  {
   "cell_type": "code",
   "execution_count": null,
   "metadata": {},
   "outputs": [],
   "source": [
    "valid_df = pd.read_csv(\"../../data/validation.csv\")"
   ]
  },
  {
   "cell_type": "code",
   "execution_count": null,
   "metadata": {},
   "outputs": [],
   "source": [
    "test_df = pd.read_csv(\"../../data/test.csv\")"
   ]
  },
  {
   "cell_type": "code",
   "execution_count": null,
   "metadata": {},
   "outputs": [],
   "source": [
    "def get_new_features(train_df):\n",
    "    # Геогрфическое расстояние от начальной до конечной точки\n",
    "    train_df.loc[:, 'haversine'] = train_df.apply(lambda row: haversine((row['latitude'], row['longitude']), \n",
    "                             (row['del_latitude'], row['del_longitude'])), axis=1)\n",
    "    \n",
    "    # Удаленность от центра города начала маршрута\n",
    "    train_df.loc[:, 'start_offset'] = train_df.apply(lambda row: haversine((row['latitude'], row['longitude']), \n",
    "                             (row['center_latitude'], row['center_longitude'])), axis=1)\n",
    "\n",
    "    \n",
    "    # Удаленность от центра города конца маршрута\n",
    "    train_df.loc[:, 'finish_offset'] = train_df.apply(lambda row: haversine((row['del_latitude'], row['del_longitude']), \n",
    "                             (row['center_latitude'], row['center_longitude'])), axis=1)\n",
    "    \n",
    "    # Коэффициент перепробега (отношение реальной длины к расстоянию между точками)\n",
    "    train_df.loc[:, \"koeff_overroute\"] = train_df.apply(lambda row: row['EDA'] / row['haversine'], axis=1)\n",
    "    \n",
    "    \n",
    "    train_route_features = []\n",
    "    for idx, row in tqdm_notebook(train_df.iterrows()):\n",
    "        train_route_features.append(get_route_features(row))\n",
    "        \n",
    "    \n",
    "    train_route_features_df = pd.DataFrame(train_route_features)\n",
    "    \n",
    "    train_routes_df = pd.concat([train_df, train_route_features_df], axis=1)\n",
    "    \n",
    "    \n",
    "    feature_names = [\"start_offset\", \"finish_offset\", \"koeff_overroute\", \"parts_count\", \n",
    "                     \"parts_distance_sum\", \"parts_distance_avg\"]\n",
    "    \n",
    "    new_features_df = train_routes_df[feature_names]\n",
    "    \n",
    "    return new_features_df"
   ]
  },
  {
   "cell_type": "code",
   "execution_count": null,
   "metadata": {},
   "outputs": [],
   "source": [
    "train_df_extended = get_new_features(train_df)"
   ]
  },
  {
   "cell_type": "code",
   "execution_count": null,
   "metadata": {},
   "outputs": [],
   "source": [
    "valid_df_extended = get_new_features(valid_df)"
   ]
  },
  {
   "cell_type": "code",
   "execution_count": null,
   "metadata": {},
   "outputs": [],
   "source": [
    "test_df_extended = get_new_features(test_df)"
   ]
  },
  {
   "cell_type": "code",
   "execution_count": null,
   "metadata": {},
   "outputs": [],
   "source": [
    "!ls  ../../data"
   ]
  },
  {
   "cell_type": "code",
   "execution_count": null,
   "metadata": {},
   "outputs": [],
   "source": [
    "train_df_extended.to_csv(\"../../data/train_extended.csv\", index=False)"
   ]
  },
  {
   "cell_type": "code",
   "execution_count": null,
   "metadata": {},
   "outputs": [],
   "source": [
    "valid_df_extended.to_csv(\"../../data/valid_extended.csv\", index=False)"
   ]
  },
  {
   "cell_type": "code",
   "execution_count": null,
   "metadata": {},
   "outputs": [],
   "source": [
    "test_df_extended.to_csv(\"../../data/test_extended.csv\", index=False)"
   ]
  },
  {
   "cell_type": "code",
   "execution_count": null,
   "metadata": {},
   "outputs": [],
   "source": []
  },
  {
   "cell_type": "code",
   "execution_count": null,
   "metadata": {},
   "outputs": [],
   "source": []
  },
  {
   "cell_type": "code",
   "execution_count": null,
   "metadata": {},
   "outputs": [],
   "source": []
  }
 ],
 "metadata": {
  "kernelspec": {
   "display_name": "Python 3",
   "language": "python",
   "name": "python3"
  },
  "language_info": {
   "codemirror_mode": {
    "name": "ipython",
    "version": 3
   },
   "file_extension": ".py",
   "mimetype": "text/x-python",
   "name": "python",
   "nbconvert_exporter": "python",
   "pygments_lexer": "ipython3",
   "version": "3.6.10"
  }
 },
 "nbformat": 4,
 "nbformat_minor": 4
}
