{
 "cells": [
  {
   "cell_type": "code",
   "execution_count": 1,
   "metadata": {},
   "outputs": [],
   "source": [
    "import pandas as pd\n",
    "import numpy as np\n",
    "\n",
    "from collections import Counter\n",
    "\n",
    "from haversine import haversine # too slow\n",
    "from sklearn.model_selection import train_test_split\n",
    "\n",
    "from sklearn.decomposition import PCA\n",
    "from sklearn.cluster import MiniBatchKMeans\n",
    "\n",
    "from catboost import CatBoostRegressor\n",
    "from catboost import cv\n",
    "from catboost import Pool\n",
    "\n",
    "pd.set_option('display.max_columns', None)\n"
   ]
  },
  {
   "cell_type": "markdown",
   "metadata": {},
   "source": [
    "## 1. Загрузка данных"
   ]
  },
  {
   "cell_type": "code",
   "execution_count": 2,
   "metadata": {},
   "outputs": [
    {
     "name": "stdout",
     "output_type": "stream",
     "text": [
      "test_additional.csv      \u001b[0m\u001b[01;31mtest.csv.zip\u001b[0m   \u001b[01;31mtrain.csv.zip\u001b[0m   \u001b[01;31mvalidation.csv.zip\u001b[0m\r\n",
      "\u001b[01;31mtest_additional.csv.zip\u001b[0m  test_ext2.csv  train_ext2.csv  valid_ext2.csv\r\n",
      "test.csv                 train.csv      validation.csv\r\n"
     ]
    }
   ],
   "source": [
    "ls ../../data"
   ]
  },
  {
   "cell_type": "code",
   "execution_count": 3,
   "metadata": {},
   "outputs": [],
   "source": [
    "train_df = pd.read_csv(\"../../data/train.csv\")"
   ]
  },
  {
   "cell_type": "code",
   "execution_count": 4,
   "metadata": {},
   "outputs": [],
   "source": [
    "test_df = pd.read_csv(\"../../data/test.csv\")"
   ]
  },
  {
   "cell_type": "code",
   "execution_count": 32,
   "metadata": {},
   "outputs": [],
   "source": [
    "test_additional_df = pd.read_csv(\"../../data/test_additional.csv\")"
   ]
  },
  {
   "cell_type": "code",
   "execution_count": 35,
   "metadata": {},
   "outputs": [
    {
     "data": {
      "text/html": [
       "<div>\n",
       "<style scoped>\n",
       "    .dataframe tbody tr th:only-of-type {\n",
       "        vertical-align: middle;\n",
       "    }\n",
       "\n",
       "    .dataframe tbody tr th {\n",
       "        vertical-align: top;\n",
       "    }\n",
       "\n",
       "    .dataframe thead th {\n",
       "        text-align: right;\n",
       "    }\n",
       "</style>\n",
       "<table border=\"1\" class=\"dataframe\">\n",
       "  <thead>\n",
       "    <tr style=\"text-align: right;\">\n",
       "      <th></th>\n",
       "      <th>Id</th>\n",
       "      <th>main_id_locality</th>\n",
       "      <th>ETA</th>\n",
       "      <th>OrderedDate</th>\n",
       "      <th>latitude</th>\n",
       "      <th>del_latitude</th>\n",
       "      <th>longitude</th>\n",
       "      <th>del_longitude</th>\n",
       "      <th>EDA</th>\n",
       "      <th>ReadyForCollection</th>\n",
       "      <th>ClientCollected</th>\n",
       "      <th>ready_latitude</th>\n",
       "      <th>ready_longitude</th>\n",
       "      <th>onway_latitude</th>\n",
       "      <th>onway_longitude</th>\n",
       "      <th>arrived_latitude</th>\n",
       "      <th>arrived_longitude</th>\n",
       "      <th>center_latitude</th>\n",
       "      <th>center_longitude</th>\n",
       "      <th>route</th>\n",
       "    </tr>\n",
       "  </thead>\n",
       "  <tbody>\n",
       "    <tr>\n",
       "      <th>0</th>\n",
       "      <td>0</td>\n",
       "      <td>1078</td>\n",
       "      <td>1212</td>\n",
       "      <td>2020-03-28 00:00:05</td>\n",
       "      <td>55.751270</td>\n",
       "      <td>55.836491</td>\n",
       "      <td>49.183281</td>\n",
       "      <td>49.140308</td>\n",
       "      <td>13</td>\n",
       "      <td>2020-03-28 00:05:57</td>\n",
       "      <td>2020-03-28 00:07:01</td>\n",
       "      <td>55.751545</td>\n",
       "      <td>49.183875</td>\n",
       "      <td>55.751545</td>\n",
       "      <td>49.183875</td>\n",
       "      <td>55.836686</td>\n",
       "      <td>49.139695</td>\n",
       "      <td>55.794388</td>\n",
       "      <td>49.111531</td>\n",
       "      <td>o|gsIibekHlBG??R~U??{@E}EH??@zC`@zNP|AP`A^vARn...</td>\n",
       "    </tr>\n",
       "    <tr>\n",
       "      <th>1</th>\n",
       "      <td>1</td>\n",
       "      <td>1078</td>\n",
       "      <td>968</td>\n",
       "      <td>2020-03-28 00:00:29</td>\n",
       "      <td>55.829720</td>\n",
       "      <td>55.819080</td>\n",
       "      <td>49.116032</td>\n",
       "      <td>49.183521</td>\n",
       "      <td>8</td>\n",
       "      <td>2020-03-28 00:05:02</td>\n",
       "      <td>2020-03-28 00:06:25</td>\n",
       "      <td>55.829027</td>\n",
       "      <td>49.117553</td>\n",
       "      <td>55.828543</td>\n",
       "      <td>49.115434</td>\n",
       "      <td>55.819152</td>\n",
       "      <td>49.183329</td>\n",
       "      <td>55.794388</td>\n",
       "      <td>49.111531</td>\n",
       "      <td>ofwsIy~wjHzBhF|@Av@gBb@iAFG??tA???H@lAEj@r@??A...</td>\n",
       "    </tr>\n",
       "    <tr>\n",
       "      <th>2</th>\n",
       "      <td>2</td>\n",
       "      <td>1078</td>\n",
       "      <td>492</td>\n",
       "      <td>2020-03-28 00:00:31</td>\n",
       "      <td>55.785660</td>\n",
       "      <td>55.783699</td>\n",
       "      <td>49.173920</td>\n",
       "      <td>49.195599</td>\n",
       "      <td>3</td>\n",
       "      <td>2020-03-28 00:07:14</td>\n",
       "      <td>2020-03-28 00:07:25</td>\n",
       "      <td>55.786520</td>\n",
       "      <td>49.173341</td>\n",
       "      <td>55.786455</td>\n",
       "      <td>49.173383</td>\n",
       "      <td>55.783292</td>\n",
       "      <td>49.195962</td>\n",
       "      <td>55.794388</td>\n",
       "      <td>49.111531</td>\n",
       "      <td>qtnsIcickHKh@oAv@c@bC??q@i@??x@qGB}@fA}GHiA|@o...</td>\n",
       "    </tr>\n",
       "    <tr>\n",
       "      <th>3</th>\n",
       "      <td>3</td>\n",
       "      <td>1078</td>\n",
       "      <td>953</td>\n",
       "      <td>2020-03-28 00:00:42</td>\n",
       "      <td>55.792568</td>\n",
       "      <td>55.824730</td>\n",
       "      <td>49.172691</td>\n",
       "      <td>49.084911</td>\n",
       "      <td>9</td>\n",
       "      <td>2020-03-28 00:12:28</td>\n",
       "      <td>2020-03-28 00:12:32</td>\n",
       "      <td>55.792422</td>\n",
       "      <td>49.172795</td>\n",
       "      <td>55.792422</td>\n",
       "      <td>49.172795</td>\n",
       "      <td>55.824720</td>\n",
       "      <td>49.084409</td>\n",
       "      <td>55.794388</td>\n",
       "      <td>49.111531</td>\n",
       "      <td>q~osIi`ckHx@B??L???A~AW???ArB??gFYsAA??On@fAjP...</td>\n",
       "    </tr>\n",
       "    <tr>\n",
       "      <th>4</th>\n",
       "      <td>4</td>\n",
       "      <td>1078</td>\n",
       "      <td>1746</td>\n",
       "      <td>2020-03-28 00:00:47</td>\n",
       "      <td>55.829369</td>\n",
       "      <td>55.757278</td>\n",
       "      <td>49.092682</td>\n",
       "      <td>49.236542</td>\n",
       "      <td>16</td>\n",
       "      <td>2020-03-28 00:02:56</td>\n",
       "      <td>2020-03-28 00:04:20</td>\n",
       "      <td>55.829351</td>\n",
       "      <td>49.093344</td>\n",
       "      <td>55.829648</td>\n",
       "      <td>49.093254</td>\n",
       "      <td>55.757308</td>\n",
       "      <td>49.236968</td>\n",
       "      <td>55.794388</td>\n",
       "      <td>49.111531</td>\n",
       "      <td>qdwsIilsjHcA^iCjAk@|@??S}DoA_QSuCC_A?kEHgS??`I...</td>\n",
       "    </tr>\n",
       "  </tbody>\n",
       "</table>\n",
       "</div>"
      ],
      "text/plain": [
       "   Id  main_id_locality   ETA          OrderedDate   latitude  del_latitude  \\\n",
       "0   0              1078  1212  2020-03-28 00:00:05  55.751270     55.836491   \n",
       "1   1              1078   968  2020-03-28 00:00:29  55.829720     55.819080   \n",
       "2   2              1078   492  2020-03-28 00:00:31  55.785660     55.783699   \n",
       "3   3              1078   953  2020-03-28 00:00:42  55.792568     55.824730   \n",
       "4   4              1078  1746  2020-03-28 00:00:47  55.829369     55.757278   \n",
       "\n",
       "   longitude  del_longitude  EDA   ReadyForCollection      ClientCollected  \\\n",
       "0  49.183281      49.140308   13  2020-03-28 00:05:57  2020-03-28 00:07:01   \n",
       "1  49.116032      49.183521    8  2020-03-28 00:05:02  2020-03-28 00:06:25   \n",
       "2  49.173920      49.195599    3  2020-03-28 00:07:14  2020-03-28 00:07:25   \n",
       "3  49.172691      49.084911    9  2020-03-28 00:12:28  2020-03-28 00:12:32   \n",
       "4  49.092682      49.236542   16  2020-03-28 00:02:56  2020-03-28 00:04:20   \n",
       "\n",
       "   ready_latitude  ready_longitude  onway_latitude  onway_longitude  \\\n",
       "0       55.751545        49.183875       55.751545        49.183875   \n",
       "1       55.829027        49.117553       55.828543        49.115434   \n",
       "2       55.786520        49.173341       55.786455        49.173383   \n",
       "3       55.792422        49.172795       55.792422        49.172795   \n",
       "4       55.829351        49.093344       55.829648        49.093254   \n",
       "\n",
       "   arrived_latitude  arrived_longitude  center_latitude  center_longitude  \\\n",
       "0         55.836686          49.139695        55.794388         49.111531   \n",
       "1         55.819152          49.183329        55.794388         49.111531   \n",
       "2         55.783292          49.195962        55.794388         49.111531   \n",
       "3         55.824720          49.084409        55.794388         49.111531   \n",
       "4         55.757308          49.236968        55.794388         49.111531   \n",
       "\n",
       "                                               route  \n",
       "0  o|gsIibekHlBG??R~U??{@E}EH??@zC`@zNP|AP`A^vARn...  \n",
       "1  ofwsIy~wjHzBhF|@Av@gBb@iAFG??tA???H@lAEj@r@??A...  \n",
       "2  qtnsIcickHKh@oAv@c@bC??q@i@??x@qGB}@fA}GHiA|@o...  \n",
       "3  q~osIi`ckHx@B??L???A~AW???ArB??gFYsAA??On@fAjP...  \n",
       "4  qdwsIilsjHcA^iCjAk@|@??S}DoA_QSuCC_A?kEHgS??`I...  "
      ]
     },
     "execution_count": 35,
     "metadata": {},
     "output_type": "execute_result"
    }
   ],
   "source": [
    "test_additional_df.head()"
   ]
  },
  {
   "cell_type": "code",
   "execution_count": 34,
   "metadata": {},
   "outputs": [
    {
     "data": {
      "text/plain": [
       "(89938, 11)"
      ]
     },
     "execution_count": 34,
     "metadata": {},
     "output_type": "execute_result"
    }
   ],
   "source": [
    "test_df.shape"
   ]
  },
  {
   "cell_type": "code",
   "execution_count": 5,
   "metadata": {},
   "outputs": [],
   "source": [
    "# 45.040235\t38.976080 Краснодар\n",
    "# 54.734853\t55.957865 Уфа\n",
    "# 53.516670\t49.416670 Тольятти\n",
    "# 56.838633\t60.605489 Екатеринбург"
   ]
  },
  {
   "cell_type": "code",
   "execution_count": 6,
   "metadata": {},
   "outputs": [
    {
     "data": {
      "text/html": [
       "<div>\n",
       "<style scoped>\n",
       "    .dataframe tbody tr th:only-of-type {\n",
       "        vertical-align: middle;\n",
       "    }\n",
       "\n",
       "    .dataframe tbody tr th {\n",
       "        vertical-align: top;\n",
       "    }\n",
       "\n",
       "    .dataframe thead th {\n",
       "        text-align: right;\n",
       "    }\n",
       "</style>\n",
       "<table border=\"1\" class=\"dataframe\">\n",
       "  <thead>\n",
       "    <tr style=\"text-align: right;\">\n",
       "      <th></th>\n",
       "      <th>Id</th>\n",
       "      <th>main_id_locality</th>\n",
       "      <th>ETA</th>\n",
       "      <th>RTA</th>\n",
       "      <th>OrderedDate</th>\n",
       "      <th>latitude</th>\n",
       "      <th>del_latitude</th>\n",
       "      <th>longitude</th>\n",
       "      <th>del_longitude</th>\n",
       "      <th>EDA</th>\n",
       "      <th>RDA</th>\n",
       "      <th>ReadyForCollection</th>\n",
       "      <th>ClientCollected</th>\n",
       "      <th>GoodArrived</th>\n",
       "      <th>ready_latitude</th>\n",
       "      <th>ready_longitude</th>\n",
       "      <th>onway_latitude</th>\n",
       "      <th>onway_longitude</th>\n",
       "      <th>arrived_latitude</th>\n",
       "      <th>arrived_longitude</th>\n",
       "      <th>center_latitude</th>\n",
       "      <th>center_longitude</th>\n",
       "      <th>route</th>\n",
       "      <th>track</th>\n",
       "    </tr>\n",
       "  </thead>\n",
       "  <tbody>\n",
       "    <tr>\n",
       "      <th>0</th>\n",
       "      <td>0</td>\n",
       "      <td>1078</td>\n",
       "      <td>226.0</td>\n",
       "      <td>188.0</td>\n",
       "      <td>2020-02-12 19:12:06</td>\n",
       "      <td>55.826019</td>\n",
       "      <td>55.825581</td>\n",
       "      <td>49.134529</td>\n",
       "      <td>49.126949</td>\n",
       "      <td>1.0</td>\n",
       "      <td>1.0</td>\n",
       "      <td>2020-02-12 19:14:33</td>\n",
       "      <td>2020-02-12 19:15:06</td>\n",
       "      <td>2020-02-12 19:18:14</td>\n",
       "      <td>55.825647</td>\n",
       "      <td>49.134115</td>\n",
       "      <td>55.826261</td>\n",
       "      <td>49.134137</td>\n",
       "      <td>55.825707</td>\n",
       "      <td>49.127136</td>\n",
       "      <td>55.794388</td>\n",
       "      <td>49.111531</td>\n",
       "      <td>gnvsIaq{jHChA??uC???OPG^F^NRzKBd@AN[r@???`@`@`...</td>\n",
       "      <td>io{jHkivsID_A??A}@i@m@I]^SFKBK@AD@@????A?@??A@...</td>\n",
       "    </tr>\n",
       "    <tr>\n",
       "      <th>1</th>\n",
       "      <td>1</td>\n",
       "      <td>1078</td>\n",
       "      <td>718.0</td>\n",
       "      <td>725.0</td>\n",
       "      <td>2020-02-12 19:12:22</td>\n",
       "      <td>55.795502</td>\n",
       "      <td>55.820911</td>\n",
       "      <td>49.131470</td>\n",
       "      <td>49.115360</td>\n",
       "      <td>5.0</td>\n",
       "      <td>6.0</td>\n",
       "      <td>2020-02-12 19:19:03</td>\n",
       "      <td>2020-02-12 19:19:42</td>\n",
       "      <td>2020-02-12 19:31:47</td>\n",
       "      <td>55.795591</td>\n",
       "      <td>49.132281</td>\n",
       "      <td>55.795544</td>\n",
       "      <td>49.131552</td>\n",
       "      <td>55.821531</td>\n",
       "      <td>49.115685</td>\n",
       "      <td>55.794388</td>\n",
       "      <td>49.111531</td>\n",
       "      <td>sqpsI}~zjHyAr]e@lMk@fLaBlb@i@rLKhBCdAUxEGlCg@f...</td>\n",
       "      <td>qh{jHappsIAAA?\\EVSLAC@r@I????h@ERAL?R?x@Cf@ARD...</td>\n",
       "    </tr>\n",
       "    <tr>\n",
       "      <th>2</th>\n",
       "      <td>2</td>\n",
       "      <td>1078</td>\n",
       "      <td>612.0</td>\n",
       "      <td>764.0</td>\n",
       "      <td>2020-02-12 19:12:44</td>\n",
       "      <td>55.791050</td>\n",
       "      <td>55.819962</td>\n",
       "      <td>49.226070</td>\n",
       "      <td>49.176628</td>\n",
       "      <td>5.0</td>\n",
       "      <td>5.0</td>\n",
       "      <td>2020-02-12 19:15:21</td>\n",
       "      <td>2020-02-12 19:15:25</td>\n",
       "      <td>2020-02-12 19:28:09</td>\n",
       "      <td>55.791099</td>\n",
       "      <td>49.226066</td>\n",
       "      <td>55.791099</td>\n",
       "      <td>49.226066</td>\n",
       "      <td>55.819765</td>\n",
       "      <td>49.177432</td>\n",
       "      <td>55.794388</td>\n",
       "      <td>49.111531</td>\n",
       "      <td>auosI}mmkH?LHd@KhC??o@w@[g@m@iAUk@??{G|OiB`Ek@...</td>\n",
       "      <td>}mmkHkuosI????????????????????????????????K?O@...</td>\n",
       "    </tr>\n",
       "    <tr>\n",
       "      <th>3</th>\n",
       "      <td>3</td>\n",
       "      <td>1078</td>\n",
       "      <td>1560.0</td>\n",
       "      <td>1412.0</td>\n",
       "      <td>2020-02-12 19:12:44</td>\n",
       "      <td>55.753899</td>\n",
       "      <td>55.824680</td>\n",
       "      <td>49.188519</td>\n",
       "      <td>49.093700</td>\n",
       "      <td>13.0</td>\n",
       "      <td>14.0</td>\n",
       "      <td>2020-02-12 19:19:00</td>\n",
       "      <td>2020-02-12 19:19:09</td>\n",
       "      <td>2020-02-12 19:42:41</td>\n",
       "      <td>55.754116</td>\n",
       "      <td>49.188853</td>\n",
       "      <td>55.754116</td>\n",
       "      <td>49.188853</td>\n",
       "      <td>55.824734</td>\n",
       "      <td>49.094013</td>\n",
       "      <td>55.794388</td>\n",
       "      <td>49.111531</td>\n",
       "      <td>{lhsIiffkHmKN_C?mIPwMJ??Si@gA{B??Wq@MRCJTp@hAd...</td>\n",
       "      <td>gefkH{{hsIQr@Gn@GlAAr@Ct@@^@J@ZFf@FVHHDD??????...</td>\n",
       "    </tr>\n",
       "    <tr>\n",
       "      <th>4</th>\n",
       "      <td>4</td>\n",
       "      <td>1078</td>\n",
       "      <td>1528.0</td>\n",
       "      <td>893.0</td>\n",
       "      <td>2020-02-12 19:12:45</td>\n",
       "      <td>55.822361</td>\n",
       "      <td>55.786758</td>\n",
       "      <td>49.069092</td>\n",
       "      <td>49.143501</td>\n",
       "      <td>9.0</td>\n",
       "      <td>10.0</td>\n",
       "      <td>2020-02-12 19:16:32</td>\n",
       "      <td>2020-02-12 19:17:26</td>\n",
       "      <td>2020-02-12 19:32:19</td>\n",
       "      <td>55.822483</td>\n",
       "      <td>49.069659</td>\n",
       "      <td>55.822617</td>\n",
       "      <td>49.069229</td>\n",
       "      <td>55.786936</td>\n",
       "      <td>49.143330</td>\n",
       "      <td>55.794388</td>\n",
       "      <td>49.111531</td>\n",
       "      <td>yxusI{xnjHgAfG??}IuHkAqA??pIoe@VsA??dAkG`BuH??...</td>\n",
       "      <td>synjHkzusIHAA?E@C?????????????????????????DARE...</td>\n",
       "    </tr>\n",
       "  </tbody>\n",
       "</table>\n",
       "</div>"
      ],
      "text/plain": [
       "   Id  main_id_locality     ETA     RTA          OrderedDate   latitude  \\\n",
       "0   0              1078   226.0   188.0  2020-02-12 19:12:06  55.826019   \n",
       "1   1              1078   718.0   725.0  2020-02-12 19:12:22  55.795502   \n",
       "2   2              1078   612.0   764.0  2020-02-12 19:12:44  55.791050   \n",
       "3   3              1078  1560.0  1412.0  2020-02-12 19:12:44  55.753899   \n",
       "4   4              1078  1528.0   893.0  2020-02-12 19:12:45  55.822361   \n",
       "\n",
       "   del_latitude  longitude  del_longitude   EDA   RDA   ReadyForCollection  \\\n",
       "0     55.825581  49.134529      49.126949   1.0   1.0  2020-02-12 19:14:33   \n",
       "1     55.820911  49.131470      49.115360   5.0   6.0  2020-02-12 19:19:03   \n",
       "2     55.819962  49.226070      49.176628   5.0   5.0  2020-02-12 19:15:21   \n",
       "3     55.824680  49.188519      49.093700  13.0  14.0  2020-02-12 19:19:00   \n",
       "4     55.786758  49.069092      49.143501   9.0  10.0  2020-02-12 19:16:32   \n",
       "\n",
       "       ClientCollected          GoodArrived  ready_latitude  ready_longitude  \\\n",
       "0  2020-02-12 19:15:06  2020-02-12 19:18:14       55.825647        49.134115   \n",
       "1  2020-02-12 19:19:42  2020-02-12 19:31:47       55.795591        49.132281   \n",
       "2  2020-02-12 19:15:25  2020-02-12 19:28:09       55.791099        49.226066   \n",
       "3  2020-02-12 19:19:09  2020-02-12 19:42:41       55.754116        49.188853   \n",
       "4  2020-02-12 19:17:26  2020-02-12 19:32:19       55.822483        49.069659   \n",
       "\n",
       "   onway_latitude  onway_longitude  arrived_latitude  arrived_longitude  \\\n",
       "0       55.826261        49.134137         55.825707          49.127136   \n",
       "1       55.795544        49.131552         55.821531          49.115685   \n",
       "2       55.791099        49.226066         55.819765          49.177432   \n",
       "3       55.754116        49.188853         55.824734          49.094013   \n",
       "4       55.822617        49.069229         55.786936          49.143330   \n",
       "\n",
       "   center_latitude  center_longitude  \\\n",
       "0        55.794388         49.111531   \n",
       "1        55.794388         49.111531   \n",
       "2        55.794388         49.111531   \n",
       "3        55.794388         49.111531   \n",
       "4        55.794388         49.111531   \n",
       "\n",
       "                                               route  \\\n",
       "0  gnvsIaq{jHChA??uC???OPG^F^NRzKBd@AN[r@???`@`@`...   \n",
       "1  sqpsI}~zjHyAr]e@lMk@fLaBlb@i@rLKhBCdAUxEGlCg@f...   \n",
       "2  auosI}mmkH?LHd@KhC??o@w@[g@m@iAUk@??{G|OiB`Ek@...   \n",
       "3  {lhsIiffkHmKN_C?mIPwMJ??Si@gA{B??Wq@MRCJTp@hAd...   \n",
       "4  yxusI{xnjHgAfG??}IuHkAqA??pIoe@VsA??dAkG`BuH??...   \n",
       "\n",
       "                                               track  \n",
       "0  io{jHkivsID_A??A}@i@m@I]^SFKBK@AD@@????A?@??A@...  \n",
       "1  qh{jHappsIAAA?\\EVSLAC@r@I????h@ERAL?R?x@Cf@ARD...  \n",
       "2  }mmkHkuosI????????????????????????????????K?O@...  \n",
       "3  gefkH{{hsIQr@Gn@GlAAr@Ct@@^@J@ZFf@FVHHDD??????...  \n",
       "4  synjHkzusIHAA?E@C?????????????????????????DARE...  "
      ]
     },
     "execution_count": 6,
     "metadata": {},
     "output_type": "execute_result"
    }
   ],
   "source": [
    "train_df.head()"
   ]
  },
  {
   "cell_type": "code",
   "execution_count": 7,
   "metadata": {},
   "outputs": [
    {
     "data": {
      "text/plain": [
       "1078     313636\n",
       "22438    202833\n",
       "22390    184584\n",
       "22430    136075\n",
       "Name: main_id_locality, dtype: int64"
      ]
     },
     "execution_count": 7,
     "metadata": {},
     "output_type": "execute_result"
    }
   ],
   "source": [
    "train_df[\"main_id_locality\"].value_counts()"
   ]
  },
  {
   "cell_type": "code",
   "execution_count": 8,
   "metadata": {},
   "outputs": [
    {
     "name": "stdout",
     "output_type": "stream",
     "text": [
      "<class 'pandas.core.frame.DataFrame'>\n",
      "RangeIndex: 837128 entries, 0 to 837127\n",
      "Data columns (total 24 columns):\n",
      " #   Column              Non-Null Count   Dtype  \n",
      "---  ------              --------------   -----  \n",
      " 0   Id                  837128 non-null  int64  \n",
      " 1   main_id_locality    837128 non-null  int64  \n",
      " 2   ETA                 837128 non-null  float64\n",
      " 3   RTA                 837128 non-null  float64\n",
      " 4   OrderedDate         837128 non-null  object \n",
      " 5   latitude            837128 non-null  float64\n",
      " 6   del_latitude        837128 non-null  float64\n",
      " 7   longitude           837128 non-null  float64\n",
      " 8   del_longitude       837128 non-null  float64\n",
      " 9   EDA                 837128 non-null  float64\n",
      " 10  RDA                 837128 non-null  float64\n",
      " 11  ReadyForCollection  837128 non-null  object \n",
      " 12  ClientCollected     837128 non-null  object \n",
      " 13  GoodArrived         837128 non-null  object \n",
      " 14  ready_latitude      834220 non-null  float64\n",
      " 15  ready_longitude     834220 non-null  float64\n",
      " 16  onway_latitude      834220 non-null  float64\n",
      " 17  onway_longitude     834220 non-null  float64\n",
      " 18  arrived_latitude    834220 non-null  float64\n",
      " 19  arrived_longitude   834220 non-null  float64\n",
      " 20  center_latitude     837128 non-null  float64\n",
      " 21  center_longitude    837128 non-null  float64\n",
      " 22  route               821253 non-null  object \n",
      " 23  track               786720 non-null  object \n",
      "dtypes: float64(16), int64(2), object(6)\n",
      "memory usage: 153.3+ MB\n"
     ]
    }
   ],
   "source": [
    "train_df.info()"
   ]
  },
  {
   "cell_type": "code",
   "execution_count": 9,
   "metadata": {},
   "outputs": [
    {
     "data": {
      "text/plain": [
       "162.22325498609533"
      ]
     },
     "execution_count": 9,
     "metadata": {},
     "output_type": "execute_result"
    }
   ],
   "source": [
    "mean = (train_df[\"ETA\"] - train_df[\"RTA\"]).mean()\n",
    "mean"
   ]
  },
  {
   "cell_type": "code",
   "execution_count": 10,
   "metadata": {},
   "outputs": [
    {
     "data": {
      "text/plain": [
       "0.8254837356201216"
      ]
     },
     "execution_count": 10,
     "metadata": {},
     "output_type": "execute_result"
    }
   ],
   "source": [
    "koeff = (train_df[\"RTA\"].sum() + train_df[\"RTA\"].shape[0]) / train_df[\"ETA\"].sum()\n",
    "koeff"
   ]
  },
  {
   "cell_type": "code",
   "execution_count": null,
   "metadata": {},
   "outputs": [],
   "source": []
  },
  {
   "cell_type": "code",
   "execution_count": 11,
   "metadata": {},
   "outputs": [
    {
     "data": {
      "text/plain": [
       "<matplotlib.axes._subplots.AxesSubplot at 0x7f253da02550>"
      ]
     },
     "execution_count": 11,
     "metadata": {},
     "output_type": "execute_result"
    },
    {
     "data": {
      "image/png": "[encoded data removed]",
      "text/plain": [
       "<Figure size 1440x720 with 1 Axes>"
      ]
     },
     "metadata": {
      "needs_background": "light"
     },
     "output_type": "display_data"
    }
   ],
   "source": [
    "(train_df[\"ETA\"] - train_df[\"RTA\"]).hist(figsize=(20,10), bins=100)"
   ]
  },
  {
   "cell_type": "markdown",
   "metadata": {},
   "source": [
    "Ожидаемое время выше реального (измерение в секундах)"
   ]
  },
  {
   "cell_type": "code",
   "execution_count": 13,
   "metadata": {},
   "outputs": [
    {
     "data": {
      "text/plain": [
       "<matplotlib.axes._subplots.AxesSubplot at 0x7f253cf33748>"
      ]
     },
     "execution_count": 13,
     "metadata": {},
     "output_type": "execute_result"
    },
    {
     "data": {
      "image/png": "[encoded data removed]",
      "text/plain": [
       "<Figure size 1440x720 with 1 Axes>"
      ]
     },
     "metadata": {
      "needs_background": "light"
     },
     "output_type": "display_data"
    }
   ],
   "source": [
    "(train_df[\"EDA\"] - train_df[\"RDA\"]).hist(figsize=(20,10), bins=50)"
   ]
  },
  {
   "cell_type": "code",
   "execution_count": null,
   "metadata": {},
   "outputs": [],
   "source": []
  },
  {
   "cell_type": "code",
   "execution_count": 14,
   "metadata": {},
   "outputs": [
    {
     "data": {
      "text/plain": [
       "[(55.8258, 49.13441),\n",
       " (55.82582, 49.13404),\n",
       " (55.82582, 49.13404),\n",
       " (55.82657, 49.13404),\n",
       " (55.82657, 49.13404)]"
      ]
     },
     "execution_count": 14,
     "metadata": {},
     "output_type": "execute_result"
    }
   ],
   "source": [
    "import polyline\n",
    "polyline.decode(train_df.loc[0, 'route'])[:5]"
   ]
  },
  {
   "cell_type": "markdown",
   "metadata": {},
   "source": [
    "## 3. Анализ маршрутов"
   ]
  },
  {
   "cell_type": "code",
   "execution_count": 15,
   "metadata": {},
   "outputs": [],
   "source": [
    "import geopy.distance\n",
    "from tqdm import tqdm_notebook\n",
    "from haversine import haversine"
   ]
  },
  {
   "cell_type": "code",
   "execution_count": 16,
   "metadata": {},
   "outputs": [
    {
     "data": {
      "text/plain": [
       "(821253, 837128)"
      ]
     },
     "execution_count": 16,
     "metadata": {},
     "output_type": "execute_result"
    }
   ],
   "source": [
    "train_df[\"route\"].dropna().shape[0], train_df[\"route\"].shape[0]"
   ]
  },
  {
   "cell_type": "code",
   "execution_count": 17,
   "metadata": {},
   "outputs": [
    {
     "name": "stdout",
     "output_type": "stream",
     "text": [
      "<class 'pandas.core.frame.DataFrame'>\n",
      "RangeIndex: 89938 entries, 0 to 89937\n",
      "Data columns (total 11 columns):\n",
      " #   Column            Non-Null Count  Dtype  \n",
      "---  ------            --------------  -----  \n",
      " 0   Id                89938 non-null  int64  \n",
      " 1   main_id_locality  89938 non-null  int64  \n",
      " 2   ETA               89938 non-null  float64\n",
      " 3   OrderedDate       89938 non-null  object \n",
      " 4   latitude          89938 non-null  float64\n",
      " 5   del_latitude      89938 non-null  float64\n",
      " 6   longitude         89938 non-null  float64\n",
      " 7   del_longitude     89938 non-null  float64\n",
      " 8   EDA               89938 non-null  float64\n",
      " 9   center_latitude   89938 non-null  float64\n",
      " 10  center_longitude  89938 non-null  float64\n",
      "dtypes: float64(8), int64(2), object(1)\n",
      "memory usage: 7.5+ MB\n"
     ]
    }
   ],
   "source": [
    "test_df.info()"
   ]
  },
  {
   "cell_type": "markdown",
   "metadata": {},
   "source": [
    "Маршрут:\n",
    "1. Кол-во ребер\n",
    "2. Средняя длина ребер\n",
    "3. Сумма длин ребер \n",
    "4. Сумма удаленностей от центра каждой точки пути\n",
    "5. Средняя удаленность от центра\n",
    "6. Сумма углов между ребрами пути\n",
    "7. Средний угол \n",
    "8. Кол-во кластеров в маршруте\n",
    "9. Принадлежность к кластеру (one-hot)\n",
    "\n",
    "Начальна и конечная точки\n",
    "1. Геогрфическое расстояние от начальной до конечной точки\n",
    "2. Коэффициент перепробега (отношение реальной длины к расстоянию между точками)\n",
    "3. Удаленность от центра города начала маршрута\n",
    "4. Удаленнность от центра города конца маршрута\n",
    "\n",
    "Город:\n",
    "1. Средняя длина маршрутов\n",
    "2. Среднее кол-во ребер \n",
    "3. Среднее расстояние между точками начало и конец\n",
    "4. Средний коэффициент перепробега\n",
    "5. Средняя сумма удаленностей от центра\n",
    "6. Средний угол\n",
    "7. Средняя сумма углов между ребрами пути\n",
    "\n",
    "\n",
    "\n",
    "Отрисовка на карте маршрута"
   ]
  },
  {
   "cell_type": "code",
   "execution_count": 18,
   "metadata": {},
   "outputs": [
    {
     "name": "stdout",
     "output_type": "stream",
     "text": [
      "279.35290160430094\n"
     ]
    }
   ],
   "source": [
    "coords_1 = (52.2296756, 21.0122287)\n",
    "coords_2 = (52.406374, 16.9251681)\n",
    "\n",
    "print(geopy.distance.distance(coords_1, coords_2).km)"
   ]
  },
  {
   "cell_type": "code",
   "execution_count": 19,
   "metadata": {},
   "outputs": [
    {
     "data": {
      "text/plain": [
       "Index(['Id', 'main_id_locality', 'ETA', 'RTA', 'OrderedDate', 'latitude',\n",
       "       'del_latitude', 'longitude', 'del_longitude', 'EDA', 'RDA',\n",
       "       'ReadyForCollection', 'ClientCollected', 'GoodArrived',\n",
       "       'ready_latitude', 'ready_longitude', 'onway_latitude',\n",
       "       'onway_longitude', 'arrived_latitude', 'arrived_longitude',\n",
       "       'center_latitude', 'center_longitude', 'route', 'track'],\n",
       "      dtype='object')"
      ]
     },
     "execution_count": 19,
     "metadata": {},
     "output_type": "execute_result"
    }
   ],
   "source": [
    "train_df.columns"
   ]
  },
  {
   "cell_type": "code",
   "execution_count": 26,
   "metadata": {},
   "outputs": [],
   "source": [
    "# Геогрфическое расстояние от начальной до конечной точки\n",
    "train_df['haversine'] = train_df.apply(lambda row: haversine((row['latitude'], row['longitude']), \n",
    "                             (row['del_latitude'], row['del_longitude'])), axis=1)"
   ]
  },
  {
   "cell_type": "code",
   "execution_count": 27,
   "metadata": {},
   "outputs": [],
   "source": [
    "# Удаленность от центра города начала маршрута\n",
    "train_df['start_offset'] = train_df.apply(lambda row: haversine((row['latitude'], row['longitude']), \n",
    "                             (row['center_latitude'], row['center_longitude'])), axis=1)"
   ]
  },
  {
   "cell_type": "code",
   "execution_count": 28,
   "metadata": {},
   "outputs": [],
   "source": [
    "# Удаленность от центра города конца маршрута\n",
    "train_df['finish_offset'] = train_df.apply(lambda row: haversine((row['del_latitude'], row['del_longitude']), \n",
    "                             (row['center_latitude'], row['center_longitude'])), axis=1)"
   ]
  },
  {
   "cell_type": "code",
   "execution_count": 29,
   "metadata": {},
   "outputs": [],
   "source": [
    "# Коэффициент перепробега (отношение реальной длины к расстоянию между точками)\n",
    "train_df[\"koeff_overroute\"] = train_df.apply(lambda row: row['EDA'] / row['haversine'], axis=1)"
   ]
  },
  {
   "cell_type": "code",
   "execution_count": 31,
   "metadata": {},
   "outputs": [
    {
     "data": {
      "text/html": [
       "<div>\n",
       "<style scoped>\n",
       "    .dataframe tbody tr th:only-of-type {\n",
       "        vertical-align: middle;\n",
       "    }\n",
       "\n",
       "    .dataframe tbody tr th {\n",
       "        vertical-align: top;\n",
       "    }\n",
       "\n",
       "    .dataframe thead th {\n",
       "        text-align: right;\n",
       "    }\n",
       "</style>\n",
       "<table border=\"1\" class=\"dataframe\">\n",
       "  <thead>\n",
       "    <tr style=\"text-align: right;\">\n",
       "      <th></th>\n",
       "      <th>Id</th>\n",
       "      <th>main_id_locality</th>\n",
       "      <th>ETA</th>\n",
       "      <th>OrderedDate</th>\n",
       "      <th>latitude</th>\n",
       "      <th>del_latitude</th>\n",
       "      <th>longitude</th>\n",
       "      <th>del_longitude</th>\n",
       "      <th>EDA</th>\n",
       "      <th>center_latitude</th>\n",
       "      <th>center_longitude</th>\n",
       "    </tr>\n",
       "  </thead>\n",
       "  <tbody>\n",
       "    <tr>\n",
       "      <th>0</th>\n",
       "      <td>0</td>\n",
       "      <td>1078</td>\n",
       "      <td>1212.0</td>\n",
       "      <td>2020-03-28 00:00:05</td>\n",
       "      <td>55.751270</td>\n",
       "      <td>55.836491</td>\n",
       "      <td>49.183281</td>\n",
       "      <td>49.140308</td>\n",
       "      <td>13.0</td>\n",
       "      <td>55.794388</td>\n",
       "      <td>49.111531</td>\n",
       "    </tr>\n",
       "    <tr>\n",
       "      <th>1</th>\n",
       "      <td>1</td>\n",
       "      <td>1078</td>\n",
       "      <td>968.0</td>\n",
       "      <td>2020-03-28 00:00:29</td>\n",
       "      <td>55.829720</td>\n",
       "      <td>55.819080</td>\n",
       "      <td>49.116032</td>\n",
       "      <td>49.183521</td>\n",
       "      <td>8.0</td>\n",
       "      <td>55.794388</td>\n",
       "      <td>49.111531</td>\n",
       "    </tr>\n",
       "    <tr>\n",
       "      <th>2</th>\n",
       "      <td>2</td>\n",
       "      <td>1078</td>\n",
       "      <td>492.0</td>\n",
       "      <td>2020-03-28 00:00:31</td>\n",
       "      <td>55.785660</td>\n",
       "      <td>55.783699</td>\n",
       "      <td>49.173920</td>\n",
       "      <td>49.195599</td>\n",
       "      <td>3.0</td>\n",
       "      <td>55.794388</td>\n",
       "      <td>49.111531</td>\n",
       "    </tr>\n",
       "    <tr>\n",
       "      <th>3</th>\n",
       "      <td>3</td>\n",
       "      <td>1078</td>\n",
       "      <td>953.0</td>\n",
       "      <td>2020-03-28 00:00:42</td>\n",
       "      <td>55.792568</td>\n",
       "      <td>55.824730</td>\n",
       "      <td>49.172691</td>\n",
       "      <td>49.084911</td>\n",
       "      <td>9.0</td>\n",
       "      <td>55.794388</td>\n",
       "      <td>49.111531</td>\n",
       "    </tr>\n",
       "    <tr>\n",
       "      <th>4</th>\n",
       "      <td>4</td>\n",
       "      <td>1078</td>\n",
       "      <td>1746.0</td>\n",
       "      <td>2020-03-28 00:00:47</td>\n",
       "      <td>55.829369</td>\n",
       "      <td>55.757278</td>\n",
       "      <td>49.092682</td>\n",
       "      <td>49.236542</td>\n",
       "      <td>16.0</td>\n",
       "      <td>55.794388</td>\n",
       "      <td>49.111531</td>\n",
       "    </tr>\n",
       "  </tbody>\n",
       "</table>\n",
       "</div>"
      ],
      "text/plain": [
       "   Id  main_id_locality     ETA          OrderedDate   latitude  del_latitude  \\\n",
       "0   0              1078  1212.0  2020-03-28 00:00:05  55.751270     55.836491   \n",
       "1   1              1078   968.0  2020-03-28 00:00:29  55.829720     55.819080   \n",
       "2   2              1078   492.0  2020-03-28 00:00:31  55.785660     55.783699   \n",
       "3   3              1078   953.0  2020-03-28 00:00:42  55.792568     55.824730   \n",
       "4   4              1078  1746.0  2020-03-28 00:00:47  55.829369     55.757278   \n",
       "\n",
       "   longitude  del_longitude   EDA  center_latitude  center_longitude  \n",
       "0  49.183281      49.140308  13.0        55.794388         49.111531  \n",
       "1  49.116032      49.183521   8.0        55.794388         49.111531  \n",
       "2  49.173920      49.195599   3.0        55.794388         49.111531  \n",
       "3  49.172691      49.084911   9.0        55.794388         49.111531  \n",
       "4  49.092682      49.236542  16.0        55.794388         49.111531  "
      ]
     },
     "execution_count": 31,
     "metadata": {},
     "output_type": "execute_result"
    }
   ],
   "source": [
    "test_df.head()"
   ]
  },
  {
   "cell_type": "code",
   "execution_count": null,
   "metadata": {},
   "outputs": [],
   "source": [
    "# %%timeit\n",
    "# haversine(coords_1, coords_2)"
   ]
  },
  {
   "cell_type": "code",
   "execution_count": null,
   "metadata": {},
   "outputs": [],
   "source": [
    "# %%timeit\n",
    "# get_distance(coords_1, coords_2)"
   ]
  },
  {
   "cell_type": "code",
   "execution_count": 20,
   "metadata": {},
   "outputs": [],
   "source": [
    "def get_route_features(row):\n",
    "    features = {}\n",
    "    parts = polyline.decode(row[\"route\"])\n",
    "    \n",
    "    parts_count = len(parts)\n",
    "    parts_distance_sum = 0\n",
    "    \n",
    "    for i in range(0, len(parts) - 1):\n",
    "        parts_distance_sum += get_distance(parts[i], parts[i + 1])\n",
    "\n",
    "    features[\"parts_count\"] = parts_count\n",
    "    features[\"parts_distance_sum\"] = parts_distance_sum\n",
    "    features[\"parts_distance_avg\"] = parts_distance_sum / parts_count\n",
    "    \n",
    "    return features"
   ]
  },
  {
   "cell_type": "code",
   "execution_count": 21,
   "metadata": {},
   "outputs": [],
   "source": [
    "def get_route_features(row):\n",
    "    features = {}\n",
    "   \n",
    "    try:        \n",
    "        parts = polyline.decode(row[\"route\"])\n",
    "\n",
    "        parts_count = len(parts)\n",
    "        parts_distance_sum = 0\n",
    "\n",
    "        for i in range(0, len(parts) - 1):\n",
    "            parts_distance_sum += haversine(parts[i], parts[i + 1])\n",
    "\n",
    "        features[\"parts_count\"] = parts_count\n",
    "        features[\"parts_distance_sum\"] = parts_distance_sum\n",
    "        features[\"parts_distance_avg\"] = parts_distance_sum / parts_count\n",
    "    except:\n",
    "        features[\"parts_count\"] = 0\n",
    "        features[\"parts_distance_sum\"] = 0\n",
    "        features[\"parts_distance_avg\"] = 0\n",
    "\n",
    "    return features"
   ]
  },
  {
   "cell_type": "code",
   "execution_count": null,
   "metadata": {},
   "outputs": [],
   "source": []
  },
  {
   "cell_type": "code",
   "execution_count": null,
   "metadata": {},
   "outputs": [],
   "source": []
  },
  {
   "cell_type": "code",
   "execution_count": null,
   "metadata": {},
   "outputs": [],
   "source": [
    "train_route_features = []\n",
    "for idx, row in tqdm_notebook(train_df.iterrows()):\n",
    "    train_route_features.append(get_route_features(row))"
   ]
  },
  {
   "cell_type": "code",
   "execution_count": null,
   "metadata": {},
   "outputs": [],
   "source": [
    "train_route_features[0]"
   ]
  },
  {
   "cell_type": "code",
   "execution_count": null,
   "metadata": {},
   "outputs": [],
   "source": [
    "train_route_features_df = pd.DataFrame(train_route_features)"
   ]
  },
  {
   "cell_type": "code",
   "execution_count": null,
   "metadata": {},
   "outputs": [],
   "source": [
    "train_route_features_df.shape"
   ]
  },
  {
   "cell_type": "code",
   "execution_count": null,
   "metadata": {},
   "outputs": [],
   "source": [
    "train_route_features_df.head()"
   ]
  },
  {
   "cell_type": "code",
   "execution_count": null,
   "metadata": {},
   "outputs": [],
   "source": [
    "train_df.shape"
   ]
  },
  {
   "cell_type": "code",
   "execution_count": null,
   "metadata": {},
   "outputs": [],
   "source": [
    "train_df.head()"
   ]
  },
  {
   "cell_type": "code",
   "execution_count": null,
   "metadata": {},
   "outputs": [],
   "source": [
    "train_routes_df = pd.concat([train_df, train_route_features_df], axis=1)"
   ]
  },
  {
   "cell_type": "code",
   "execution_count": null,
   "metadata": {},
   "outputs": [],
   "source": [
    "train_routes_df.shape"
   ]
  },
  {
   "cell_type": "code",
   "execution_count": null,
   "metadata": {},
   "outputs": [],
   "source": []
  },
  {
   "cell_type": "code",
   "execution_count": null,
   "metadata": {},
   "outputs": [],
   "source": []
  },
  {
   "cell_type": "code",
   "execution_count": null,
   "metadata": {},
   "outputs": [],
   "source": []
  },
  {
   "cell_type": "markdown",
   "metadata": {},
   "source": [
    "## 4. Code"
   ]
  },
  {
   "cell_type": "code",
   "execution_count": null,
   "metadata": {},
   "outputs": [],
   "source": []
  },
  {
   "cell_type": "code",
   "execution_count": 22,
   "metadata": {},
   "outputs": [],
   "source": [
    "train_df = pd.read_csv(\"../../data/train.csv\")"
   ]
  },
  {
   "cell_type": "code",
   "execution_count": 23,
   "metadata": {},
   "outputs": [],
   "source": [
    "valid_df = pd.read_csv(\"../../data/validation.csv\")"
   ]
  },
  {
   "cell_type": "code",
   "execution_count": 24,
   "metadata": {},
   "outputs": [],
   "source": [
    "test_df = pd.read_csv(\"../../data/test.csv\")"
   ]
  },
  {
   "cell_type": "code",
   "execution_count": 36,
   "metadata": {},
   "outputs": [],
   "source": [
    "test_additional_df = pd.read_csv(\"../../data/test_additional.csv\")"
   ]
  },
  {
   "cell_type": "code",
   "execution_count": 37,
   "metadata": {},
   "outputs": [],
   "source": [
    "test_df[\"route\"] = test_additional_df[\"route\"]"
   ]
  },
  {
   "cell_type": "code",
   "execution_count": 38,
   "metadata": {},
   "outputs": [],
   "source": [
    "def get_new_features(train_df):\n",
    "    # Геогрфическое расстояние от начальной до конечной точки\n",
    "    train_df.loc[:, 'haversine'] = train_df.apply(lambda row: haversine((row['latitude'], row['longitude']), \n",
    "                             (row['del_latitude'], row['del_longitude'])), axis=1)\n",
    "    \n",
    "    # Удаленность от центра города начала маршрута\n",
    "    train_df.loc[:, 'start_offset'] = train_df.apply(lambda row: haversine((row['latitude'], row['longitude']), \n",
    "                             (row['center_latitude'], row['center_longitude'])), axis=1)\n",
    "\n",
    "    \n",
    "    # Удаленность от центра города конца маршрута\n",
    "    train_df.loc[:, 'finish_offset'] = train_df.apply(lambda row: haversine((row['del_latitude'], row['del_longitude']), \n",
    "                             (row['center_latitude'], row['center_longitude'])), axis=1)\n",
    "    \n",
    "    # Коэффициент перепробега (отношение реальной длины к расстоянию между точками)\n",
    "    train_df.loc[:, \"koeff_overroute\"] = train_df.apply(lambda row: row['EDA'] / row['haversine'], axis=1)\n",
    "    \n",
    "    \n",
    "    train_route_features = []\n",
    "    for idx, row in tqdm_notebook(train_df.iterrows()):\n",
    "        train_route_features.append(get_route_features(row))\n",
    "        \n",
    "    \n",
    "    train_route_features_df = pd.DataFrame(train_route_features)\n",
    "    \n",
    "    train_routes_df = pd.concat([train_df, train_route_features_df], axis=1)\n",
    "    \n",
    "    \n",
    "    feature_names = [\"start_offset\", \"finish_offset\", \"koeff_overroute\", \"parts_count\", \n",
    "                     \"parts_distance_sum\", \"parts_distance_avg\"]\n",
    "    \n",
    "    new_features_df = train_routes_df[feature_names]\n",
    "    \n",
    "    return new_features_df"
   ]
  },
  {
   "cell_type": "code",
   "execution_count": 39,
   "metadata": {},
   "outputs": [
    {
     "name": "stderr",
     "output_type": "stream",
     "text": [
      "/media/xsardas/NVME/Citymobil/venv_city/lib/python3.6/site-packages/ipykernel_launcher.py:20: TqdmDeprecationWarning: This function will be removed in tqdm==5.0.0\n",
      "Please use `tqdm.notebook.tqdm` instead of `tqdm.tqdm_notebook`\n"
     ]
    },
    {
     "data": {
      "application/vnd.jupyter.widget-view+json": {
       "model_id": "734ae47ada9345afb7f936b88b187d1e",
       "version_major": 2,
       "version_minor": 0
      },
      "text/plain": [
       "HBox(children=(FloatProgress(value=1.0, bar_style='info', max=1.0), HTML(value='')))"
      ]
     },
     "metadata": {},
     "output_type": "display_data"
    },
    {
     "name": "stdout",
     "output_type": "stream",
     "text": [
      "\n"
     ]
    }
   ],
   "source": [
    "train_df_extended = get_new_features(train_df)"
   ]
  },
  {
   "cell_type": "code",
   "execution_count": 40,
   "metadata": {},
   "outputs": [
    {
     "data": {
      "text/html": [
       "<div>\n",
       "<style scoped>\n",
       "    .dataframe tbody tr th:only-of-type {\n",
       "        vertical-align: middle;\n",
       "    }\n",
       "\n",
       "    .dataframe tbody tr th {\n",
       "        vertical-align: top;\n",
       "    }\n",
       "\n",
       "    .dataframe thead th {\n",
       "        text-align: right;\n",
       "    }\n",
       "</style>\n",
       "<table border=\"1\" class=\"dataframe\">\n",
       "  <thead>\n",
       "    <tr style=\"text-align: right;\">\n",
       "      <th></th>\n",
       "      <th>start_offset</th>\n",
       "      <th>finish_offset</th>\n",
       "      <th>koeff_overroute</th>\n",
       "      <th>parts_count</th>\n",
       "      <th>parts_distance_sum</th>\n",
       "      <th>parts_distance_avg</th>\n",
       "    </tr>\n",
       "  </thead>\n",
       "  <tbody>\n",
       "    <tr>\n",
       "      <th>0</th>\n",
       "      <td>3.799506</td>\n",
       "      <td>3.599806</td>\n",
       "      <td>2.101118</td>\n",
       "      <td>29</td>\n",
       "      <td>1.092983</td>\n",
       "      <td>0.037689</td>\n",
       "    </tr>\n",
       "    <tr>\n",
       "      <th>1</th>\n",
       "      <td>1.252478</td>\n",
       "      <td>2.958996</td>\n",
       "      <td>1.667000</td>\n",
       "      <td>78</td>\n",
       "      <td>4.924570</td>\n",
       "      <td>0.063136</td>\n",
       "    </tr>\n",
       "    <tr>\n",
       "      <th>2</th>\n",
       "      <td>7.169754</td>\n",
       "      <td>4.963273</td>\n",
       "      <td>1.121356</td>\n",
       "      <td>79</td>\n",
       "      <td>5.139108</td>\n",
       "      <td>0.065052</td>\n",
       "    </tr>\n",
       "    <tr>\n",
       "      <th>3</th>\n",
       "      <td>6.591937</td>\n",
       "      <td>3.547877</td>\n",
       "      <td>1.319370</td>\n",
       "      <td>164</td>\n",
       "      <td>12.724734</td>\n",
       "      <td>0.077590</td>\n",
       "    </tr>\n",
       "    <tr>\n",
       "      <th>4</th>\n",
       "      <td>4.087530</td>\n",
       "      <td>2.171232</td>\n",
       "      <td>1.473710</td>\n",
       "      <td>130</td>\n",
       "      <td>9.052948</td>\n",
       "      <td>0.069638</td>\n",
       "    </tr>\n",
       "  </tbody>\n",
       "</table>\n",
       "</div>"
      ],
      "text/plain": [
       "   start_offset  finish_offset  koeff_overroute  parts_count  \\\n",
       "0      3.799506       3.599806         2.101118           29   \n",
       "1      1.252478       2.958996         1.667000           78   \n",
       "2      7.169754       4.963273         1.121356           79   \n",
       "3      6.591937       3.547877         1.319370          164   \n",
       "4      4.087530       2.171232         1.473710          130   \n",
       "\n",
       "   parts_distance_sum  parts_distance_avg  \n",
       "0            1.092983            0.037689  \n",
       "1            4.924570            0.063136  \n",
       "2            5.139108            0.065052  \n",
       "3           12.724734            0.077590  \n",
       "4            9.052948            0.069638  "
      ]
     },
     "execution_count": 40,
     "metadata": {},
     "output_type": "execute_result"
    }
   ],
   "source": [
    "train_df_extended.head()"
   ]
  },
  {
   "cell_type": "code",
   "execution_count": 41,
   "metadata": {},
   "outputs": [
    {
     "name": "stderr",
     "output_type": "stream",
     "text": [
      "/media/xsardas/NVME/Citymobil/venv_city/lib/python3.6/site-packages/ipykernel_launcher.py:20: TqdmDeprecationWarning: This function will be removed in tqdm==5.0.0\n",
      "Please use `tqdm.notebook.tqdm` instead of `tqdm.tqdm_notebook`\n"
     ]
    },
    {
     "data": {
      "application/vnd.jupyter.widget-view+json": {
       "model_id": "3f3c3a8f7d6d4ce5ae0950a61227583a",
       "version_major": 2,
       "version_minor": 0
      },
      "text/plain": [
       "HBox(children=(FloatProgress(value=1.0, bar_style='info', max=1.0), HTML(value='')))"
      ]
     },
     "metadata": {},
     "output_type": "display_data"
    },
    {
     "name": "stdout",
     "output_type": "stream",
     "text": [
      "\n"
     ]
    }
   ],
   "source": [
    "valid_df_extended = get_new_features(valid_df)"
   ]
  },
  {
   "cell_type": "code",
   "execution_count": 42,
   "metadata": {},
   "outputs": [
    {
     "name": "stderr",
     "output_type": "stream",
     "text": [
      "/media/xsardas/NVME/Citymobil/venv_city/lib/python3.6/site-packages/ipykernel_launcher.py:20: TqdmDeprecationWarning: This function will be removed in tqdm==5.0.0\n",
      "Please use `tqdm.notebook.tqdm` instead of `tqdm.tqdm_notebook`\n"
     ]
    },
    {
     "data": {
      "application/vnd.jupyter.widget-view+json": {
       "model_id": "af2027d37225485b81a4d1b665a01c3f",
       "version_major": 2,
       "version_minor": 0
      },
      "text/plain": [
       "HBox(children=(FloatProgress(value=1.0, bar_style='info', max=1.0), HTML(value='')))"
      ]
     },
     "metadata": {},
     "output_type": "display_data"
    },
    {
     "name": "stdout",
     "output_type": "stream",
     "text": [
      "\n"
     ]
    }
   ],
   "source": [
    "test_df_extended = get_new_features(test_df)"
   ]
  },
  {
   "cell_type": "code",
   "execution_count": 43,
   "metadata": {},
   "outputs": [
    {
     "data": {
      "text/html": [
       "<div>\n",
       "<style scoped>\n",
       "    .dataframe tbody tr th:only-of-type {\n",
       "        vertical-align: middle;\n",
       "    }\n",
       "\n",
       "    .dataframe tbody tr th {\n",
       "        vertical-align: top;\n",
       "    }\n",
       "\n",
       "    .dataframe thead th {\n",
       "        text-align: right;\n",
       "    }\n",
       "</style>\n",
       "<table border=\"1\" class=\"dataframe\">\n",
       "  <thead>\n",
       "    <tr style=\"text-align: right;\">\n",
       "      <th></th>\n",
       "      <th>start_offset</th>\n",
       "      <th>finish_offset</th>\n",
       "      <th>koeff_overroute</th>\n",
       "      <th>parts_count</th>\n",
       "      <th>parts_distance_sum</th>\n",
       "      <th>parts_distance_avg</th>\n",
       "    </tr>\n",
       "  </thead>\n",
       "  <tbody>\n",
       "    <tr>\n",
       "      <th>0</th>\n",
       "      <td>6.566948</td>\n",
       "      <td>5.014991</td>\n",
       "      <td>1.319868</td>\n",
       "      <td>173</td>\n",
       "      <td>12.839233</td>\n",
       "      <td>0.074215</td>\n",
       "    </tr>\n",
       "    <tr>\n",
       "      <th>1</th>\n",
       "      <td>3.938777</td>\n",
       "      <td>5.270377</td>\n",
       "      <td>1.827163</td>\n",
       "      <td>90</td>\n",
       "      <td>7.466408</td>\n",
       "      <td>0.082960</td>\n",
       "    </tr>\n",
       "    <tr>\n",
       "      <th>2</th>\n",
       "      <td>4.019264</td>\n",
       "      <td>5.388477</td>\n",
       "      <td>2.185143</td>\n",
       "      <td>53</td>\n",
       "      <td>2.468043</td>\n",
       "      <td>0.046567</td>\n",
       "    </tr>\n",
       "    <tr>\n",
       "      <th>3</th>\n",
       "      <td>3.828554</td>\n",
       "      <td>3.761648</td>\n",
       "      <td>1.374473</td>\n",
       "      <td>127</td>\n",
       "      <td>8.486010</td>\n",
       "      <td>0.066819</td>\n",
       "    </tr>\n",
       "    <tr>\n",
       "      <th>4</th>\n",
       "      <td>4.064094</td>\n",
       "      <td>8.840243</td>\n",
       "      <td>1.328134</td>\n",
       "      <td>152</td>\n",
       "      <td>16.215731</td>\n",
       "      <td>0.106682</td>\n",
       "    </tr>\n",
       "  </tbody>\n",
       "</table>\n",
       "</div>"
      ],
      "text/plain": [
       "   start_offset  finish_offset  koeff_overroute  parts_count  \\\n",
       "0      6.566948       5.014991         1.319868          173   \n",
       "1      3.938777       5.270377         1.827163           90   \n",
       "2      4.019264       5.388477         2.185143           53   \n",
       "3      3.828554       3.761648         1.374473          127   \n",
       "4      4.064094       8.840243         1.328134          152   \n",
       "\n",
       "   parts_distance_sum  parts_distance_avg  \n",
       "0           12.839233            0.074215  \n",
       "1            7.466408            0.082960  \n",
       "2            2.468043            0.046567  \n",
       "3            8.486010            0.066819  \n",
       "4           16.215731            0.106682  "
      ]
     },
     "execution_count": 43,
     "metadata": {},
     "output_type": "execute_result"
    }
   ],
   "source": [
    "test_df_extended.head()"
   ]
  },
  {
   "cell_type": "code",
   "execution_count": 44,
   "metadata": {},
   "outputs": [
    {
     "name": "stdout",
     "output_type": "stream",
     "text": [
      "test_additional.csv\t test.csv.zip\ttrain.csv.zip\tvalidation.csv.zip\r\n",
      "test_additional.csv.zip  test_ext2.csv\ttrain_ext2.csv\tvalid_ext2.csv\r\n",
      "test.csv\t\t train.csv\tvalidation.csv\r\n"
     ]
    }
   ],
   "source": [
    "!ls  ../../data"
   ]
  },
  {
   "cell_type": "code",
   "execution_count": 45,
   "metadata": {},
   "outputs": [],
   "source": [
    "train_df_extended.to_csv(\"../../data/train_extended.csv\", index=False)"
   ]
  },
  {
   "cell_type": "code",
   "execution_count": 46,
   "metadata": {},
   "outputs": [],
   "source": [
    "valid_df_extended.to_csv(\"../../data/valid_extended.csv\", index=False)"
   ]
  },
  {
   "cell_type": "code",
   "execution_count": 47,
   "metadata": {},
   "outputs": [],
   "source": [
    "test_df_extended.to_csv(\"../../data/test_extended.csv\", index=False)"
   ]
  },
  {
   "cell_type": "code",
   "execution_count": null,
   "metadata": {},
   "outputs": [],
   "source": []
  },
  {
   "cell_type": "markdown",
   "metadata": {},
   "source": [
    "## 5. Train"
   ]
  },
  {
   "cell_type": "code",
   "execution_count": 62,
   "metadata": {},
   "outputs": [],
   "source": [
    "train_ext2 = pd.read_csv(\"../../data/train_ext2.csv\")\n",
    "valid_ext2 = pd.read_csv(\"../../data/valid_ext2.csv\")\n",
    "test_ext2 = pd.read_csv(\"../../data/test_ext2.csv\")"
   ]
  },
  {
   "cell_type": "code",
   "execution_count": 59,
   "metadata": {},
   "outputs": [
    {
     "data": {
      "text/html": [
       "<div>\n",
       "<style scoped>\n",
       "    .dataframe tbody tr th:only-of-type {\n",
       "        vertical-align: middle;\n",
       "    }\n",
       "\n",
       "    .dataframe tbody tr th {\n",
       "        vertical-align: top;\n",
       "    }\n",
       "\n",
       "    .dataframe thead th {\n",
       "        text-align: right;\n",
       "    }\n",
       "</style>\n",
       "<table border=\"1\" class=\"dataframe\">\n",
       "  <thead>\n",
       "    <tr style=\"text-align: right;\">\n",
       "      <th></th>\n",
       "      <th>Id</th>\n",
       "      <th>main_id_locality</th>\n",
       "      <th>ETA</th>\n",
       "      <th>pickup_latitude</th>\n",
       "      <th>dropoff_latitude</th>\n",
       "      <th>pickup_longitude</th>\n",
       "      <th>dropoff_longitude</th>\n",
       "      <th>EDA</th>\n",
       "      <th>center_latitude</th>\n",
       "      <th>center_longitude</th>\n",
       "      <th>pickup_pca0</th>\n",
       "      <th>pickup_pca1</th>\n",
       "      <th>dropoff_pca0</th>\n",
       "      <th>dropoff_pca1</th>\n",
       "      <th>distance_haversine</th>\n",
       "      <th>distance_dummy_manhattan</th>\n",
       "      <th>direction</th>\n",
       "      <th>pca_manhattan</th>\n",
       "      <th>pickup_weekday</th>\n",
       "      <th>pickup_hour_weekofyear</th>\n",
       "      <th>pickup_hour</th>\n",
       "      <th>pickup_minute</th>\n",
       "      <th>pickup_dt</th>\n",
       "      <th>pickup_week_hour</th>\n",
       "      <th>pickup_cluster</th>\n",
       "      <th>dropoff_cluster</th>\n",
       "      <th>avg_speed_h_gby_pickup_hour</th>\n",
       "      <th>avg_speed_m_gby_pickup_hour</th>\n",
       "      <th>log_trip_duration_gby_pickup_hour</th>\n",
       "      <th>avg_speed_h_gby_pickup_date</th>\n",
       "      <th>avg_speed_m_gby_pickup_date</th>\n",
       "      <th>log_trip_duration_gby_pickup_date</th>\n",
       "      <th>avg_speed_h_gby_pickup_dt_bin</th>\n",
       "      <th>avg_speed_m_gby_pickup_dt_bin</th>\n",
       "      <th>log_trip_duration_gby_pickup_dt_bin</th>\n",
       "      <th>avg_speed_h_gby_pickup_week_hour</th>\n",
       "      <th>avg_speed_m_gby_pickup_week_hour</th>\n",
       "      <th>log_trip_duration_gby_pickup_week_hour</th>\n",
       "      <th>avg_speed_h_gby_pickup_cluster</th>\n",
       "      <th>avg_speed_m_gby_pickup_cluster</th>\n",
       "      <th>log_trip_duration_gby_pickup_cluster</th>\n",
       "      <th>avg_speed_h_gby_dropoff_cluster</th>\n",
       "      <th>avg_speed_m_gby_dropoff_cluster</th>\n",
       "      <th>log_trip_duration_gby_dropoff_cluster</th>\n",
       "    </tr>\n",
       "  </thead>\n",
       "  <tbody>\n",
       "    <tr>\n",
       "      <th>0</th>\n",
       "      <td>0</td>\n",
       "      <td>1078</td>\n",
       "      <td>226.0</td>\n",
       "      <td>55.826019</td>\n",
       "      <td>55.825581</td>\n",
       "      <td>49.134529</td>\n",
       "      <td>49.126949</td>\n",
       "      <td>1.0</td>\n",
       "      <td>55.825800</td>\n",
       "      <td>49.130739</td>\n",
       "      <td>-0.893777</td>\n",
       "      <td>-1.378632</td>\n",
       "      <td>-0.900514</td>\n",
       "      <td>-1.382132</td>\n",
       "      <td>0.475936</td>\n",
       "      <td>0.522207</td>\n",
       "      <td>-95.879608</td>\n",
       "      <td>0.010238</td>\n",
       "      <td>2</td>\n",
       "      <td>7</td>\n",
       "      <td>19</td>\n",
       "      <td>12</td>\n",
       "      <td>2056285.0</td>\n",
       "      <td>67</td>\n",
       "      <td>64</td>\n",
       "      <td>63</td>\n",
       "      <td>5.459265</td>\n",
       "      <td>6.999325</td>\n",
       "      <td>6.423005</td>\n",
       "      <td>5.215243</td>\n",
       "      <td>6.688212</td>\n",
       "      <td>6.513568</td>\n",
       "      <td>5.457045</td>\n",
       "      <td>6.982554</td>\n",
       "      <td>6.4522</td>\n",
       "      <td>5.401272</td>\n",
       "      <td>6.929604</td>\n",
       "      <td>6.441993</td>\n",
       "      <td>6.014004</td>\n",
       "      <td>7.581035</td>\n",
       "      <td>6.457459</td>\n",
       "      <td>5.661696</td>\n",
       "      <td>7.180574</td>\n",
       "      <td>6.447411</td>\n",
       "    </tr>\n",
       "    <tr>\n",
       "      <th>1</th>\n",
       "      <td>1</td>\n",
       "      <td>1078</td>\n",
       "      <td>718.0</td>\n",
       "      <td>55.795502</td>\n",
       "      <td>55.820911</td>\n",
       "      <td>49.131470</td>\n",
       "      <td>49.115360</td>\n",
       "      <td>5.0</td>\n",
       "      <td>55.808207</td>\n",
       "      <td>49.123415</td>\n",
       "      <td>-0.912015</td>\n",
       "      <td>-1.353974</td>\n",
       "      <td>-0.912861</td>\n",
       "      <td>-1.384048</td>\n",
       "      <td>2.999397</td>\n",
       "      <td>3.832401</td>\n",
       "      <td>-19.603279</td>\n",
       "      <td>0.030920</td>\n",
       "      <td>2</td>\n",
       "      <td>7</td>\n",
       "      <td>19</td>\n",
       "      <td>12</td>\n",
       "      <td>2056301.0</td>\n",
       "      <td>67</td>\n",
       "      <td>90</td>\n",
       "      <td>63</td>\n",
       "      <td>5.459265</td>\n",
       "      <td>6.999325</td>\n",
       "      <td>6.423005</td>\n",
       "      <td>5.215243</td>\n",
       "      <td>6.688212</td>\n",
       "      <td>6.513568</td>\n",
       "      <td>5.457045</td>\n",
       "      <td>6.982554</td>\n",
       "      <td>6.4522</td>\n",
       "      <td>5.401272</td>\n",
       "      <td>6.929604</td>\n",
       "      <td>6.441993</td>\n",
       "      <td>6.119228</td>\n",
       "      <td>7.870835</td>\n",
       "      <td>6.420048</td>\n",
       "      <td>5.661696</td>\n",
       "      <td>7.180574</td>\n",
       "      <td>6.447411</td>\n",
       "    </tr>\n",
       "    <tr>\n",
       "      <th>2</th>\n",
       "      <td>2</td>\n",
       "      <td>1078</td>\n",
       "      <td>612.0</td>\n",
       "      <td>55.791050</td>\n",
       "      <td>55.819962</td>\n",
       "      <td>49.226070</td>\n",
       "      <td>49.176628</td>\n",
       "      <td>5.0</td>\n",
       "      <td>55.805506</td>\n",
       "      <td>49.201349</td>\n",
       "      <td>-0.833002</td>\n",
       "      <td>-1.301762</td>\n",
       "      <td>-0.860700</td>\n",
       "      <td>-1.351894</td>\n",
       "      <td>4.458880</td>\n",
       "      <td>6.305716</td>\n",
       "      <td>-43.843021</td>\n",
       "      <td>0.077830</td>\n",
       "      <td>2</td>\n",
       "      <td>7</td>\n",
       "      <td>19</td>\n",
       "      <td>12</td>\n",
       "      <td>2056323.0</td>\n",
       "      <td>67</td>\n",
       "      <td>54</td>\n",
       "      <td>14</td>\n",
       "      <td>5.459265</td>\n",
       "      <td>6.999325</td>\n",
       "      <td>6.423005</td>\n",
       "      <td>5.215243</td>\n",
       "      <td>6.688212</td>\n",
       "      <td>6.513568</td>\n",
       "      <td>5.457045</td>\n",
       "      <td>6.982554</td>\n",
       "      <td>6.4522</td>\n",
       "      <td>5.401272</td>\n",
       "      <td>6.929604</td>\n",
       "      <td>6.441993</td>\n",
       "      <td>5.850607</td>\n",
       "      <td>7.499397</td>\n",
       "      <td>6.571342</td>\n",
       "      <td>6.065958</td>\n",
       "      <td>7.751825</td>\n",
       "      <td>6.616904</td>\n",
       "    </tr>\n",
       "    <tr>\n",
       "      <th>3</th>\n",
       "      <td>3</td>\n",
       "      <td>1078</td>\n",
       "      <td>1560.0</td>\n",
       "      <td>55.753899</td>\n",
       "      <td>55.824680</td>\n",
       "      <td>49.188519</td>\n",
       "      <td>49.093700</td>\n",
       "      <td>13.0</td>\n",
       "      <td>55.789289</td>\n",
       "      <td>49.141109</td>\n",
       "      <td>-0.884273</td>\n",
       "      <td>-1.289045</td>\n",
       "      <td>-0.929545</td>\n",
       "      <td>-1.398365</td>\n",
       "      <td>9.853176</td>\n",
       "      <td>13.803791</td>\n",
       "      <td>-36.946603</td>\n",
       "      <td>0.154593</td>\n",
       "      <td>2</td>\n",
       "      <td>7</td>\n",
       "      <td>19</td>\n",
       "      <td>12</td>\n",
       "      <td>2056323.0</td>\n",
       "      <td>67</td>\n",
       "      <td>67</td>\n",
       "      <td>4</td>\n",
       "      <td>5.459265</td>\n",
       "      <td>6.999325</td>\n",
       "      <td>6.423005</td>\n",
       "      <td>5.215243</td>\n",
       "      <td>6.688212</td>\n",
       "      <td>6.513568</td>\n",
       "      <td>5.457045</td>\n",
       "      <td>6.982554</td>\n",
       "      <td>6.4522</td>\n",
       "      <td>5.401272</td>\n",
       "      <td>6.929604</td>\n",
       "      <td>6.441993</td>\n",
       "      <td>5.423937</td>\n",
       "      <td>7.028498</td>\n",
       "      <td>6.538926</td>\n",
       "      <td>5.730565</td>\n",
       "      <td>7.348535</td>\n",
       "      <td>6.427492</td>\n",
       "    </tr>\n",
       "    <tr>\n",
       "      <th>4</th>\n",
       "      <td>4</td>\n",
       "      <td>1078</td>\n",
       "      <td>1528.0</td>\n",
       "      <td>55.822361</td>\n",
       "      <td>55.786758</td>\n",
       "      <td>49.069092</td>\n",
       "      <td>49.143501</td>\n",
       "      <td>9.0</td>\n",
       "      <td>55.804560</td>\n",
       "      <td>49.106297</td>\n",
       "      <td>-0.951878</td>\n",
       "      <td>-1.408959</td>\n",
       "      <td>-0.906148</td>\n",
       "      <td>-1.340307</td>\n",
       "      <td>6.107029</td>\n",
       "      <td>8.606808</td>\n",
       "      <td>130.378310</td>\n",
       "      <td>0.114382</td>\n",
       "      <td>2</td>\n",
       "      <td>7</td>\n",
       "      <td>19</td>\n",
       "      <td>12</td>\n",
       "      <td>2056324.0</td>\n",
       "      <td>67</td>\n",
       "      <td>93</td>\n",
       "      <td>7</td>\n",
       "      <td>5.459265</td>\n",
       "      <td>6.999325</td>\n",
       "      <td>6.423005</td>\n",
       "      <td>5.215243</td>\n",
       "      <td>6.688212</td>\n",
       "      <td>6.513568</td>\n",
       "      <td>5.457045</td>\n",
       "      <td>6.982554</td>\n",
       "      <td>6.4522</td>\n",
       "      <td>5.401272</td>\n",
       "      <td>6.929604</td>\n",
       "      <td>6.441993</td>\n",
       "      <td>5.530983</td>\n",
       "      <td>7.140986</td>\n",
       "      <td>6.550487</td>\n",
       "      <td>5.593248</td>\n",
       "      <td>7.150013</td>\n",
       "      <td>6.485789</td>\n",
       "    </tr>\n",
       "  </tbody>\n",
       "</table>\n",
       "</div>"
      ],
      "text/plain": [
       "   Id  main_id_locality     ETA  pickup_latitude  dropoff_latitude  \\\n",
       "0   0              1078   226.0        55.826019         55.825581   \n",
       "1   1              1078   718.0        55.795502         55.820911   \n",
       "2   2              1078   612.0        55.791050         55.819962   \n",
       "3   3              1078  1560.0        55.753899         55.824680   \n",
       "4   4              1078  1528.0        55.822361         55.786758   \n",
       "\n",
       "   pickup_longitude  dropoff_longitude   EDA  center_latitude  \\\n",
       "0         49.134529          49.126949   1.0        55.825800   \n",
       "1         49.131470          49.115360   5.0        55.808207   \n",
       "2         49.226070          49.176628   5.0        55.805506   \n",
       "3         49.188519          49.093700  13.0        55.789289   \n",
       "4         49.069092          49.143501   9.0        55.804560   \n",
       "\n",
       "   center_longitude  pickup_pca0  pickup_pca1  dropoff_pca0  dropoff_pca1  \\\n",
       "0         49.130739    -0.893777    -1.378632     -0.900514     -1.382132   \n",
       "1         49.123415    -0.912015    -1.353974     -0.912861     -1.384048   \n",
       "2         49.201349    -0.833002    -1.301762     -0.860700     -1.351894   \n",
       "3         49.141109    -0.884273    -1.289045     -0.929545     -1.398365   \n",
       "4         49.106297    -0.951878    -1.408959     -0.906148     -1.340307   \n",
       "\n",
       "   distance_haversine  distance_dummy_manhattan   direction  pca_manhattan  \\\n",
       "0            0.475936                  0.522207  -95.879608       0.010238   \n",
       "1            2.999397                  3.832401  -19.603279       0.030920   \n",
       "2            4.458880                  6.305716  -43.843021       0.077830   \n",
       "3            9.853176                 13.803791  -36.946603       0.154593   \n",
       "4            6.107029                  8.606808  130.378310       0.114382   \n",
       "\n",
       "   pickup_weekday  pickup_hour_weekofyear  pickup_hour  pickup_minute  \\\n",
       "0               2                       7           19             12   \n",
       "1               2                       7           19             12   \n",
       "2               2                       7           19             12   \n",
       "3               2                       7           19             12   \n",
       "4               2                       7           19             12   \n",
       "\n",
       "   pickup_dt  pickup_week_hour  pickup_cluster  dropoff_cluster  \\\n",
       "0  2056285.0                67              64               63   \n",
       "1  2056301.0                67              90               63   \n",
       "2  2056323.0                67              54               14   \n",
       "3  2056323.0                67              67                4   \n",
       "4  2056324.0                67              93                7   \n",
       "\n",
       "   avg_speed_h_gby_pickup_hour  avg_speed_m_gby_pickup_hour  \\\n",
       "0                     5.459265                     6.999325   \n",
       "1                     5.459265                     6.999325   \n",
       "2                     5.459265                     6.999325   \n",
       "3                     5.459265                     6.999325   \n",
       "4                     5.459265                     6.999325   \n",
       "\n",
       "   log_trip_duration_gby_pickup_hour  avg_speed_h_gby_pickup_date  \\\n",
       "0                           6.423005                     5.215243   \n",
       "1                           6.423005                     5.215243   \n",
       "2                           6.423005                     5.215243   \n",
       "3                           6.423005                     5.215243   \n",
       "4                           6.423005                     5.215243   \n",
       "\n",
       "   avg_speed_m_gby_pickup_date  log_trip_duration_gby_pickup_date  \\\n",
       "0                     6.688212                           6.513568   \n",
       "1                     6.688212                           6.513568   \n",
       "2                     6.688212                           6.513568   \n",
       "3                     6.688212                           6.513568   \n",
       "4                     6.688212                           6.513568   \n",
       "\n",
       "   avg_speed_h_gby_pickup_dt_bin  avg_speed_m_gby_pickup_dt_bin  \\\n",
       "0                       5.457045                       6.982554   \n",
       "1                       5.457045                       6.982554   \n",
       "2                       5.457045                       6.982554   \n",
       "3                       5.457045                       6.982554   \n",
       "4                       5.457045                       6.982554   \n",
       "\n",
       "   log_trip_duration_gby_pickup_dt_bin  avg_speed_h_gby_pickup_week_hour  \\\n",
       "0                               6.4522                          5.401272   \n",
       "1                               6.4522                          5.401272   \n",
       "2                               6.4522                          5.401272   \n",
       "3                               6.4522                          5.401272   \n",
       "4                               6.4522                          5.401272   \n",
       "\n",
       "   avg_speed_m_gby_pickup_week_hour  log_trip_duration_gby_pickup_week_hour  \\\n",
       "0                          6.929604                                6.441993   \n",
       "1                          6.929604                                6.441993   \n",
       "2                          6.929604                                6.441993   \n",
       "3                          6.929604                                6.441993   \n",
       "4                          6.929604                                6.441993   \n",
       "\n",
       "   avg_speed_h_gby_pickup_cluster  avg_speed_m_gby_pickup_cluster  \\\n",
       "0                        6.014004                        7.581035   \n",
       "1                        6.119228                        7.870835   \n",
       "2                        5.850607                        7.499397   \n",
       "3                        5.423937                        7.028498   \n",
       "4                        5.530983                        7.140986   \n",
       "\n",
       "   log_trip_duration_gby_pickup_cluster  avg_speed_h_gby_dropoff_cluster  \\\n",
       "0                              6.457459                         5.661696   \n",
       "1                              6.420048                         5.661696   \n",
       "2                              6.571342                         6.065958   \n",
       "3                              6.538926                         5.730565   \n",
       "4                              6.550487                         5.593248   \n",
       "\n",
       "   avg_speed_m_gby_dropoff_cluster  log_trip_duration_gby_dropoff_cluster  \n",
       "0                         7.180574                               6.447411  \n",
       "1                         7.180574                               6.447411  \n",
       "2                         7.751825                               6.616904  \n",
       "3                         7.348535                               6.427492  \n",
       "4                         7.150013                               6.485789  "
      ]
     },
     "execution_count": 59,
     "metadata": {},
     "output_type": "execute_result"
    }
   ],
   "source": [
    "train_ext2.head()"
   ]
  },
  {
   "cell_type": "code",
   "execution_count": 60,
   "metadata": {},
   "outputs": [],
   "source": [
    "drop_cols = [\"pickup_weekday\", \"main_id_locality\", \"ETA\", \"Id\", \"pickup_weekday\", \"pickup_hour\", \n",
    "            \"pickup_minute\"]"
   ]
  },
  {
   "cell_type": "code",
   "execution_count": 61,
   "metadata": {},
   "outputs": [],
   "source": [
    "cat_features = [\"pickup_hour_weekofyear\", \"pickup_week_hour\", \"pickup_cluster\", \"dropoff_cluster\", \"dropoff_cluster\"]"
   ]
  },
  {
   "cell_type": "code",
   "execution_count": 63,
   "metadata": {},
   "outputs": [],
   "source": [
    "train_ext2.drop(drop_cols, axis=1, inplace=True)"
   ]
  },
  {
   "cell_type": "code",
   "execution_count": 64,
   "metadata": {},
   "outputs": [
    {
     "data": {
      "text/html": [
       "<div>\n",
       "<style scoped>\n",
       "    .dataframe tbody tr th:only-of-type {\n",
       "        vertical-align: middle;\n",
       "    }\n",
       "\n",
       "    .dataframe tbody tr th {\n",
       "        vertical-align: top;\n",
       "    }\n",
       "\n",
       "    .dataframe thead th {\n",
       "        text-align: right;\n",
       "    }\n",
       "</style>\n",
       "<table border=\"1\" class=\"dataframe\">\n",
       "  <thead>\n",
       "    <tr style=\"text-align: right;\">\n",
       "      <th></th>\n",
       "      <th>pickup_latitude</th>\n",
       "      <th>dropoff_latitude</th>\n",
       "      <th>pickup_longitude</th>\n",
       "      <th>dropoff_longitude</th>\n",
       "      <th>EDA</th>\n",
       "      <th>center_latitude</th>\n",
       "      <th>center_longitude</th>\n",
       "      <th>pickup_pca0</th>\n",
       "      <th>pickup_pca1</th>\n",
       "      <th>dropoff_pca0</th>\n",
       "      <th>dropoff_pca1</th>\n",
       "      <th>distance_haversine</th>\n",
       "      <th>distance_dummy_manhattan</th>\n",
       "      <th>direction</th>\n",
       "      <th>pca_manhattan</th>\n",
       "      <th>pickup_hour_weekofyear</th>\n",
       "      <th>pickup_hour</th>\n",
       "      <th>pickup_dt</th>\n",
       "      <th>pickup_week_hour</th>\n",
       "      <th>pickup_cluster</th>\n",
       "      <th>dropoff_cluster</th>\n",
       "      <th>avg_speed_h_gby_pickup_hour</th>\n",
       "      <th>avg_speed_m_gby_pickup_hour</th>\n",
       "      <th>log_trip_duration_gby_pickup_hour</th>\n",
       "      <th>avg_speed_h_gby_pickup_date</th>\n",
       "      <th>avg_speed_m_gby_pickup_date</th>\n",
       "      <th>log_trip_duration_gby_pickup_date</th>\n",
       "      <th>avg_speed_h_gby_pickup_dt_bin</th>\n",
       "      <th>avg_speed_m_gby_pickup_dt_bin</th>\n",
       "      <th>log_trip_duration_gby_pickup_dt_bin</th>\n",
       "      <th>avg_speed_h_gby_pickup_week_hour</th>\n",
       "      <th>avg_speed_m_gby_pickup_week_hour</th>\n",
       "      <th>log_trip_duration_gby_pickup_week_hour</th>\n",
       "      <th>avg_speed_h_gby_pickup_cluster</th>\n",
       "      <th>avg_speed_m_gby_pickup_cluster</th>\n",
       "      <th>log_trip_duration_gby_pickup_cluster</th>\n",
       "      <th>avg_speed_h_gby_dropoff_cluster</th>\n",
       "      <th>avg_speed_m_gby_dropoff_cluster</th>\n",
       "      <th>log_trip_duration_gby_dropoff_cluster</th>\n",
       "    </tr>\n",
       "  </thead>\n",
       "  <tbody>\n",
       "    <tr>\n",
       "      <th>0</th>\n",
       "      <td>55.826019</td>\n",
       "      <td>55.825581</td>\n",
       "      <td>49.134529</td>\n",
       "      <td>49.126949</td>\n",
       "      <td>1.0</td>\n",
       "      <td>55.825800</td>\n",
       "      <td>49.130739</td>\n",
       "      <td>-0.893777</td>\n",
       "      <td>-1.378632</td>\n",
       "      <td>-0.900514</td>\n",
       "      <td>-1.382132</td>\n",
       "      <td>0.475936</td>\n",
       "      <td>0.522207</td>\n",
       "      <td>-95.879608</td>\n",
       "      <td>0.010238</td>\n",
       "      <td>7</td>\n",
       "      <td>19</td>\n",
       "      <td>2056285.0</td>\n",
       "      <td>67</td>\n",
       "      <td>64</td>\n",
       "      <td>63</td>\n",
       "      <td>5.459265</td>\n",
       "      <td>6.999325</td>\n",
       "      <td>6.423005</td>\n",
       "      <td>5.215243</td>\n",
       "      <td>6.688212</td>\n",
       "      <td>6.513568</td>\n",
       "      <td>5.457045</td>\n",
       "      <td>6.982554</td>\n",
       "      <td>6.4522</td>\n",
       "      <td>5.401272</td>\n",
       "      <td>6.929604</td>\n",
       "      <td>6.441993</td>\n",
       "      <td>6.014004</td>\n",
       "      <td>7.581035</td>\n",
       "      <td>6.457459</td>\n",
       "      <td>5.661696</td>\n",
       "      <td>7.180574</td>\n",
       "      <td>6.447411</td>\n",
       "    </tr>\n",
       "    <tr>\n",
       "      <th>1</th>\n",
       "      <td>55.795502</td>\n",
       "      <td>55.820911</td>\n",
       "      <td>49.131470</td>\n",
       "      <td>49.115360</td>\n",
       "      <td>5.0</td>\n",
       "      <td>55.808207</td>\n",
       "      <td>49.123415</td>\n",
       "      <td>-0.912015</td>\n",
       "      <td>-1.353974</td>\n",
       "      <td>-0.912861</td>\n",
       "      <td>-1.384048</td>\n",
       "      <td>2.999397</td>\n",
       "      <td>3.832401</td>\n",
       "      <td>-19.603279</td>\n",
       "      <td>0.030920</td>\n",
       "      <td>7</td>\n",
       "      <td>19</td>\n",
       "      <td>2056301.0</td>\n",
       "      <td>67</td>\n",
       "      <td>90</td>\n",
       "      <td>63</td>\n",
       "      <td>5.459265</td>\n",
       "      <td>6.999325</td>\n",
       "      <td>6.423005</td>\n",
       "      <td>5.215243</td>\n",
       "      <td>6.688212</td>\n",
       "      <td>6.513568</td>\n",
       "      <td>5.457045</td>\n",
       "      <td>6.982554</td>\n",
       "      <td>6.4522</td>\n",
       "      <td>5.401272</td>\n",
       "      <td>6.929604</td>\n",
       "      <td>6.441993</td>\n",
       "      <td>6.119228</td>\n",
       "      <td>7.870835</td>\n",
       "      <td>6.420048</td>\n",
       "      <td>5.661696</td>\n",
       "      <td>7.180574</td>\n",
       "      <td>6.447411</td>\n",
       "    </tr>\n",
       "    <tr>\n",
       "      <th>2</th>\n",
       "      <td>55.791050</td>\n",
       "      <td>55.819962</td>\n",
       "      <td>49.226070</td>\n",
       "      <td>49.176628</td>\n",
       "      <td>5.0</td>\n",
       "      <td>55.805506</td>\n",
       "      <td>49.201349</td>\n",
       "      <td>-0.833002</td>\n",
       "      <td>-1.301762</td>\n",
       "      <td>-0.860700</td>\n",
       "      <td>-1.351894</td>\n",
       "      <td>4.458880</td>\n",
       "      <td>6.305716</td>\n",
       "      <td>-43.843021</td>\n",
       "      <td>0.077830</td>\n",
       "      <td>7</td>\n",
       "      <td>19</td>\n",
       "      <td>2056323.0</td>\n",
       "      <td>67</td>\n",
       "      <td>54</td>\n",
       "      <td>14</td>\n",
       "      <td>5.459265</td>\n",
       "      <td>6.999325</td>\n",
       "      <td>6.423005</td>\n",
       "      <td>5.215243</td>\n",
       "      <td>6.688212</td>\n",
       "      <td>6.513568</td>\n",
       "      <td>5.457045</td>\n",
       "      <td>6.982554</td>\n",
       "      <td>6.4522</td>\n",
       "      <td>5.401272</td>\n",
       "      <td>6.929604</td>\n",
       "      <td>6.441993</td>\n",
       "      <td>5.850607</td>\n",
       "      <td>7.499397</td>\n",
       "      <td>6.571342</td>\n",
       "      <td>6.065958</td>\n",
       "      <td>7.751825</td>\n",
       "      <td>6.616904</td>\n",
       "    </tr>\n",
       "    <tr>\n",
       "      <th>3</th>\n",
       "      <td>55.753899</td>\n",
       "      <td>55.824680</td>\n",
       "      <td>49.188519</td>\n",
       "      <td>49.093700</td>\n",
       "      <td>13.0</td>\n",
       "      <td>55.789289</td>\n",
       "      <td>49.141109</td>\n",
       "      <td>-0.884273</td>\n",
       "      <td>-1.289045</td>\n",
       "      <td>-0.929545</td>\n",
       "      <td>-1.398365</td>\n",
       "      <td>9.853176</td>\n",
       "      <td>13.803791</td>\n",
       "      <td>-36.946603</td>\n",
       "      <td>0.154593</td>\n",
       "      <td>7</td>\n",
       "      <td>19</td>\n",
       "      <td>2056323.0</td>\n",
       "      <td>67</td>\n",
       "      <td>67</td>\n",
       "      <td>4</td>\n",
       "      <td>5.459265</td>\n",
       "      <td>6.999325</td>\n",
       "      <td>6.423005</td>\n",
       "      <td>5.215243</td>\n",
       "      <td>6.688212</td>\n",
       "      <td>6.513568</td>\n",
       "      <td>5.457045</td>\n",
       "      <td>6.982554</td>\n",
       "      <td>6.4522</td>\n",
       "      <td>5.401272</td>\n",
       "      <td>6.929604</td>\n",
       "      <td>6.441993</td>\n",
       "      <td>5.423937</td>\n",
       "      <td>7.028498</td>\n",
       "      <td>6.538926</td>\n",
       "      <td>5.730565</td>\n",
       "      <td>7.348535</td>\n",
       "      <td>6.427492</td>\n",
       "    </tr>\n",
       "    <tr>\n",
       "      <th>4</th>\n",
       "      <td>55.822361</td>\n",
       "      <td>55.786758</td>\n",
       "      <td>49.069092</td>\n",
       "      <td>49.143501</td>\n",
       "      <td>9.0</td>\n",
       "      <td>55.804560</td>\n",
       "      <td>49.106297</td>\n",
       "      <td>-0.951878</td>\n",
       "      <td>-1.408959</td>\n",
       "      <td>-0.906148</td>\n",
       "      <td>-1.340307</td>\n",
       "      <td>6.107029</td>\n",
       "      <td>8.606808</td>\n",
       "      <td>130.378310</td>\n",
       "      <td>0.114382</td>\n",
       "      <td>7</td>\n",
       "      <td>19</td>\n",
       "      <td>2056324.0</td>\n",
       "      <td>67</td>\n",
       "      <td>93</td>\n",
       "      <td>7</td>\n",
       "      <td>5.459265</td>\n",
       "      <td>6.999325</td>\n",
       "      <td>6.423005</td>\n",
       "      <td>5.215243</td>\n",
       "      <td>6.688212</td>\n",
       "      <td>6.513568</td>\n",
       "      <td>5.457045</td>\n",
       "      <td>6.982554</td>\n",
       "      <td>6.4522</td>\n",
       "      <td>5.401272</td>\n",
       "      <td>6.929604</td>\n",
       "      <td>6.441993</td>\n",
       "      <td>5.530983</td>\n",
       "      <td>7.140986</td>\n",
       "      <td>6.550487</td>\n",
       "      <td>5.593248</td>\n",
       "      <td>7.150013</td>\n",
       "      <td>6.485789</td>\n",
       "    </tr>\n",
       "  </tbody>\n",
       "</table>\n",
       "</div>"
      ],
      "text/plain": [
       "   pickup_latitude  dropoff_latitude  pickup_longitude  dropoff_longitude  \\\n",
       "0        55.826019         55.825581         49.134529          49.126949   \n",
       "1        55.795502         55.820911         49.131470          49.115360   \n",
       "2        55.791050         55.819962         49.226070          49.176628   \n",
       "3        55.753899         55.824680         49.188519          49.093700   \n",
       "4        55.822361         55.786758         49.069092          49.143501   \n",
       "\n",
       "    EDA  center_latitude  center_longitude  pickup_pca0  pickup_pca1  \\\n",
       "0   1.0        55.825800         49.130739    -0.893777    -1.378632   \n",
       "1   5.0        55.808207         49.123415    -0.912015    -1.353974   \n",
       "2   5.0        55.805506         49.201349    -0.833002    -1.301762   \n",
       "3  13.0        55.789289         49.141109    -0.884273    -1.289045   \n",
       "4   9.0        55.804560         49.106297    -0.951878    -1.408959   \n",
       "\n",
       "   dropoff_pca0  dropoff_pca1  distance_haversine  distance_dummy_manhattan  \\\n",
       "0     -0.900514     -1.382132            0.475936                  0.522207   \n",
       "1     -0.912861     -1.384048            2.999397                  3.832401   \n",
       "2     -0.860700     -1.351894            4.458880                  6.305716   \n",
       "3     -0.929545     -1.398365            9.853176                 13.803791   \n",
       "4     -0.906148     -1.340307            6.107029                  8.606808   \n",
       "\n",
       "    direction  pca_manhattan  pickup_hour_weekofyear  pickup_hour  pickup_dt  \\\n",
       "0  -95.879608       0.010238                       7           19  2056285.0   \n",
       "1  -19.603279       0.030920                       7           19  2056301.0   \n",
       "2  -43.843021       0.077830                       7           19  2056323.0   \n",
       "3  -36.946603       0.154593                       7           19  2056323.0   \n",
       "4  130.378310       0.114382                       7           19  2056324.0   \n",
       "\n",
       "   pickup_week_hour  pickup_cluster  dropoff_cluster  \\\n",
       "0                67              64               63   \n",
       "1                67              90               63   \n",
       "2                67              54               14   \n",
       "3                67              67                4   \n",
       "4                67              93                7   \n",
       "\n",
       "   avg_speed_h_gby_pickup_hour  avg_speed_m_gby_pickup_hour  \\\n",
       "0                     5.459265                     6.999325   \n",
       "1                     5.459265                     6.999325   \n",
       "2                     5.459265                     6.999325   \n",
       "3                     5.459265                     6.999325   \n",
       "4                     5.459265                     6.999325   \n",
       "\n",
       "   log_trip_duration_gby_pickup_hour  avg_speed_h_gby_pickup_date  \\\n",
       "0                           6.423005                     5.215243   \n",
       "1                           6.423005                     5.215243   \n",
       "2                           6.423005                     5.215243   \n",
       "3                           6.423005                     5.215243   \n",
       "4                           6.423005                     5.215243   \n",
       "\n",
       "   avg_speed_m_gby_pickup_date  log_trip_duration_gby_pickup_date  \\\n",
       "0                     6.688212                           6.513568   \n",
       "1                     6.688212                           6.513568   \n",
       "2                     6.688212                           6.513568   \n",
       "3                     6.688212                           6.513568   \n",
       "4                     6.688212                           6.513568   \n",
       "\n",
       "   avg_speed_h_gby_pickup_dt_bin  avg_speed_m_gby_pickup_dt_bin  \\\n",
       "0                       5.457045                       6.982554   \n",
       "1                       5.457045                       6.982554   \n",
       "2                       5.457045                       6.982554   \n",
       "3                       5.457045                       6.982554   \n",
       "4                       5.457045                       6.982554   \n",
       "\n",
       "   log_trip_duration_gby_pickup_dt_bin  avg_speed_h_gby_pickup_week_hour  \\\n",
       "0                               6.4522                          5.401272   \n",
       "1                               6.4522                          5.401272   \n",
       "2                               6.4522                          5.401272   \n",
       "3                               6.4522                          5.401272   \n",
       "4                               6.4522                          5.401272   \n",
       "\n",
       "   avg_speed_m_gby_pickup_week_hour  log_trip_duration_gby_pickup_week_hour  \\\n",
       "0                          6.929604                                6.441993   \n",
       "1                          6.929604                                6.441993   \n",
       "2                          6.929604                                6.441993   \n",
       "3                          6.929604                                6.441993   \n",
       "4                          6.929604                                6.441993   \n",
       "\n",
       "   avg_speed_h_gby_pickup_cluster  avg_speed_m_gby_pickup_cluster  \\\n",
       "0                        6.014004                        7.581035   \n",
       "1                        6.119228                        7.870835   \n",
       "2                        5.850607                        7.499397   \n",
       "3                        5.423937                        7.028498   \n",
       "4                        5.530983                        7.140986   \n",
       "\n",
       "   log_trip_duration_gby_pickup_cluster  avg_speed_h_gby_dropoff_cluster  \\\n",
       "0                              6.457459                         5.661696   \n",
       "1                              6.420048                         5.661696   \n",
       "2                              6.571342                         6.065958   \n",
       "3                              6.538926                         5.730565   \n",
       "4                              6.550487                         5.593248   \n",
       "\n",
       "   avg_speed_m_gby_dropoff_cluster  log_trip_duration_gby_dropoff_cluster  \n",
       "0                         7.180574                               6.447411  \n",
       "1                         7.180574                               6.447411  \n",
       "2                         7.751825                               6.616904  \n",
       "3                         7.348535                               6.427492  \n",
       "4                         7.150013                               6.485789  "
      ]
     },
     "execution_count": 64,
     "metadata": {},
     "output_type": "execute_result"
    }
   ],
   "source": [
    "train_ext2.head()"
   ]
  },
  {
   "cell_type": "code",
   "execution_count": 65,
   "metadata": {},
   "outputs": [],
   "source": [
    "valid_ext2.drop(drop_cols, axis=1, inplace=True)"
   ]
  },
  {
   "cell_type": "code",
   "execution_count": 66,
   "metadata": {},
   "outputs": [],
   "source": [
    "test_ext2.drop(test_ext2, axis=1, inplace=True)"
   ]
  },
  {
   "cell_type": "code",
   "execution_count": null,
   "metadata": {},
   "outputs": [],
   "source": []
  },
  {
   "cell_type": "code",
   "execution_count": null,
   "metadata": {},
   "outputs": [],
   "source": []
  },
  {
   "cell_type": "code",
   "execution_count": null,
   "metadata": {},
   "outputs": [],
   "source": []
  },
  {
   "cell_type": "code",
   "execution_count": null,
   "metadata": {},
   "outputs": [],
   "source": []
  },
  {
   "cell_type": "code",
   "execution_count": null,
   "metadata": {},
   "outputs": [],
   "source": []
  },
  {
   "cell_type": "code",
   "execution_count": 49,
   "metadata": {},
   "outputs": [],
   "source": [
    "def mean_absolute_percentage_error(y_true, y_pred):\n",
    "    y_true, y_pred = np.array(y_true), np.array(y_pred)\n",
    "    return np.mean(np.abs((y_true - y_pred) / y_true))\n",
    "\n",
    "\n",
    "def train(df):\n",
    "    X = df.drop('RTA', axis=1)\n",
    "    y = np.log(df['RTA'])\n",
    "    categorical_features_indicies = [features_to_use.index(feat) for feat in categorical_features]\n",
    "\n",
    "    model = CatBoostRegressor(task_type=\"CPU\", loss_function='MAPE', random_seed=0,\n",
    "                              l2_leaf_reg=9, learning_rate=0.15, depth=10\n",
    "                              )\n",
    "    model.fit(\n",
    "        X, y,\n",
    "        cat_features=categorical_features_indicies,\n",
    "        early_stopping_rounds=10,\n",
    "        verbose=True,\n",
    "        plot=True\n",
    "    )\n",
    "\n",
    "    importances = model.get_feature_importance(prettified=True)\n",
    "    print('Important features\\n', importances)\n",
    "\n",
    "    return model"
   ]
  },
  {
   "cell_type": "code",
   "execution_count": 54,
   "metadata": {},
   "outputs": [],
   "source": [
    "def train_pca(df):\n",
    "    coords = np.vstack((df[['latitude', 'longitude']].values,\n",
    "                        df[['del_latitude', 'del_longitude']].values))\n",
    "\n",
    "    pca = PCA(random_state=0)\n",
    "    pca.fit(coords)\n",
    "\n",
    "    return pca\n",
    "\n",
    "\n",
    "def clusterize(df, n_clusters=300, batch_size=10000, sample_size=800000):\n",
    "    coords = np.vstack((df[['latitude', 'longitude']].values,\n",
    "                        df[['del_latitude', 'del_longitude']].values))\n",
    "\n",
    "    sample_ind = np.random.permutation(len(coords))[:sample_size]\n",
    "    kmeans = MiniBatchKMeans(n_clusters=n_clusters, batch_size=batch_size, random_state=0).fit(coords[sample_ind])\n",
    "\n",
    "    return kmeans"
   ]
  },
  {
   "cell_type": "code",
   "execution_count": 56,
   "metadata": {},
   "outputs": [],
   "source": [
    "def create_features(df, features_to_use, pca, kmeans, train=False):\n",
    "    # time features\n",
    "    df['OrderedDate_datetime'] = pd.to_datetime(df['OrderedDate'])\n",
    "    df['month'] = df['OrderedDate_datetime'].dt.month\n",
    "    df['hour'] = df['OrderedDate_datetime'].dt.hour\n",
    "    df['minute'] = df['OrderedDate_datetime'].dt.minute\n",
    "    df['day_of_week'] = df['OrderedDate_datetime'].dt.dayofweek\n",
    "    df['week_of_year'] = df['OrderedDate_datetime'].dt.weekofyear\n",
    "    df['day_of_year'] = df['OrderedDate_datetime'].dt.dayofyear\n",
    "\n",
    "    # geo features\n",
    "    df['haversine'] = df.apply(lambda row: haversine((row['latitude'], row['longitude']),\n",
    "                                                     (row['del_latitude'], row['del_longitude'])), axis=1)\n",
    "\n",
    "    # PCA features\n",
    "    pickup_pca_features = pca.transform(df[['latitude', 'longitude']])\n",
    "    df['pickup_pca0'] = pickup_pca_features[:, 0]\n",
    "    df['pickup_pca1'] = pickup_pca_features[:, 1]\n",
    "\n",
    "    dropoff_pca_features = pca.transform(df[['del_latitude', 'del_longitude']])\n",
    "    df['dropoff_pca0'] = dropoff_pca_features[:, 0]\n",
    "    df['dropoff_pca1'] = dropoff_pca_features[:, 1]\n",
    "\n",
    "    # kmeans features\n",
    "    df['pickup_cluster'] = kmeans.predict(df[['latitude', 'longitude']])\n",
    "    df['dropoff_cluster'] = kmeans.predict(df[['del_latitude', 'del_longitude']])\n",
    "\n",
    "    if train:\n",
    "        return df[features_to_use + ['RTA']]\n",
    "\n",
    "    return df[features_to_use]"
   ]
  },
  {
   "cell_type": "code",
   "execution_count": 52,
   "metadata": {},
   "outputs": [],
   "source": [
    "def load_data(mode, path):\n",
    "\n",
    "    train_df = pd.read_csv(path)\n",
    "    train_df_ext = pd.read_csv(f'../../data/{mode}_extended.csv')\n",
    "    train_df = pd.concat([train_df, train_df_ext], axis=1)\n",
    "    print(f'{mode} loaded')\n",
    "    return train_df\n"
   ]
  },
  {
   "cell_type": "code",
   "execution_count": 57,
   "metadata": {},
   "outputs": [
    {
     "name": "stdout",
     "output_type": "stream",
     "text": [
      "train loaded\n",
      "valid loaded\n",
      "test loaded\n",
      "train_df shape:  837128\n",
      "Train DataFrame: \n",
      "    main_id_locality     ETA  hour  minute  month  day_of_week  week_of_year  \\\n",
      "0              1078   226.0    19      12      2            2             7   \n",
      "1              1078   718.0    19      12      2            2             7   \n",
      "2              1078   612.0    19      12      2            2             7   \n",
      "3              1078  1560.0    19      12      2            2             7   \n",
      "4              1078  1528.0    19      12      2            2             7   \n",
      "\n",
      "   day_of_year  haversine  pickup_pca0  pickup_pca1  dropoff_pca0  \\\n",
      "0           43   0.475937    -0.856420    -1.393590     -0.863150   \n",
      "1           43   2.999401    -0.874709    -1.368970     -0.875492   \n",
      "2           43   4.458887    -0.795807    -1.316592     -0.823399   \n",
      "3           43   9.853189    -0.847104    -1.303983     -0.892147   \n",
      "4           43   6.107038    -0.914457    -1.424039     -0.868872   \n",
      "\n",
      "   dropoff_pca1  pickup_cluster  dropoff_cluster  start_offset  finish_offset  \\\n",
      "0     -1.397104             240              240      3.799506       3.599806   \n",
      "1     -1.399046             236              251      1.252478       2.958996   \n",
      "2     -1.366782             255              215      7.169754       4.963273   \n",
      "3     -1.413398             111               67      6.591937       3.547877   \n",
      "4     -1.355291             237              118      4.087530       2.171232   \n",
      "\n",
      "   koeff_overroute  parts_count  parts_distance_sum  parts_distance_avg  \\\n",
      "0         2.101118           29            1.092983            0.037689   \n",
      "1         1.667000           78            4.924570            0.063136   \n",
      "2         1.121356           79            5.139108            0.065052   \n",
      "3         1.319370          164           12.724734            0.077590   \n",
      "4         1.473710          130            9.052948            0.069638   \n",
      "\n",
      "      RTA  \n",
      "0   188.0  \n",
      "1   725.0  \n",
      "2   764.0  \n",
      "3  1412.0  \n",
      "4   893.0  \n"
     ]
    }
   ],
   "source": [
    "train_df = load_data('train', \"../../data/train.csv\")\n",
    "val_df = load_data('valid', \"../../data/validation.csv\")\n",
    "test_df = load_data('test', \"../../data/test.csv\")\n",
    "\n",
    "print('train_df shape: ', train_df.shape[0])\n",
    "\n",
    "# Train stage\n",
    "pca = train_pca(train_df)\n",
    "kmeans = clusterize(train_df)\n",
    "\n",
    "features_to_use = [\n",
    "    'main_id_locality',\n",
    "    'ETA',\n",
    "    'hour',\n",
    "    'minute',\n",
    "    'month',\n",
    "    'day_of_week',\n",
    "    'week_of_year',\n",
    "    'day_of_year',\n",
    "    'haversine',\n",
    "    'pickup_pca0',\n",
    "    'pickup_pca1',\n",
    "    'dropoff_pca0',\n",
    "    'dropoff_pca1',\n",
    "    'pickup_cluster',\n",
    "    'dropoff_cluster',\n",
    "    'start_offset',\n",
    "    'finish_offset',\n",
    "    'koeff_overroute',\n",
    "    'parts_count',\n",
    "    'parts_distance_sum',\n",
    "    'parts_distance_avg'\n",
    "]\n",
    "\n",
    "categorical_features = [\n",
    "    'main_id_locality',\n",
    "    'month',\n",
    "    'hour',\n",
    "    'minute',\n",
    "    'week_of_year',\n",
    "    'day_of_week',\n",
    "    'pickup_cluster',\n",
    "    'dropoff_cluster'\n",
    "]\n",
    "\n",
    "\n",
    "train_df = create_features(train_df, features_to_use, pca, kmeans, True)\n",
    "print('Train DataFrame: \\n', train_df.head())"
   ]
  },
  {
   "cell_type": "code",
   "execution_count": null,
   "metadata": {},
   "outputs": [],
   "source": []
  },
  {
   "cell_type": "code",
   "execution_count": null,
   "metadata": {},
   "outputs": [],
   "source": []
  },
  {
   "cell_type": "code",
   "execution_count": null,
   "metadata": {},
   "outputs": [],
   "source": []
  },
  {
   "cell_type": "code",
   "execution_count": null,
   "metadata": {},
   "outputs": [],
   "source": []
  },
  {
   "cell_type": "code",
   "execution_count": null,
   "metadata": {},
   "outputs": [],
   "source": []
  },
  {
   "cell_type": "code",
   "execution_count": null,
   "metadata": {},
   "outputs": [],
   "source": []
  },
  {
   "cell_type": "code",
   "execution_count": null,
   "metadata": {},
   "outputs": [],
   "source": []
  },
  {
   "cell_type": "code",
   "execution_count": null,
   "metadata": {},
   "outputs": [],
   "source": []
  },
  {
   "cell_type": "code",
   "execution_count": null,
   "metadata": {},
   "outputs": [],
   "source": []
  },
  {
   "cell_type": "code",
   "execution_count": null,
   "metadata": {},
   "outputs": [],
   "source": []
  },
  {
   "cell_type": "code",
   "execution_count": null,
   "metadata": {},
   "outputs": [],
   "source": []
  },
  {
   "cell_type": "code",
   "execution_count": null,
   "metadata": {},
   "outputs": [],
   "source": []
  },
  {
   "cell_type": "code",
   "execution_count": null,
   "metadata": {},
   "outputs": [],
   "source": []
  },
  {
   "cell_type": "code",
   "execution_count": null,
   "metadata": {},
   "outputs": [],
   "source": []
  },
  {
   "cell_type": "code",
   "execution_count": null,
   "metadata": {},
   "outputs": [],
   "source": []
  },
  {
   "cell_type": "code",
   "execution_count": null,
   "metadata": {},
   "outputs": [],
   "source": []
  },
  {
   "cell_type": "code",
   "execution_count": null,
   "metadata": {},
   "outputs": [],
   "source": []
  },
  {
   "cell_type": "code",
   "execution_count": null,
   "metadata": {},
   "outputs": [],
   "source": []
  },
  {
   "cell_type": "code",
   "execution_count": null,
   "metadata": {},
   "outputs": [],
   "source": []
  },
  {
   "cell_type": "code",
   "execution_count": null,
   "metadata": {},
   "outputs": [],
   "source": []
  },
  {
   "cell_type": "code",
   "execution_count": null,
   "metadata": {},
   "outputs": [],
   "source": []
  },
  {
   "cell_type": "code",
   "execution_count": null,
   "metadata": {},
   "outputs": [],
   "source": []
  },
  {
   "cell_type": "code",
   "execution_count": null,
   "metadata": {},
   "outputs": [],
   "source": []
  },
  {
   "cell_type": "code",
   "execution_count": null,
   "metadata": {},
   "outputs": [],
   "source": []
  },
  {
   "cell_type": "code",
   "execution_count": null,
   "metadata": {},
   "outputs": [],
   "source": []
  }
 ],
 "metadata": {
  "kernelspec": {
   "display_name": "Python 3",
   "language": "python",
   "name": "python3"
  },
  "language_info": {
   "codemirror_mode": {
    "name": "ipython",
    "version": 3
   },
   "file_extension": ".py",
   "mimetype": "text/x-python",
   "name": "python",
   "nbconvert_exporter": "python",
   "pygments_lexer": "ipython3",
   "version": "3.6.10"
  }
 },
 "nbformat": 4,
 "nbformat_minor": 4
}
