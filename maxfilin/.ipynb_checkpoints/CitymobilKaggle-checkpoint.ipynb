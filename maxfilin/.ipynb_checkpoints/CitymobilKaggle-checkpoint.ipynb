{
 "cells": [
  {
   "cell_type": "code",
   "execution_count": 10,
   "metadata": {},
   "outputs": [],
   "source": [
    "import pandas as pd\n",
    "import numpy as np\n",
    "\n",
    "from collections import Counter\n",
    "\n",
    "from haversine import haversine # too slow\n",
    "from sklearn.model_selection import train_test_split\n",
    "\n",
    "from sklearn.decomposition import PCA\n",
    "from sklearn.cluster import MiniBatchKMeans\n",
    "\n",
    "from catboost import CatBoostRegressor\n",
    "from catboost import cv\n",
    "from catboost import Pool\n",
    "\n",
    "pd.set_option('display.max_columns', None)\n"
   ]
  },
  {
   "cell_type": "markdown",
   "metadata": {},
   "source": [
    "## 1. Загрузка данных"
   ]
  },
  {
   "cell_type": "code",
   "execution_count": 7,
   "metadata": {},
   "outputs": [
    {
     "name": "stdout",
     "output_type": "stream",
     "text": [
      "test_additional.csv  test.csv  train.csv  validation.csv\r\n"
     ]
    }
   ],
   "source": [
    "ls ../../data"
   ]
  },
  {
   "cell_type": "code",
   "execution_count": 8,
   "metadata": {},
   "outputs": [],
   "source": [
    "train_df = pd.read_csv(\"../../data/train.csv\")"
   ]
  },
  {
   "cell_type": "code",
   "execution_count": 15,
   "metadata": {},
   "outputs": [],
   "source": [
    "test_df = pd.read_csv(\"../../data/test.csv\")"
   ]
  },
  {
   "cell_type": "code",
   "execution_count": null,
   "metadata": {},
   "outputs": [],
   "source": []
  },
  {
   "cell_type": "code",
   "execution_count": null,
   "metadata": {},
   "outputs": [],
   "source": [
    "# 45.040235\t38.976080 Краснодар\n",
    "# 54.734853\t55.957865 Уфа\n",
    "# 53.516670\t49.416670 Тольятти\n",
    "# 56.838633\t60.605489 Екатеринбург"
   ]
  },
  {
   "cell_type": "code",
   "execution_count": 11,
   "metadata": {},
   "outputs": [
    {
     "data": {
      "text/html": [
       "<div>\n",
       "<style scoped>\n",
       "    .dataframe tbody tr th:only-of-type {\n",
       "        vertical-align: middle;\n",
       "    }\n",
       "\n",
       "    .dataframe tbody tr th {\n",
       "        vertical-align: top;\n",
       "    }\n",
       "\n",
       "    .dataframe thead th {\n",
       "        text-align: right;\n",
       "    }\n",
       "</style>\n",
       "<table border=\"1\" class=\"dataframe\">\n",
       "  <thead>\n",
       "    <tr style=\"text-align: right;\">\n",
       "      <th></th>\n",
       "      <th>Id</th>\n",
       "      <th>main_id_locality</th>\n",
       "      <th>ETA</th>\n",
       "      <th>RTA</th>\n",
       "      <th>OrderedDate</th>\n",
       "      <th>latitude</th>\n",
       "      <th>del_latitude</th>\n",
       "      <th>longitude</th>\n",
       "      <th>del_longitude</th>\n",
       "      <th>EDA</th>\n",
       "      <th>RDA</th>\n",
       "      <th>ReadyForCollection</th>\n",
       "      <th>ClientCollected</th>\n",
       "      <th>GoodArrived</th>\n",
       "      <th>ready_latitude</th>\n",
       "      <th>ready_longitude</th>\n",
       "      <th>onway_latitude</th>\n",
       "      <th>onway_longitude</th>\n",
       "      <th>arrived_latitude</th>\n",
       "      <th>arrived_longitude</th>\n",
       "      <th>center_latitude</th>\n",
       "      <th>center_longitude</th>\n",
       "      <th>route</th>\n",
       "      <th>track</th>\n",
       "    </tr>\n",
       "  </thead>\n",
       "  <tbody>\n",
       "    <tr>\n",
       "      <th>0</th>\n",
       "      <td>0</td>\n",
       "      <td>338</td>\n",
       "      <td>1249.0</td>\n",
       "      <td>1076.0</td>\n",
       "      <td>2020-03-11 20:43:49</td>\n",
       "      <td>45.013191</td>\n",
       "      <td>45.040428</td>\n",
       "      <td>38.981220</td>\n",
       "      <td>39.026501</td>\n",
       "      <td>7.0</td>\n",
       "      <td>8.0</td>\n",
       "      <td>2020-03-11 20:48:52</td>\n",
       "      <td>2020-03-11 20:48:58</td>\n",
       "      <td>2020-03-11 21:06:54</td>\n",
       "      <td>45.012991</td>\n",
       "      <td>38.981120</td>\n",
       "      <td>45.012991</td>\n",
       "      <td>38.981120</td>\n",
       "      <td>45.040108</td>\n",
       "      <td>39.026086</td>\n",
       "      <td>45.040235</td>\n",
       "      <td>38.976080</td>\n",
       "      <td>stvqG{n|lFf@bCN|@NhBH~D?n@MvC_@rES`B??YFWCoAgE...</td>\n",
       "      <td>NaN</td>\n",
       "    </tr>\n",
       "    <tr>\n",
       "      <th>1</th>\n",
       "      <td>1</td>\n",
       "      <td>22402</td>\n",
       "      <td>1822.0</td>\n",
       "      <td>1812.0</td>\n",
       "      <td>2020-02-03 14:27:22</td>\n",
       "      <td>54.735378</td>\n",
       "      <td>54.710651</td>\n",
       "      <td>55.961922</td>\n",
       "      <td>55.822079</td>\n",
       "      <td>15.0</td>\n",
       "      <td>14.0</td>\n",
       "      <td>2020-02-03 14:34:41</td>\n",
       "      <td>2020-02-03 14:35:36</td>\n",
       "      <td>2020-02-03 15:05:48</td>\n",
       "      <td>54.735327</td>\n",
       "      <td>55.961558</td>\n",
       "      <td>54.735515</td>\n",
       "      <td>55.962046</td>\n",
       "      <td>54.710222</td>\n",
       "      <td>55.822577</td>\n",
       "      <td>54.734853</td>\n",
       "      <td>55.957865</td>\n",
       "      <td>ooamI}`qtIXtE??h@_@|@^??lAaN??jA`@??XwD`@_E|@u...</td>\n",
       "      <td>m_qtI}namIWEQASCO?@B@@A@??????????EAKEBKHGDA??...</td>\n",
       "    </tr>\n",
       "    <tr>\n",
       "      <th>2</th>\n",
       "      <td>2</td>\n",
       "      <td>22394</td>\n",
       "      <td>410.0</td>\n",
       "      <td>336.0</td>\n",
       "      <td>2020-02-22 11:15:02</td>\n",
       "      <td>53.529202</td>\n",
       "      <td>53.543640</td>\n",
       "      <td>49.337990</td>\n",
       "      <td>49.351028</td>\n",
       "      <td>2.0</td>\n",
       "      <td>2.0</td>\n",
       "      <td>2020-02-22 11:17:51</td>\n",
       "      <td>2020-02-22 11:18:32</td>\n",
       "      <td>2020-02-22 11:24:08</td>\n",
       "      <td>53.530384</td>\n",
       "      <td>49.339986</td>\n",
       "      <td>53.529227</td>\n",
       "      <td>49.338437</td>\n",
       "      <td>53.543038</td>\n",
       "      <td>49.350991</td>\n",
       "      <td>53.516670</td>\n",
       "      <td>49.416670</td>\n",
       "      <td>u}ueI_hclHwBkGaDqJo@oA]OiCuHK[M{@??Ag@Ie@UYSIU...</td>\n",
       "      <td>wlclHk}ueIGJVH????LJEJ\\AtCJbBTHFVB?n@hC\\`@iBiA...</td>\n",
       "    </tr>\n",
       "    <tr>\n",
       "      <th>3</th>\n",
       "      <td>3</td>\n",
       "      <td>22406</td>\n",
       "      <td>653.0</td>\n",
       "      <td>558.0</td>\n",
       "      <td>2020-02-26 22:21:28</td>\n",
       "      <td>56.836250</td>\n",
       "      <td>56.863159</td>\n",
       "      <td>60.632580</td>\n",
       "      <td>60.654831</td>\n",
       "      <td>4.0</td>\n",
       "      <td>4.0</td>\n",
       "      <td>2020-02-26 22:30:08</td>\n",
       "      <td>2020-02-26 22:30:16</td>\n",
       "      <td>2020-02-26 22:39:34</td>\n",
       "      <td>56.836830</td>\n",
       "      <td>60.633442</td>\n",
       "      <td>56.836830</td>\n",
       "      <td>60.633442</td>\n",
       "      <td>56.862945</td>\n",
       "      <td>60.654256</td>\n",
       "      <td>56.838633</td>\n",
       "      <td>60.605489</td>\n",
       "      <td>qy{yIshaqJuADoAS_Bb@??UiE??wIfCgOrD}FhB_Bd@??m...</td>\n",
       "      <td>upaqJ{b|yI??^Dl@RFRCTFPNP?PIXGVAH????AA?????A@...</td>\n",
       "    </tr>\n",
       "    <tr>\n",
       "      <th>4</th>\n",
       "      <td>4</td>\n",
       "      <td>22406</td>\n",
       "      <td>518.0</td>\n",
       "      <td>463.0</td>\n",
       "      <td>2020-01-31 07:24:25</td>\n",
       "      <td>56.798431</td>\n",
       "      <td>56.782021</td>\n",
       "      <td>60.632622</td>\n",
       "      <td>60.681702</td>\n",
       "      <td>6.0</td>\n",
       "      <td>6.0</td>\n",
       "      <td>2020-01-31 07:28:34</td>\n",
       "      <td>2020-01-31 07:28:57</td>\n",
       "      <td>2020-01-31 07:36:40</td>\n",
       "      <td>56.798378</td>\n",
       "      <td>60.632567</td>\n",
       "      <td>56.798399</td>\n",
       "      <td>60.632575</td>\n",
       "      <td>56.782251</td>\n",
       "      <td>60.682133</td>\n",
       "      <td>56.838633</td>\n",
       "      <td>60.605489</td>\n",
       "      <td>gmtyI{haqJ\\f@??]pA]|@i@t@[Z_@X??c@gDcAoI??aEzB...</td>\n",
       "      <td>NaN</td>\n",
       "    </tr>\n",
       "  </tbody>\n",
       "</table>\n",
       "</div>"
      ],
      "text/plain": [
       "   Id  main_id_locality     ETA     RTA          OrderedDate   latitude  \\\n",
       "0   0               338  1249.0  1076.0  2020-03-11 20:43:49  45.013191   \n",
       "1   1             22402  1822.0  1812.0  2020-02-03 14:27:22  54.735378   \n",
       "2   2             22394   410.0   336.0  2020-02-22 11:15:02  53.529202   \n",
       "3   3             22406   653.0   558.0  2020-02-26 22:21:28  56.836250   \n",
       "4   4             22406   518.0   463.0  2020-01-31 07:24:25  56.798431   \n",
       "\n",
       "   del_latitude  longitude  del_longitude   EDA   RDA   ReadyForCollection  \\\n",
       "0     45.040428  38.981220      39.026501   7.0   8.0  2020-03-11 20:48:52   \n",
       "1     54.710651  55.961922      55.822079  15.0  14.0  2020-02-03 14:34:41   \n",
       "2     53.543640  49.337990      49.351028   2.0   2.0  2020-02-22 11:17:51   \n",
       "3     56.863159  60.632580      60.654831   4.0   4.0  2020-02-26 22:30:08   \n",
       "4     56.782021  60.632622      60.681702   6.0   6.0  2020-01-31 07:28:34   \n",
       "\n",
       "       ClientCollected          GoodArrived  ready_latitude  ready_longitude  \\\n",
       "0  2020-03-11 20:48:58  2020-03-11 21:06:54       45.012991        38.981120   \n",
       "1  2020-02-03 14:35:36  2020-02-03 15:05:48       54.735327        55.961558   \n",
       "2  2020-02-22 11:18:32  2020-02-22 11:24:08       53.530384        49.339986   \n",
       "3  2020-02-26 22:30:16  2020-02-26 22:39:34       56.836830        60.633442   \n",
       "4  2020-01-31 07:28:57  2020-01-31 07:36:40       56.798378        60.632567   \n",
       "\n",
       "   onway_latitude  onway_longitude  arrived_latitude  arrived_longitude  \\\n",
       "0       45.012991        38.981120         45.040108          39.026086   \n",
       "1       54.735515        55.962046         54.710222          55.822577   \n",
       "2       53.529227        49.338437         53.543038          49.350991   \n",
       "3       56.836830        60.633442         56.862945          60.654256   \n",
       "4       56.798399        60.632575         56.782251          60.682133   \n",
       "\n",
       "   center_latitude  center_longitude  \\\n",
       "0        45.040235         38.976080   \n",
       "1        54.734853         55.957865   \n",
       "2        53.516670         49.416670   \n",
       "3        56.838633         60.605489   \n",
       "4        56.838633         60.605489   \n",
       "\n",
       "                                               route  \\\n",
       "0  stvqG{n|lFf@bCN|@NhBH~D?n@MvC_@rES`B??YFWCoAgE...   \n",
       "1  ooamI}`qtIXtE??h@_@|@^??lAaN??jA`@??XwD`@_E|@u...   \n",
       "2  u}ueI_hclHwBkGaDqJo@oA]OiCuHK[M{@??Ag@Ie@UYSIU...   \n",
       "3  qy{yIshaqJuADoAS_Bb@??UiE??wIfCgOrD}FhB_Bd@??m...   \n",
       "4  gmtyI{haqJ\\f@??]pA]|@i@t@[Z_@X??c@gDcAoI??aEzB...   \n",
       "\n",
       "                                               track  \n",
       "0                                                NaN  \n",
       "1  m_qtI}namIWEQASCO?@B@@A@??????????EAKEBKHGDA??...  \n",
       "2  wlclHk}ueIGJVH????LJEJ\\AtCJbBTHFVB?n@hC\\`@iBiA...  \n",
       "3  upaqJ{b|yI??^Dl@RFRCTFPNP?PIXGVAH????AA?????A@...  \n",
       "4                                                NaN  "
      ]
     },
     "execution_count": 11,
     "metadata": {},
     "output_type": "execute_result"
    }
   ],
   "source": [
    "train_df.head()"
   ]
  },
  {
   "cell_type": "code",
   "execution_count": 13,
   "metadata": {},
   "outputs": [
    {
     "data": {
      "text/plain": [
       "22406    208760\n",
       "338      194050\n",
       "22394    127752\n",
       "22402    125095\n",
       "Name: main_id_locality, dtype: int64"
      ]
     },
     "execution_count": 13,
     "metadata": {},
     "output_type": "execute_result"
    }
   ],
   "source": [
    "train_df[\"main_id_locality\"].value_counts()"
   ]
  },
  {
   "cell_type": "code",
   "execution_count": 14,
   "metadata": {},
   "outputs": [
    {
     "name": "stdout",
     "output_type": "stream",
     "text": [
      "<class 'pandas.core.frame.DataFrame'>\n",
      "RangeIndex: 655657 entries, 0 to 655656\n",
      "Data columns (total 24 columns):\n",
      " #   Column              Non-Null Count   Dtype  \n",
      "---  ------              --------------   -----  \n",
      " 0   Id                  655657 non-null  int64  \n",
      " 1   main_id_locality    655657 non-null  int64  \n",
      " 2   ETA                 655657 non-null  float64\n",
      " 3   RTA                 655657 non-null  float64\n",
      " 4   OrderedDate         655657 non-null  object \n",
      " 5   latitude            655657 non-null  float64\n",
      " 6   del_latitude        655657 non-null  float64\n",
      " 7   longitude           655657 non-null  float64\n",
      " 8   del_longitude       655657 non-null  float64\n",
      " 9   EDA                 655657 non-null  float64\n",
      " 10  RDA                 655657 non-null  float64\n",
      " 11  ReadyForCollection  655657 non-null  object \n",
      " 12  ClientCollected     655657 non-null  object \n",
      " 13  GoodArrived         655657 non-null  object \n",
      " 14  ready_latitude      652745 non-null  float64\n",
      " 15  ready_longitude     652745 non-null  float64\n",
      " 16  onway_latitude      652745 non-null  float64\n",
      " 17  onway_longitude     652745 non-null  float64\n",
      " 18  arrived_latitude    652745 non-null  float64\n",
      " 19  arrived_longitude   652745 non-null  float64\n",
      " 20  center_latitude     655657 non-null  float64\n",
      " 21  center_longitude    655657 non-null  float64\n",
      " 22  route               655657 non-null  object \n",
      " 23  track               347516 non-null  object \n",
      "dtypes: float64(16), int64(2), object(6)\n",
      "memory usage: 120.1+ MB\n"
     ]
    }
   ],
   "source": [
    "train_df.info()"
   ]
  },
  {
   "cell_type": "code",
   "execution_count": 59,
   "metadata": {},
   "outputs": [
    {
     "data": {
      "text/plain": [
       "134.64422098749804"
      ]
     },
     "execution_count": 59,
     "metadata": {},
     "output_type": "execute_result"
    }
   ],
   "source": [
    "mean = (train_df[\"ETA\"] - train_df[\"RTA\"]).mean()\n",
    "mean"
   ]
  },
  {
   "cell_type": "code",
   "execution_count": 58,
   "metadata": {},
   "outputs": [
    {
     "data": {
      "text/plain": [
       "0.8662710551399064"
      ]
     },
     "execution_count": 58,
     "metadata": {},
     "output_type": "execute_result"
    }
   ],
   "source": [
    "koeff = (train_df[\"RTA\"].sum() + train_df[\"RTA\"].shape[0]) / train_df[\"ETA\"].sum()\n",
    "koeff"
   ]
  },
  {
   "cell_type": "code",
   "execution_count": null,
   "metadata": {},
   "outputs": [],
   "source": []
  },
  {
   "cell_type": "code",
   "execution_count": 21,
   "metadata": {},
   "outputs": [
    {
     "data": {
      "text/plain": [
       "<matplotlib.axes._subplots.AxesSubplot at 0x7fb78fe494e0>"
      ]
     },
     "execution_count": 21,
     "metadata": {},
     "output_type": "execute_result"
    },
    {
     "data": {
      "image/png": "[encoded data removed]",
      "text/plain": [
       "<Figure size 1440x720 with 1 Axes>"
      ]
     },
     "metadata": {
      "needs_background": "light"
     },
     "output_type": "display_data"
    }
   ],
   "source": [
    "(train_df[\"ETA\"] - train_df[\"RTA\"]).hist(figsize=(20,10), bins=100)"
   ]
  },
  {
   "cell_type": "markdown",
   "metadata": {},
   "source": [
    "Ожидаемое время выше реального (измерение в секундах)"
   ]
  },
  {
   "cell_type": "code",
   "execution_count": 23,
   "metadata": {},
   "outputs": [],
   "source": [
    "city_dict = { \n",
    "    338: \"Краснодар\",\n",
    "    22394: \"Тольятти\",\n",
    "    22402: \"Уфа\",\n",
    "    22406: \"Екатеринбург\"\n",
    "}\n",
    "\n",
    "train_df['city'] = train_df.main_id_locality.apply(lambda x: city_dict[x])"
   ]
  },
  {
   "cell_type": "code",
   "execution_count": 26,
   "metadata": {},
   "outputs": [
    {
     "data": {
      "text/plain": [
       "<matplotlib.axes._subplots.AxesSubplot at 0x7fb78f9996d8>"
      ]
     },
     "execution_count": 26,
     "metadata": {},
     "output_type": "execute_result"
    },
    {
     "data": {
      "image/png": "[encoded data removed]",
      "text/plain": [
       "<Figure size 1440x720 with 1 Axes>"
      ]
     },
     "metadata": {
      "needs_background": "light"
     },
     "output_type": "display_data"
    }
   ],
   "source": [
    "(train_df[\"EDA\"] - train_df[\"RDA\"]).hist(figsize=(20,10), bins=50)"
   ]
  },
  {
   "cell_type": "code",
   "execution_count": null,
   "metadata": {},
   "outputs": [],
   "source": []
  },
  {
   "cell_type": "code",
   "execution_count": 57,
   "metadata": {},
   "outputs": [
    {
     "data": {
      "text/plain": [
       "[(45.01338, 38.9811),\n",
       " (45.01318, 38.98044),\n",
       " (45.0131, 38.98013),\n",
       " (45.01302, 38.9796),\n",
       " (45.01297, 38.97864)]"
      ]
     },
     "execution_count": 57,
     "metadata": {},
     "output_type": "execute_result"
    }
   ],
   "source": [
    "import polyline\n",
    "polyline.decode(train_df.loc[0, 'route'])[:5]"
   ]
  },
  {
   "cell_type": "markdown",
   "metadata": {},
   "source": [
    "## 3. Анализ маршрутов"
   ]
  },
  {
   "cell_type": "code",
   "execution_count": 72,
   "metadata": {},
   "outputs": [],
   "source": [
    "import geopy.distance\n",
    "from tqdm import tqdm_notebook\n",
    "from haversine import haversine"
   ]
  },
  {
   "cell_type": "code",
   "execution_count": 66,
   "metadata": {},
   "outputs": [
    {
     "data": {
      "text/plain": [
       "(655657, 655657)"
      ]
     },
     "execution_count": 66,
     "metadata": {},
     "output_type": "execute_result"
    }
   ],
   "source": [
    "train_df[\"route\"].dropna().shape[0], train_df[\"route\"].shape[0]"
   ]
  },
  {
   "cell_type": "code",
   "execution_count": 64,
   "metadata": {},
   "outputs": [
    {
     "name": "stdout",
     "output_type": "stream",
     "text": [
      "<class 'pandas.core.frame.DataFrame'>\n",
      "RangeIndex: 83117 entries, 0 to 83116\n",
      "Data columns (total 12 columns):\n",
      " #   Column            Non-Null Count  Dtype  \n",
      "---  ------            --------------  -----  \n",
      " 0   Id                83117 non-null  int64  \n",
      " 1   main_id_locality  83117 non-null  int64  \n",
      " 2   ETA               83117 non-null  float64\n",
      " 3   OrderedDate       83117 non-null  object \n",
      " 4   latitude          83117 non-null  float64\n",
      " 5   del_latitude      83117 non-null  float64\n",
      " 6   longitude         83117 non-null  float64\n",
      " 7   del_longitude     83117 non-null  float64\n",
      " 8   EDA               83117 non-null  float64\n",
      " 9   center_latitude   83117 non-null  float64\n",
      " 10  center_longitude  83117 non-null  float64\n",
      " 11  route             83117 non-null  object \n",
      "dtypes: float64(8), int64(2), object(2)\n",
      "memory usage: 7.6+ MB\n"
     ]
    }
   ],
   "source": [
    "test_df.info()"
   ]
  },
  {
   "cell_type": "markdown",
   "metadata": {},
   "source": [
    "Маршрут:\n",
    "1. Кол-во ребер\n",
    "2. Средняя длина ребер\n",
    "3. Сумма длин ребер \n",
    "4. Сумма удаленностей от центра каждой точки пути\n",
    "5. Средняя удаленность от центра\n",
    "6. Сумма углов между ребрами пути\n",
    "7. Средний угол \n",
    "8. Кол-во кластеров в маршруте\n",
    "9. Принадлежность к кластеру (one-hot)\n",
    "\n",
    "Начальна и конечная точки\n",
    "1. Геогрфическое расстояние от начальной до конечной точки\n",
    "2. Коэффициент перепробега (отношение реальной длины к расстоянию между точками)\n",
    "3. Удаленность от центра города начала маршрута\n",
    "4. Удаленнность от центра города конца маршрута\n",
    "\n",
    "Город:\n",
    "1. Средняя длина маршрутов\n",
    "2. Среднее кол-во ребер \n",
    "3. Среднее расстояние между точками начало и конец\n",
    "4. Средний коэффициент перепробега\n",
    "5. Средняя сумма удаленностей от центра\n",
    "6. Средний угол\n",
    "7. Средняя сумма углов между ребрами пути\n",
    "\n",
    "\n",
    "\n",
    "Отрисовка на карте маршрута"
   ]
  },
  {
   "cell_type": "code",
   "execution_count": 61,
   "metadata": {},
   "outputs": [
    {
     "name": "stdout",
     "output_type": "stream",
     "text": [
      "279.35290160430094\n"
     ]
    }
   ],
   "source": [
    "coords_1 = (52.2296756, 21.0122287)\n",
    "coords_2 = (52.406374, 16.9251681)\n",
    "\n",
    "print(geopy.distance.distance(coords_1, coords_2).km)"
   ]
  },
  {
   "cell_type": "code",
   "execution_count": 84,
   "metadata": {},
   "outputs": [
    {
     "data": {
      "text/plain": [
       "Index(['Id', 'main_id_locality', 'ETA', 'RTA', 'OrderedDate', 'latitude',\n",
       "       'del_latitude', 'longitude', 'del_longitude', 'EDA', 'RDA',\n",
       "       'ReadyForCollection', 'ClientCollected', 'GoodArrived',\n",
       "       'ready_latitude', 'ready_longitude', 'onway_latitude',\n",
       "       'onway_longitude', 'arrived_latitude', 'arrived_longitude',\n",
       "       'center_latitude', 'center_longitude', 'route', 'track', 'city'],\n",
       "      dtype='object')"
      ]
     },
     "execution_count": 84,
     "metadata": {},
     "output_type": "execute_result"
    }
   ],
   "source": [
    "train_df.columns"
   ]
  },
  {
   "cell_type": "code",
   "execution_count": 87,
   "metadata": {},
   "outputs": [],
   "source": [
    "# Геогрфическое расстояние от начальной до конечной точки\n",
    "train_df['haversine'] = train_df.apply(lambda row: haversine((row['latitude'], row['longitude']), \n",
    "                             (row['del_latitude'], row['del_longitude'])), axis=1)"
   ]
  },
  {
   "cell_type": "code",
   "execution_count": 90,
   "metadata": {},
   "outputs": [],
   "source": [
    "# Удаленность от центра города начала маршрута\n",
    "train_df['start_offset'] = train_df.apply(lambda row: haversine((row['latitude'], row['longitude']), \n",
    "                             (row['center_latitude'], row['center_longitude'])), axis=1)"
   ]
  },
  {
   "cell_type": "code",
   "execution_count": 91,
   "metadata": {},
   "outputs": [],
   "source": [
    "# Удаленность от центра города конца маршрута\n",
    "train_df['finish_offset'] = train_df.apply(lambda row: haversine((row['del_latitude'], row['del_longitude']), \n",
    "                             (row['center_latitude'], row['center_longitude'])), axis=1)"
   ]
  },
  {
   "cell_type": "code",
   "execution_count": 96,
   "metadata": {},
   "outputs": [],
   "source": [
    "# Коэффициент перепробега (отношение реальной длины к расстоянию между точками)\n",
    "train_df[\"koeff_overroute\"] = train_df.apply(lambda row: row['EDA'] / row['haversine'], axis=1)"
   ]
  },
  {
   "cell_type": "code",
   "execution_count": null,
   "metadata": {},
   "outputs": [],
   "source": []
  },
  {
   "cell_type": "code",
   "execution_count": 80,
   "metadata": {},
   "outputs": [
    {
     "name": "stdout",
     "output_type": "stream",
     "text": [
      "1.34 µs ± 2.27 ns per loop (mean ± std. dev. of 7 runs, 1000000 loops each)\n"
     ]
    }
   ],
   "source": [
    "# %%timeit\n",
    "# haversine(coords_1, coords_2)"
   ]
  },
  {
   "cell_type": "code",
   "execution_count": 81,
   "metadata": {},
   "outputs": [
    {
     "name": "stdout",
     "output_type": "stream",
     "text": [
      "164 µs ± 45 ns per loop (mean ± std. dev. of 7 runs, 10000 loops each)\n"
     ]
    }
   ],
   "source": [
    "# %%timeit\n",
    "# get_distance(coords_1, coords_2)"
   ]
  },
  {
   "cell_type": "code",
   "execution_count": 97,
   "metadata": {},
   "outputs": [],
   "source": [
    "def get_route_features(row):\n",
    "    features = {}\n",
    "    parts = polyline.decode(row[\"route\"])\n",
    "    \n",
    "    parts_count = len(parts)\n",
    "    parts_distance_sum = 0\n",
    "    \n",
    "    for i in range(0, len(parts) - 1):\n",
    "        parts_distance_sum += get_distance(parts[i], parts[i + 1])\n",
    "\n",
    "    features[\"parts_count\"] = parts_count\n",
    "    features[\"parts_distance_sum\"] = parts_distance_sum\n",
    "    features[\"parts_distance_avg\"] = parts_distance_sum / parts_count\n",
    "    \n",
    "    return features"
   ]
  },
  {
   "cell_type": "code",
   "execution_count": null,
   "metadata": {},
   "outputs": [],
   "source": [
    "def get_route_features(row):\n",
    "    features = {}\n",
    "   \n",
    "    try:        \n",
    "        parts = polyline.decode(row[\"route\"])\n",
    "\n",
    "        parts_count = len(parts)\n",
    "        parts_distance_sum = 0\n",
    "\n",
    "        for i in range(0, len(parts) - 1):\n",
    "            parts_distance_sum += haversine(parts[i], parts[i + 1])\n",
    "\n",
    "        features[\"parts_count\"] = parts_count\n",
    "        features[\"parts_distance_sum\"] = parts_distance_sum\n",
    "        features[\"parts_distance_avg\"] = parts_distance_sum / parts_count\n",
    "    except:\n",
    "        features[\"parts_count\"] = 0\n",
    "        features[\"parts_distance_sum\"] = 0\n",
    "        features[\"parts_distance_avg\"] = 0\n",
    "\n",
    "    return features"
   ]
  },
  {
   "cell_type": "code",
   "execution_count": null,
   "metadata": {},
   "outputs": [],
   "source": []
  },
  {
   "cell_type": "code",
   "execution_count": null,
   "metadata": {},
   "outputs": [],
   "source": []
  },
  {
   "cell_type": "code",
   "execution_count": 98,
   "metadata": {},
   "outputs": [
    {
     "name": "stderr",
     "output_type": "stream",
     "text": [
      "/media/xsardas/NVME/Citymobil/venv_city/lib/python3.6/site-packages/ipykernel_launcher.py:2: TqdmDeprecationWarning: This function will be removed in tqdm==5.0.0\n",
      "Please use `tqdm.notebook.tqdm` instead of `tqdm.tqdm_notebook`\n",
      "  \n"
     ]
    },
    {
     "data": {
      "application/vnd.jupyter.widget-view+json": {
       "model_id": "665a687b22054fa9a6a5eb3c8fcbe8d0",
       "version_major": 2,
       "version_minor": 0
      },
      "text/plain": [
       "HBox(children=(FloatProgress(value=1.0, bar_style='info', max=1.0), HTML(value='')))"
      ]
     },
     "metadata": {},
     "output_type": "display_data"
    },
    {
     "name": "stdout",
     "output_type": "stream",
     "text": [
      "\n"
     ]
    }
   ],
   "source": [
    "train_route_features = []\n",
    "for idx, row in tqdm_notebook(train_df.iterrows()):\n",
    "    train_route_features.append(get_route_features(row))"
   ]
  },
  {
   "cell_type": "code",
   "execution_count": 71,
   "metadata": {},
   "outputs": [
    {
     "data": {
      "text/plain": [
       "{'parts_count': 104,\n",
       " 'parts_distance_sum': 7.41724743196284,\n",
       " 'parts_distance_avg': 0.07131968684579654,\n",
       " 'koeff': 1.4959200808262765}"
      ]
     },
     "execution_count": 71,
     "metadata": {},
     "output_type": "execute_result"
    }
   ],
   "source": [
    "train_route_features[0]"
   ]
  },
  {
   "cell_type": "code",
   "execution_count": 99,
   "metadata": {},
   "outputs": [],
   "source": [
    "train_route_features_df = pd.DataFrame(train_route_features)"
   ]
  },
  {
   "cell_type": "code",
   "execution_count": 100,
   "metadata": {},
   "outputs": [
    {
     "data": {
      "text/plain": [
       "(655657, 3)"
      ]
     },
     "execution_count": 100,
     "metadata": {},
     "output_type": "execute_result"
    }
   ],
   "source": [
    "train_route_features_df.shape"
   ]
  },
  {
   "cell_type": "code",
   "execution_count": 101,
   "metadata": {},
   "outputs": [
    {
     "data": {
      "text/html": [
       "<div>\n",
       "<style scoped>\n",
       "    .dataframe tbody tr th:only-of-type {\n",
       "        vertical-align: middle;\n",
       "    }\n",
       "\n",
       "    .dataframe tbody tr th {\n",
       "        vertical-align: top;\n",
       "    }\n",
       "\n",
       "    .dataframe thead th {\n",
       "        text-align: right;\n",
       "    }\n",
       "</style>\n",
       "<table border=\"1\" class=\"dataframe\">\n",
       "  <thead>\n",
       "    <tr style=\"text-align: right;\">\n",
       "      <th></th>\n",
       "      <th>parts_count</th>\n",
       "      <th>parts_distance_sum</th>\n",
       "      <th>parts_distance_avg</th>\n",
       "    </tr>\n",
       "  </thead>\n",
       "  <tbody>\n",
       "    <tr>\n",
       "      <th>0</th>\n",
       "      <td>104</td>\n",
       "      <td>7.408011</td>\n",
       "      <td>0.071231</td>\n",
       "    </tr>\n",
       "    <tr>\n",
       "      <th>1</th>\n",
       "      <td>169</td>\n",
       "      <td>14.593807</td>\n",
       "      <td>0.086354</td>\n",
       "    </tr>\n",
       "    <tr>\n",
       "      <th>2</th>\n",
       "      <td>39</td>\n",
       "      <td>2.178112</td>\n",
       "      <td>0.055849</td>\n",
       "    </tr>\n",
       "    <tr>\n",
       "      <th>3</th>\n",
       "      <td>43</td>\n",
       "      <td>3.864068</td>\n",
       "      <td>0.089862</td>\n",
       "    </tr>\n",
       "    <tr>\n",
       "      <th>4</th>\n",
       "      <td>51</td>\n",
       "      <td>5.994487</td>\n",
       "      <td>0.117539</td>\n",
       "    </tr>\n",
       "  </tbody>\n",
       "</table>\n",
       "</div>"
      ],
      "text/plain": [
       "   parts_count  parts_distance_sum  parts_distance_avg\n",
       "0          104            7.408011            0.071231\n",
       "1          169           14.593807            0.086354\n",
       "2           39            2.178112            0.055849\n",
       "3           43            3.864068            0.089862\n",
       "4           51            5.994487            0.117539"
      ]
     },
     "execution_count": 101,
     "metadata": {},
     "output_type": "execute_result"
    }
   ],
   "source": [
    "train_route_features_df.head()"
   ]
  },
  {
   "cell_type": "code",
   "execution_count": 105,
   "metadata": {},
   "outputs": [
    {
     "data": {
      "text/plain": [
       "(655657, 29)"
      ]
     },
     "execution_count": 105,
     "metadata": {},
     "output_type": "execute_result"
    }
   ],
   "source": [
    "train_df.shape"
   ]
  },
  {
   "cell_type": "code",
   "execution_count": 102,
   "metadata": {},
   "outputs": [
    {
     "data": {
      "text/html": [
       "<div>\n",
       "<style scoped>\n",
       "    .dataframe tbody tr th:only-of-type {\n",
       "        vertical-align: middle;\n",
       "    }\n",
       "\n",
       "    .dataframe tbody tr th {\n",
       "        vertical-align: top;\n",
       "    }\n",
       "\n",
       "    .dataframe thead th {\n",
       "        text-align: right;\n",
       "    }\n",
       "</style>\n",
       "<table border=\"1\" class=\"dataframe\">\n",
       "  <thead>\n",
       "    <tr style=\"text-align: right;\">\n",
       "      <th></th>\n",
       "      <th>Id</th>\n",
       "      <th>main_id_locality</th>\n",
       "      <th>ETA</th>\n",
       "      <th>RTA</th>\n",
       "      <th>OrderedDate</th>\n",
       "      <th>latitude</th>\n",
       "      <th>del_latitude</th>\n",
       "      <th>longitude</th>\n",
       "      <th>del_longitude</th>\n",
       "      <th>EDA</th>\n",
       "      <th>RDA</th>\n",
       "      <th>ReadyForCollection</th>\n",
       "      <th>ClientCollected</th>\n",
       "      <th>GoodArrived</th>\n",
       "      <th>ready_latitude</th>\n",
       "      <th>ready_longitude</th>\n",
       "      <th>onway_latitude</th>\n",
       "      <th>onway_longitude</th>\n",
       "      <th>arrived_latitude</th>\n",
       "      <th>arrived_longitude</th>\n",
       "      <th>center_latitude</th>\n",
       "      <th>center_longitude</th>\n",
       "      <th>route</th>\n",
       "      <th>track</th>\n",
       "      <th>city</th>\n",
       "      <th>haversine</th>\n",
       "      <th>start_offset</th>\n",
       "      <th>finish_offset</th>\n",
       "      <th>koeff_overroute</th>\n",
       "    </tr>\n",
       "  </thead>\n",
       "  <tbody>\n",
       "    <tr>\n",
       "      <th>0</th>\n",
       "      <td>0</td>\n",
       "      <td>338</td>\n",
       "      <td>1249.0</td>\n",
       "      <td>1076.0</td>\n",
       "      <td>2020-03-11 20:43:49</td>\n",
       "      <td>45.013191</td>\n",
       "      <td>45.040428</td>\n",
       "      <td>38.981220</td>\n",
       "      <td>39.026501</td>\n",
       "      <td>7.0</td>\n",
       "      <td>8.0</td>\n",
       "      <td>2020-03-11 20:48:52</td>\n",
       "      <td>2020-03-11 20:48:58</td>\n",
       "      <td>2020-03-11 21:06:54</td>\n",
       "      <td>45.012991</td>\n",
       "      <td>38.981120</td>\n",
       "      <td>45.012991</td>\n",
       "      <td>38.981120</td>\n",
       "      <td>45.040108</td>\n",
       "      <td>39.026086</td>\n",
       "      <td>45.040235</td>\n",
       "      <td>38.976080</td>\n",
       "      <td>stvqG{n|lFf@bCN|@NhBH~D?n@MvC_@rES`B??YFWCoAgE...</td>\n",
       "      <td>NaN</td>\n",
       "      <td>Краснодар</td>\n",
       "      <td>4.672908</td>\n",
       "      <td>3.034147</td>\n",
       "      <td>3.961677</td>\n",
       "      <td>1.497997</td>\n",
       "    </tr>\n",
       "    <tr>\n",
       "      <th>1</th>\n",
       "      <td>1</td>\n",
       "      <td>22402</td>\n",
       "      <td>1822.0</td>\n",
       "      <td>1812.0</td>\n",
       "      <td>2020-02-03 14:27:22</td>\n",
       "      <td>54.735378</td>\n",
       "      <td>54.710651</td>\n",
       "      <td>55.961922</td>\n",
       "      <td>55.822079</td>\n",
       "      <td>15.0</td>\n",
       "      <td>14.0</td>\n",
       "      <td>2020-02-03 14:34:41</td>\n",
       "      <td>2020-02-03 14:35:36</td>\n",
       "      <td>2020-02-03 15:05:48</td>\n",
       "      <td>54.735327</td>\n",
       "      <td>55.961558</td>\n",
       "      <td>54.735515</td>\n",
       "      <td>55.962046</td>\n",
       "      <td>54.710222</td>\n",
       "      <td>55.822577</td>\n",
       "      <td>54.734853</td>\n",
       "      <td>55.957865</td>\n",
       "      <td>ooamI}`qtIXtE??h@_@|@^??lAaN??jA`@??XwD`@_E|@u...</td>\n",
       "      <td>m_qtI}namIWEQASCO?@B@@A@??????????EAKEBKHGDA??...</td>\n",
       "      <td>Уфа</td>\n",
       "      <td>9.391974</td>\n",
       "      <td>0.266925</td>\n",
       "      <td>9.125832</td>\n",
       "      <td>1.597108</td>\n",
       "    </tr>\n",
       "    <tr>\n",
       "      <th>2</th>\n",
       "      <td>2</td>\n",
       "      <td>22394</td>\n",
       "      <td>410.0</td>\n",
       "      <td>336.0</td>\n",
       "      <td>2020-02-22 11:15:02</td>\n",
       "      <td>53.529202</td>\n",
       "      <td>53.543640</td>\n",
       "      <td>49.337990</td>\n",
       "      <td>49.351028</td>\n",
       "      <td>2.0</td>\n",
       "      <td>2.0</td>\n",
       "      <td>2020-02-22 11:17:51</td>\n",
       "      <td>2020-02-22 11:18:32</td>\n",
       "      <td>2020-02-22 11:24:08</td>\n",
       "      <td>53.530384</td>\n",
       "      <td>49.339986</td>\n",
       "      <td>53.529227</td>\n",
       "      <td>49.338437</td>\n",
       "      <td>53.543038</td>\n",
       "      <td>49.350991</td>\n",
       "      <td>53.516670</td>\n",
       "      <td>49.416670</td>\n",
       "      <td>u}ueI_hclHwBkGaDqJo@oA]OiCuHK[M{@??Ag@Ie@UYSIU...</td>\n",
       "      <td>wlclHk}ueIGJVH????LJEJ\\AtCJbBTHFVB?n@hC\\`@iBiA...</td>\n",
       "      <td>Тольятти</td>\n",
       "      <td>1.822111</td>\n",
       "      <td>5.384622</td>\n",
       "      <td>5.274140</td>\n",
       "      <td>1.097628</td>\n",
       "    </tr>\n",
       "    <tr>\n",
       "      <th>3</th>\n",
       "      <td>3</td>\n",
       "      <td>22406</td>\n",
       "      <td>653.0</td>\n",
       "      <td>558.0</td>\n",
       "      <td>2020-02-26 22:21:28</td>\n",
       "      <td>56.836250</td>\n",
       "      <td>56.863159</td>\n",
       "      <td>60.632580</td>\n",
       "      <td>60.654831</td>\n",
       "      <td>4.0</td>\n",
       "      <td>4.0</td>\n",
       "      <td>2020-02-26 22:30:08</td>\n",
       "      <td>2020-02-26 22:30:16</td>\n",
       "      <td>2020-02-26 22:39:34</td>\n",
       "      <td>56.836830</td>\n",
       "      <td>60.633442</td>\n",
       "      <td>56.836830</td>\n",
       "      <td>60.633442</td>\n",
       "      <td>56.862945</td>\n",
       "      <td>60.654256</td>\n",
       "      <td>56.838633</td>\n",
       "      <td>60.605489</td>\n",
       "      <td>qy{yIshaqJuADoAS_Bb@??UiE??wIfCgOrD}FhB_Bd@??m...</td>\n",
       "      <td>upaqJ{b|yI??^Dl@RFRCTFPNP?PIXGVAH????AA?????A@...</td>\n",
       "      <td>Екатеринбург</td>\n",
       "      <td>3.283818</td>\n",
       "      <td>1.668987</td>\n",
       "      <td>4.054496</td>\n",
       "      <td>1.218094</td>\n",
       "    </tr>\n",
       "    <tr>\n",
       "      <th>4</th>\n",
       "      <td>4</td>\n",
       "      <td>22406</td>\n",
       "      <td>518.0</td>\n",
       "      <td>463.0</td>\n",
       "      <td>2020-01-31 07:24:25</td>\n",
       "      <td>56.798431</td>\n",
       "      <td>56.782021</td>\n",
       "      <td>60.632622</td>\n",
       "      <td>60.681702</td>\n",
       "      <td>6.0</td>\n",
       "      <td>6.0</td>\n",
       "      <td>2020-01-31 07:28:34</td>\n",
       "      <td>2020-01-31 07:28:57</td>\n",
       "      <td>2020-01-31 07:36:40</td>\n",
       "      <td>56.798378</td>\n",
       "      <td>60.632567</td>\n",
       "      <td>56.798399</td>\n",
       "      <td>60.632575</td>\n",
       "      <td>56.782251</td>\n",
       "      <td>60.682133</td>\n",
       "      <td>56.838633</td>\n",
       "      <td>60.605489</td>\n",
       "      <td>gmtyI{haqJ\\f@??]pA]|@i@t@[Z_@X??c@gDcAoI??aEzB...</td>\n",
       "      <td>NaN</td>\n",
       "      <td>Екатеринбург</td>\n",
       "      <td>3.502066</td>\n",
       "      <td>4.765395</td>\n",
       "      <td>7.819689</td>\n",
       "      <td>1.713274</td>\n",
       "    </tr>\n",
       "  </tbody>\n",
       "</table>\n",
       "</div>"
      ],
      "text/plain": [
       "   Id  main_id_locality     ETA     RTA          OrderedDate   latitude  \\\n",
       "0   0               338  1249.0  1076.0  2020-03-11 20:43:49  45.013191   \n",
       "1   1             22402  1822.0  1812.0  2020-02-03 14:27:22  54.735378   \n",
       "2   2             22394   410.0   336.0  2020-02-22 11:15:02  53.529202   \n",
       "3   3             22406   653.0   558.0  2020-02-26 22:21:28  56.836250   \n",
       "4   4             22406   518.0   463.0  2020-01-31 07:24:25  56.798431   \n",
       "\n",
       "   del_latitude  longitude  del_longitude   EDA   RDA   ReadyForCollection  \\\n",
       "0     45.040428  38.981220      39.026501   7.0   8.0  2020-03-11 20:48:52   \n",
       "1     54.710651  55.961922      55.822079  15.0  14.0  2020-02-03 14:34:41   \n",
       "2     53.543640  49.337990      49.351028   2.0   2.0  2020-02-22 11:17:51   \n",
       "3     56.863159  60.632580      60.654831   4.0   4.0  2020-02-26 22:30:08   \n",
       "4     56.782021  60.632622      60.681702   6.0   6.0  2020-01-31 07:28:34   \n",
       "\n",
       "       ClientCollected          GoodArrived  ready_latitude  ready_longitude  \\\n",
       "0  2020-03-11 20:48:58  2020-03-11 21:06:54       45.012991        38.981120   \n",
       "1  2020-02-03 14:35:36  2020-02-03 15:05:48       54.735327        55.961558   \n",
       "2  2020-02-22 11:18:32  2020-02-22 11:24:08       53.530384        49.339986   \n",
       "3  2020-02-26 22:30:16  2020-02-26 22:39:34       56.836830        60.633442   \n",
       "4  2020-01-31 07:28:57  2020-01-31 07:36:40       56.798378        60.632567   \n",
       "\n",
       "   onway_latitude  onway_longitude  arrived_latitude  arrived_longitude  \\\n",
       "0       45.012991        38.981120         45.040108          39.026086   \n",
       "1       54.735515        55.962046         54.710222          55.822577   \n",
       "2       53.529227        49.338437         53.543038          49.350991   \n",
       "3       56.836830        60.633442         56.862945          60.654256   \n",
       "4       56.798399        60.632575         56.782251          60.682133   \n",
       "\n",
       "   center_latitude  center_longitude  \\\n",
       "0        45.040235         38.976080   \n",
       "1        54.734853         55.957865   \n",
       "2        53.516670         49.416670   \n",
       "3        56.838633         60.605489   \n",
       "4        56.838633         60.605489   \n",
       "\n",
       "                                               route  \\\n",
       "0  stvqG{n|lFf@bCN|@NhBH~D?n@MvC_@rES`B??YFWCoAgE...   \n",
       "1  ooamI}`qtIXtE??h@_@|@^??lAaN??jA`@??XwD`@_E|@u...   \n",
       "2  u}ueI_hclHwBkGaDqJo@oA]OiCuHK[M{@??Ag@Ie@UYSIU...   \n",
       "3  qy{yIshaqJuADoAS_Bb@??UiE??wIfCgOrD}FhB_Bd@??m...   \n",
       "4  gmtyI{haqJ\\f@??]pA]|@i@t@[Z_@X??c@gDcAoI??aEzB...   \n",
       "\n",
       "                                               track          city  haversine  \\\n",
       "0                                                NaN     Краснодар   4.672908   \n",
       "1  m_qtI}namIWEQASCO?@B@@A@??????????EAKEBKHGDA??...           Уфа   9.391974   \n",
       "2  wlclHk}ueIGJVH????LJEJ\\AtCJbBTHFVB?n@hC\\`@iBiA...      Тольятти   1.822111   \n",
       "3  upaqJ{b|yI??^Dl@RFRCTFPNP?PIXGVAH????AA?????A@...  Екатеринбург   3.283818   \n",
       "4                                                NaN  Екатеринбург   3.502066   \n",
       "\n",
       "   start_offset  finish_offset  koeff_overroute  \n",
       "0      3.034147       3.961677         1.497997  \n",
       "1      0.266925       9.125832         1.597108  \n",
       "2      5.384622       5.274140         1.097628  \n",
       "3      1.668987       4.054496         1.218094  \n",
       "4      4.765395       7.819689         1.713274  "
      ]
     },
     "execution_count": 102,
     "metadata": {},
     "output_type": "execute_result"
    }
   ],
   "source": [
    "train_df.head()"
   ]
  },
  {
   "cell_type": "code",
   "execution_count": 103,
   "metadata": {},
   "outputs": [],
   "source": [
    "train_routes_df = pd.concat([train_df, train_route_features_df], axis=1)"
   ]
  },
  {
   "cell_type": "code",
   "execution_count": 104,
   "metadata": {},
   "outputs": [
    {
     "data": {
      "text/plain": [
       "(655657, 32)"
      ]
     },
     "execution_count": 104,
     "metadata": {},
     "output_type": "execute_result"
    }
   ],
   "source": [
    "train_routes_df.shape"
   ]
  },
  {
   "cell_type": "code",
   "execution_count": null,
   "metadata": {},
   "outputs": [],
   "source": []
  },
  {
   "cell_type": "code",
   "execution_count": null,
   "metadata": {},
   "outputs": [],
   "source": []
  },
  {
   "cell_type": "code",
   "execution_count": null,
   "metadata": {},
   "outputs": [],
   "source": []
  },
  {
   "cell_type": "markdown",
   "metadata": {},
   "source": [
    "## 4. Code"
   ]
  },
  {
   "cell_type": "code",
   "execution_count": null,
   "metadata": {},
   "outputs": [],
   "source": []
  },
  {
   "cell_type": "code",
   "execution_count": 109,
   "metadata": {},
   "outputs": [],
   "source": [
    "train_df = pd.read_csv(\"../../data/train.csv\")"
   ]
  },
  {
   "cell_type": "code",
   "execution_count": 111,
   "metadata": {},
   "outputs": [],
   "source": [
    "valid_df = pd.read_csv(\"../../data/validation.csv\")"
   ]
  },
  {
   "cell_type": "code",
   "execution_count": 126,
   "metadata": {},
   "outputs": [],
   "source": [
    "test_df = pd.read_csv(\"../../data/test.csv\")"
   ]
  },
  {
   "cell_type": "code",
   "execution_count": 115,
   "metadata": {},
   "outputs": [],
   "source": [
    "def get_new_features(train_df):\n",
    "    # Геогрфическое расстояние от начальной до конечной точки\n",
    "    train_df.loc[:, 'haversine'] = train_df.apply(lambda row: haversine((row['latitude'], row['longitude']), \n",
    "                             (row['del_latitude'], row['del_longitude'])), axis=1)\n",
    "    \n",
    "    # Удаленность от центра города начала маршрута\n",
    "    train_df.loc[:, 'start_offset'] = train_df.apply(lambda row: haversine((row['latitude'], row['longitude']), \n",
    "                             (row['center_latitude'], row['center_longitude'])), axis=1)\n",
    "\n",
    "    \n",
    "    # Удаленность от центра города конца маршрута\n",
    "    train_df.loc[:, 'finish_offset'] = train_df.apply(lambda row: haversine((row['del_latitude'], row['del_longitude']), \n",
    "                             (row['center_latitude'], row['center_longitude'])), axis=1)\n",
    "    \n",
    "    # Коэффициент перепробега (отношение реальной длины к расстоянию между точками)\n",
    "    train_df.loc[:, \"koeff_overroute\"] = train_df.apply(lambda row: row['EDA'] / row['haversine'], axis=1)\n",
    "    \n",
    "    \n",
    "    train_route_features = []\n",
    "    for idx, row in tqdm_notebook(train_df.iterrows()):\n",
    "        train_route_features.append(get_route_features(row))\n",
    "        \n",
    "    \n",
    "    train_route_features_df = pd.DataFrame(train_route_features)\n",
    "    \n",
    "    train_routes_df = pd.concat([train_df, train_route_features_df], axis=1)\n",
    "    \n",
    "    \n",
    "    feature_names = [\"start_offset\", \"finish_offset\", \"koeff_overroute\", \"parts_count\", \n",
    "                     \"parts_distance_sum\", \"parts_distance_avg\"]\n",
    "    \n",
    "    new_features_df = train_routes_df[feature_names]\n",
    "    \n",
    "    return new_features_df"
   ]
  },
  {
   "cell_type": "code",
   "execution_count": 119,
   "metadata": {},
   "outputs": [
    {
     "name": "stderr",
     "output_type": "stream",
     "text": [
      "/media/xsardas/NVME/Citymobil/venv_city/lib/python3.6/site-packages/ipykernel_launcher.py:20: TqdmDeprecationWarning: This function will be removed in tqdm==5.0.0\n",
      "Please use `tqdm.notebook.tqdm` instead of `tqdm.tqdm_notebook`\n"
     ]
    },
    {
     "data": {
      "application/vnd.jupyter.widget-view+json": {
       "model_id": "b38b87fae5ad4e3ca5aca891ad8bf33d",
       "version_major": 2,
       "version_minor": 0
      },
      "text/plain": [
       "HBox(children=(FloatProgress(value=1.0, bar_style='info', max=1.0), HTML(value='')))"
      ]
     },
     "metadata": {},
     "output_type": "display_data"
    },
    {
     "name": "stdout",
     "output_type": "stream",
     "text": [
      "\n"
     ]
    }
   ],
   "source": [
    "train_df_extended = get_new_features(train_df)"
   ]
  },
  {
   "cell_type": "code",
   "execution_count": 120,
   "metadata": {},
   "outputs": [
    {
     "name": "stderr",
     "output_type": "stream",
     "text": [
      "/media/xsardas/NVME/Citymobil/venv_city/lib/python3.6/site-packages/ipykernel_launcher.py:20: TqdmDeprecationWarning: This function will be removed in tqdm==5.0.0\n",
      "Please use `tqdm.notebook.tqdm` instead of `tqdm.tqdm_notebook`\n"
     ]
    },
    {
     "data": {
      "application/vnd.jupyter.widget-view+json": {
       "model_id": "caecea94def947cfb4bf8a1d05d7a31b",
       "version_major": 2,
       "version_minor": 0
      },
      "text/plain": [
       "HBox(children=(FloatProgress(value=1.0, bar_style='info', max=1.0), HTML(value='')))"
      ]
     },
     "metadata": {},
     "output_type": "display_data"
    },
    {
     "name": "stdout",
     "output_type": "stream",
     "text": [
      "\n"
     ]
    }
   ],
   "source": [
    "valid_df_extended = get_new_features(valid_df)"
   ]
  },
  {
   "cell_type": "code",
   "execution_count": 127,
   "metadata": {},
   "outputs": [
    {
     "name": "stderr",
     "output_type": "stream",
     "text": [
      "/media/xsardas/NVME/Citymobil/venv_city/lib/python3.6/site-packages/ipykernel_launcher.py:20: TqdmDeprecationWarning: This function will be removed in tqdm==5.0.0\n",
      "Please use `tqdm.notebook.tqdm` instead of `tqdm.tqdm_notebook`\n"
     ]
    },
    {
     "data": {
      "application/vnd.jupyter.widget-view+json": {
       "model_id": "26c2dab8035b47e9a950fbdbb8a0612e",
       "version_major": 2,
       "version_minor": 0
      },
      "text/plain": [
       "HBox(children=(FloatProgress(value=1.0, bar_style='info', max=1.0), HTML(value='')))"
      ]
     },
     "metadata": {},
     "output_type": "display_data"
    },
    {
     "name": "stdout",
     "output_type": "stream",
     "text": [
      "\n"
     ]
    }
   ],
   "source": [
    "test_df_extended = get_new_features(test_df)"
   ]
  },
  {
   "cell_type": "code",
   "execution_count": 123,
   "metadata": {},
   "outputs": [
    {
     "name": "stdout",
     "output_type": "stream",
     "text": [
      "test_additional.csv  test.csv  train.csv  validation.csv\r\n"
     ]
    }
   ],
   "source": [
    "!ls  ../../data"
   ]
  },
  {
   "cell_type": "code",
   "execution_count": 124,
   "metadata": {},
   "outputs": [],
   "source": [
    "train_df_extended.to_csv(\"../../data/train_extended.csv\", index=False)"
   ]
  },
  {
   "cell_type": "code",
   "execution_count": 125,
   "metadata": {},
   "outputs": [],
   "source": [
    "valid_df_extended.to_csv(\"../../data/valid_extended.csv\", index=False)"
   ]
  },
  {
   "cell_type": "code",
   "execution_count": 128,
   "metadata": {},
   "outputs": [],
   "source": [
    "test_df_extended.to_csv(\"../../data/test_extended.csv\", index=False)"
   ]
  },
  {
   "cell_type": "code",
   "execution_count": null,
   "metadata": {},
   "outputs": [],
   "source": []
  },
  {
   "cell_type": "code",
   "execution_count": null,
   "metadata": {},
   "outputs": [],
   "source": []
  },
  {
   "cell_type": "code",
   "execution_count": null,
   "metadata": {},
   "outputs": [],
   "source": []
  }
 ],
 "metadata": {
  "kernelspec": {
   "display_name": "Python 3",
   "language": "python",
   "name": "python3"
  },
  "language_info": {
   "codemirror_mode": {
    "name": "ipython",
    "version": 3
   },
   "file_extension": ".py",
   "mimetype": "text/x-python",
   "name": "python",
   "nbconvert_exporter": "python",
   "pygments_lexer": "ipython3",
   "version": "3.6.10"
  }
 },
 "nbformat": 4,
 "nbformat_minor": 4
}
