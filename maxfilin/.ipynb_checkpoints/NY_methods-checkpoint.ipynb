{
 "cells": [
  {
   "cell_type": "code",
   "execution_count": 1,
   "metadata": {},
   "outputs": [],
   "source": [
    "import pandas as pd\n",
    "import numpy as np\n",
    "import matplotlib.pyplot as plt\n",
    "\n",
    "from collections import Counter\n",
    "\n",
    "from haversine import haversine # too slow\n",
    "from sklearn.model_selection import train_test_split\n",
    "\n",
    "from sklearn.decomposition import PCA\n",
    "from sklearn.cluster import MiniBatchKMeans\n",
    "\n",
    "from catboost import CatBoostRegressor\n",
    "from catboost import cv\n",
    "from catboost import Pool\n",
    "import datetime as dt"
   ]
  },
  {
   "cell_type": "code",
   "execution_count": 2,
   "metadata": {},
   "outputs": [],
   "source": [
    "pd.set_option('display.max_columns', None)\n"
   ]
  },
  {
   "cell_type": "code",
   "execution_count": 3,
   "metadata": {},
   "outputs": [],
   "source": [
    "np.random.seed(1987)\n",
    "N = 100000 # number of sample rows in plots\n",
    "t0 = dt.datetime.now()\n",
    "train = pd.read_csv('../../data/train.csv', index_col=None)\n",
    "test = pd.read_csv('../../data/test.csv', index_col=None)\n",
    "valid = pd.read_csv('../../data/validation.csv')"
   ]
  },
  {
   "cell_type": "code",
   "execution_count": 4,
   "metadata": {},
   "outputs": [],
   "source": [
    "train_size = len(train)"
   ]
  },
  {
   "cell_type": "code",
   "execution_count": 5,
   "metadata": {},
   "outputs": [
    {
     "data": {
      "text/plain": [
       "(89938, 11)"
      ]
     },
     "execution_count": 5,
     "metadata": {},
     "output_type": "execute_result"
    }
   ],
   "source": [
    "test.shape"
   ]
  },
  {
   "cell_type": "code",
   "execution_count": 6,
   "metadata": {},
   "outputs": [],
   "source": [
    "train = pd.concat([train, valid], axis=0)"
   ]
  },
  {
   "cell_type": "code",
   "execution_count": 7,
   "metadata": {},
   "outputs": [
    {
     "data": {
      "text/plain": [
       "(938482, 24)"
      ]
     },
     "execution_count": 7,
     "metadata": {},
     "output_type": "execute_result"
    }
   ],
   "source": [
    "train.shape"
   ]
  },
  {
   "cell_type": "code",
   "execution_count": 8,
   "metadata": {},
   "outputs": [
    {
     "data": {
      "text/plain": [
       "['ReadyForCollection',\n",
       " 'ClientCollected',\n",
       " 'GoodArrived',\n",
       " 'ready_latitude',\n",
       " 'ready_longitude',\n",
       " 'onway_latitude',\n",
       " 'onway_longitude',\n",
       " 'arrived_latitude',\n",
       " 'arrived_longitude',\n",
       " 'track',\n",
       " 'route',\n",
       " 'RDA',\n",
       " 'RTA']"
      ]
     },
     "execution_count": 8,
     "metadata": {},
     "output_type": "execute_result"
    }
   ],
   "source": [
    "[\"ReadyForCollection\", \"ClientCollected\", \"GoodArrived\", \"ready_latitude\", \"ready_longitude\", \n",
    "\"onway_latitude\", \"onway_longitude\", \"arrived_latitude\", \"arrived_longitude\", \"track\", \"route\", \"RDA\", \"RTA\"]"
   ]
  },
  {
   "cell_type": "code",
   "execution_count": 9,
   "metadata": {},
   "outputs": [
    {
     "data": {
      "text/html": [
       "<div>\n",
       "<style scoped>\n",
       "    .dataframe tbody tr th:only-of-type {\n",
       "        vertical-align: middle;\n",
       "    }\n",
       "\n",
       "    .dataframe tbody tr th {\n",
       "        vertical-align: top;\n",
       "    }\n",
       "\n",
       "    .dataframe thead th {\n",
       "        text-align: right;\n",
       "    }\n",
       "</style>\n",
       "<table border=\"1\" class=\"dataframe\">\n",
       "  <thead>\n",
       "    <tr style=\"text-align: right;\">\n",
       "      <th></th>\n",
       "      <th>Id</th>\n",
       "      <th>main_id_locality</th>\n",
       "      <th>ETA</th>\n",
       "      <th>RTA</th>\n",
       "      <th>OrderedDate</th>\n",
       "      <th>latitude</th>\n",
       "      <th>del_latitude</th>\n",
       "      <th>longitude</th>\n",
       "      <th>del_longitude</th>\n",
       "      <th>EDA</th>\n",
       "      <th>RDA</th>\n",
       "      <th>ReadyForCollection</th>\n",
       "      <th>ClientCollected</th>\n",
       "      <th>GoodArrived</th>\n",
       "      <th>ready_latitude</th>\n",
       "      <th>ready_longitude</th>\n",
       "      <th>onway_latitude</th>\n",
       "      <th>onway_longitude</th>\n",
       "      <th>arrived_latitude</th>\n",
       "      <th>arrived_longitude</th>\n",
       "      <th>center_latitude</th>\n",
       "      <th>center_longitude</th>\n",
       "      <th>route</th>\n",
       "      <th>track</th>\n",
       "    </tr>\n",
       "  </thead>\n",
       "  <tbody>\n",
       "    <tr>\n",
       "      <th>0</th>\n",
       "      <td>0</td>\n",
       "      <td>1078</td>\n",
       "      <td>226.0</td>\n",
       "      <td>188.0</td>\n",
       "      <td>2020-02-12 19:12:06</td>\n",
       "      <td>55.826019</td>\n",
       "      <td>55.825581</td>\n",
       "      <td>49.134529</td>\n",
       "      <td>49.126949</td>\n",
       "      <td>1.0</td>\n",
       "      <td>1.0</td>\n",
       "      <td>2020-02-12 19:14:33</td>\n",
       "      <td>2020-02-12 19:15:06</td>\n",
       "      <td>2020-02-12 19:18:14</td>\n",
       "      <td>55.825647</td>\n",
       "      <td>49.134115</td>\n",
       "      <td>55.826261</td>\n",
       "      <td>49.134137</td>\n",
       "      <td>55.825707</td>\n",
       "      <td>49.127136</td>\n",
       "      <td>55.794388</td>\n",
       "      <td>49.111531</td>\n",
       "      <td>gnvsIaq{jHChA??uC???OPG^F^NRzKBd@AN[r@???`@`@`...</td>\n",
       "      <td>io{jHkivsID_A??A}@i@m@I]^SFKBK@AD@@????A?@??A@...</td>\n",
       "    </tr>\n",
       "    <tr>\n",
       "      <th>1</th>\n",
       "      <td>1</td>\n",
       "      <td>1078</td>\n",
       "      <td>718.0</td>\n",
       "      <td>725.0</td>\n",
       "      <td>2020-02-12 19:12:22</td>\n",
       "      <td>55.795502</td>\n",
       "      <td>55.820911</td>\n",
       "      <td>49.131470</td>\n",
       "      <td>49.115360</td>\n",
       "      <td>5.0</td>\n",
       "      <td>6.0</td>\n",
       "      <td>2020-02-12 19:19:03</td>\n",
       "      <td>2020-02-12 19:19:42</td>\n",
       "      <td>2020-02-12 19:31:47</td>\n",
       "      <td>55.795591</td>\n",
       "      <td>49.132281</td>\n",
       "      <td>55.795544</td>\n",
       "      <td>49.131552</td>\n",
       "      <td>55.821531</td>\n",
       "      <td>49.115685</td>\n",
       "      <td>55.794388</td>\n",
       "      <td>49.111531</td>\n",
       "      <td>sqpsI}~zjHyAr]e@lMk@fLaBlb@i@rLKhBCdAUxEGlCg@f...</td>\n",
       "      <td>qh{jHappsIAAA?\\EVSLAC@r@I????h@ERAL?R?x@Cf@ARD...</td>\n",
       "    </tr>\n",
       "    <tr>\n",
       "      <th>2</th>\n",
       "      <td>2</td>\n",
       "      <td>1078</td>\n",
       "      <td>612.0</td>\n",
       "      <td>764.0</td>\n",
       "      <td>2020-02-12 19:12:44</td>\n",
       "      <td>55.791050</td>\n",
       "      <td>55.819962</td>\n",
       "      <td>49.226070</td>\n",
       "      <td>49.176628</td>\n",
       "      <td>5.0</td>\n",
       "      <td>5.0</td>\n",
       "      <td>2020-02-12 19:15:21</td>\n",
       "      <td>2020-02-12 19:15:25</td>\n",
       "      <td>2020-02-12 19:28:09</td>\n",
       "      <td>55.791099</td>\n",
       "      <td>49.226066</td>\n",
       "      <td>55.791099</td>\n",
       "      <td>49.226066</td>\n",
       "      <td>55.819765</td>\n",
       "      <td>49.177432</td>\n",
       "      <td>55.794388</td>\n",
       "      <td>49.111531</td>\n",
       "      <td>auosI}mmkH?LHd@KhC??o@w@[g@m@iAUk@??{G|OiB`Ek@...</td>\n",
       "      <td>}mmkHkuosI????????????????????????????????K?O@...</td>\n",
       "    </tr>\n",
       "    <tr>\n",
       "      <th>3</th>\n",
       "      <td>3</td>\n",
       "      <td>1078</td>\n",
       "      <td>1560.0</td>\n",
       "      <td>1412.0</td>\n",
       "      <td>2020-02-12 19:12:44</td>\n",
       "      <td>55.753899</td>\n",
       "      <td>55.824680</td>\n",
       "      <td>49.188519</td>\n",
       "      <td>49.093700</td>\n",
       "      <td>13.0</td>\n",
       "      <td>14.0</td>\n",
       "      <td>2020-02-12 19:19:00</td>\n",
       "      <td>2020-02-12 19:19:09</td>\n",
       "      <td>2020-02-12 19:42:41</td>\n",
       "      <td>55.754116</td>\n",
       "      <td>49.188853</td>\n",
       "      <td>55.754116</td>\n",
       "      <td>49.188853</td>\n",
       "      <td>55.824734</td>\n",
       "      <td>49.094013</td>\n",
       "      <td>55.794388</td>\n",
       "      <td>49.111531</td>\n",
       "      <td>{lhsIiffkHmKN_C?mIPwMJ??Si@gA{B??Wq@MRCJTp@hAd...</td>\n",
       "      <td>gefkH{{hsIQr@Gn@GlAAr@Ct@@^@J@ZFf@FVHHDD??????...</td>\n",
       "    </tr>\n",
       "    <tr>\n",
       "      <th>4</th>\n",
       "      <td>4</td>\n",
       "      <td>1078</td>\n",
       "      <td>1528.0</td>\n",
       "      <td>893.0</td>\n",
       "      <td>2020-02-12 19:12:45</td>\n",
       "      <td>55.822361</td>\n",
       "      <td>55.786758</td>\n",
       "      <td>49.069092</td>\n",
       "      <td>49.143501</td>\n",
       "      <td>9.0</td>\n",
       "      <td>10.0</td>\n",
       "      <td>2020-02-12 19:16:32</td>\n",
       "      <td>2020-02-12 19:17:26</td>\n",
       "      <td>2020-02-12 19:32:19</td>\n",
       "      <td>55.822483</td>\n",
       "      <td>49.069659</td>\n",
       "      <td>55.822617</td>\n",
       "      <td>49.069229</td>\n",
       "      <td>55.786936</td>\n",
       "      <td>49.143330</td>\n",
       "      <td>55.794388</td>\n",
       "      <td>49.111531</td>\n",
       "      <td>yxusI{xnjHgAfG??}IuHkAqA??pIoe@VsA??dAkG`BuH??...</td>\n",
       "      <td>synjHkzusIHAA?E@C?????????????????????????DARE...</td>\n",
       "    </tr>\n",
       "  </tbody>\n",
       "</table>\n",
       "</div>"
      ],
      "text/plain": [
       "   Id  main_id_locality     ETA     RTA          OrderedDate   latitude  \\\n",
       "0   0              1078   226.0   188.0  2020-02-12 19:12:06  55.826019   \n",
       "1   1              1078   718.0   725.0  2020-02-12 19:12:22  55.795502   \n",
       "2   2              1078   612.0   764.0  2020-02-12 19:12:44  55.791050   \n",
       "3   3              1078  1560.0  1412.0  2020-02-12 19:12:44  55.753899   \n",
       "4   4              1078  1528.0   893.0  2020-02-12 19:12:45  55.822361   \n",
       "\n",
       "   del_latitude  longitude  del_longitude   EDA   RDA   ReadyForCollection  \\\n",
       "0     55.825581  49.134529      49.126949   1.0   1.0  2020-02-12 19:14:33   \n",
       "1     55.820911  49.131470      49.115360   5.0   6.0  2020-02-12 19:19:03   \n",
       "2     55.819962  49.226070      49.176628   5.0   5.0  2020-02-12 19:15:21   \n",
       "3     55.824680  49.188519      49.093700  13.0  14.0  2020-02-12 19:19:00   \n",
       "4     55.786758  49.069092      49.143501   9.0  10.0  2020-02-12 19:16:32   \n",
       "\n",
       "       ClientCollected          GoodArrived  ready_latitude  ready_longitude  \\\n",
       "0  2020-02-12 19:15:06  2020-02-12 19:18:14       55.825647        49.134115   \n",
       "1  2020-02-12 19:19:42  2020-02-12 19:31:47       55.795591        49.132281   \n",
       "2  2020-02-12 19:15:25  2020-02-12 19:28:09       55.791099        49.226066   \n",
       "3  2020-02-12 19:19:09  2020-02-12 19:42:41       55.754116        49.188853   \n",
       "4  2020-02-12 19:17:26  2020-02-12 19:32:19       55.822483        49.069659   \n",
       "\n",
       "   onway_latitude  onway_longitude  arrived_latitude  arrived_longitude  \\\n",
       "0       55.826261        49.134137         55.825707          49.127136   \n",
       "1       55.795544        49.131552         55.821531          49.115685   \n",
       "2       55.791099        49.226066         55.819765          49.177432   \n",
       "3       55.754116        49.188853         55.824734          49.094013   \n",
       "4       55.822617        49.069229         55.786936          49.143330   \n",
       "\n",
       "   center_latitude  center_longitude  \\\n",
       "0        55.794388         49.111531   \n",
       "1        55.794388         49.111531   \n",
       "2        55.794388         49.111531   \n",
       "3        55.794388         49.111531   \n",
       "4        55.794388         49.111531   \n",
       "\n",
       "                                               route  \\\n",
       "0  gnvsIaq{jHChA??uC???OPG^F^NRzKBd@AN[r@???`@`@`...   \n",
       "1  sqpsI}~zjHyAr]e@lMk@fLaBlb@i@rLKhBCdAUxEGlCg@f...   \n",
       "2  auosI}mmkH?LHd@KhC??o@w@[g@m@iAUk@??{G|OiB`Ek@...   \n",
       "3  {lhsIiffkHmKN_C?mIPwMJ??Si@gA{B??Wq@MRCJTp@hAd...   \n",
       "4  yxusI{xnjHgAfG??}IuHkAqA??pIoe@VsA??dAkG`BuH??...   \n",
       "\n",
       "                                               track  \n",
       "0  io{jHkivsID_A??A}@i@m@I]^SFKBK@AD@@????A?@??A@...  \n",
       "1  qh{jHappsIAAA?\\EVSLAC@r@I????h@ERAL?R?x@Cf@ARD...  \n",
       "2  }mmkHkuosI????????????????????????????????K?O@...  \n",
       "3  gefkH{{hsIQr@Gn@GlAAr@Ct@@^@J@ZFf@FVHHDD??????...  \n",
       "4  synjHkzusIHAA?E@C?????????????????????????DARE...  "
      ]
     },
     "execution_count": 9,
     "metadata": {},
     "output_type": "execute_result"
    }
   ],
   "source": [
    "train.head()"
   ]
  },
  {
   "cell_type": "code",
   "execution_count": 10,
   "metadata": {},
   "outputs": [
    {
     "data": {
      "text/plain": [
       "Index(['Id', 'main_id_locality', 'ETA', 'RTA', 'OrderedDate', 'latitude',\n",
       "       'del_latitude', 'longitude', 'del_longitude', 'EDA', 'RDA',\n",
       "       'ReadyForCollection', 'ClientCollected', 'GoodArrived',\n",
       "       'ready_latitude', 'ready_longitude', 'onway_latitude',\n",
       "       'onway_longitude', 'arrived_latitude', 'arrived_longitude',\n",
       "       'center_latitude', 'center_longitude', 'route', 'track'],\n",
       "      dtype='object')"
      ]
     },
     "execution_count": 10,
     "metadata": {},
     "output_type": "execute_result"
    }
   ],
   "source": [
    "train.columns"
   ]
  },
  {
   "cell_type": "code",
   "execution_count": 11,
   "metadata": {},
   "outputs": [],
   "source": [
    "train[\"id\"] = np.arange(train.shape[0])"
   ]
  },
  {
   "cell_type": "code",
   "execution_count": 12,
   "metadata": {},
   "outputs": [],
   "source": [
    "test[\"id\"] = np.arange(test.shape[0])"
   ]
  },
  {
   "cell_type": "raw",
   "metadata": {},
   "source": [
    "pickup_datetime - date and time when the meter was engaged\n",
    "dropoff_datetime - date and time when the meter was disengaged\n",
    "passenger_count - the number of passengers in the vehicle (driver entered value)\n",
    "pickup_longitude - the longitude where the meter was engaged\n",
    "pickup_latitude - the latitude where the meter was engaged\n",
    "dropoff_longitude - the longitude where the meter was disengaged\n",
    "dropoff_latitude - the latitude where the meter was disengaged\n",
    "store_and_fwd_flag - This flag indicates whether the trip record was held in vehicle memory before sending to the vendor because the vehicle did not have a connection to the server (Y=store and forward; N=not a store and forward trip)\n",
    "trip_duration - duration of the trip in seconds"
   ]
  },
  {
   "cell_type": "code",
   "execution_count": 19,
   "metadata": {},
   "outputs": [],
   "source": [
    "mapping = {\n",
    "    \"RTA\": \"trip_duration\",\n",
    "    \"OrderedDate\": \"pickup_datetime\",\n",
    "    \"longitude\": \"pickup_longitude\",\n",
    "    \"latitude\": \"pickup_latitude\",\n",
    "    \"del_longitude\": \"dropoff_longitude\",\n",
    "    \"del_latitude\": \"dropoff_latitude\"\n",
    "}\n",
    "\n",
    "mapping_reverse = {\n",
    "    \"trip_duration\": \"RTA\",\n",
    "    \"pickup_datetime\": \"OrderedDate\",\n",
    "    \"pickup_longitude\": \"longitude\",\n",
    "    \"pickup_latitude\": \"latitude\",\n",
    "    \"dropoff_longitude\": \"del_longitude\",\n",
    "    \"dropoff_latitude\": \"del_latitude\"\n",
    "}"
   ]
  },
  {
   "cell_type": "code",
   "execution_count": 20,
   "metadata": {},
   "outputs": [],
   "source": [
    "train = train.rename(mapping, axis=1)\n",
    "test = test.rename(mapping, axis=1)"
   ]
  },
  {
   "cell_type": "code",
   "execution_count": 21,
   "metadata": {},
   "outputs": [
    {
     "name": "stdout",
     "output_type": "stream",
     "text": [
      "<class 'pandas.core.frame.DataFrame'>\n",
      "Int64Index: 938482 entries, 0 to 101353\n",
      "Data columns (total 26 columns):\n",
      " #   Column              Non-Null Count   Dtype  \n",
      "---  ------              --------------   -----  \n",
      " 0   Id                  938482 non-null  int64  \n",
      " 1   main_id_locality    938482 non-null  int64  \n",
      " 2   ETA                 938482 non-null  float64\n",
      " 3   trip_duration       938482 non-null  float64\n",
      " 4   pickup_datetime     938482 non-null  object \n",
      " 5   pickup_latitude     938482 non-null  float64\n",
      " 6   dropoff_latitude    938482 non-null  float64\n",
      " 7   pickup_longitude    938482 non-null  float64\n",
      " 8   dropoff_longitude   938482 non-null  float64\n",
      " 9   EDA                 938482 non-null  float64\n",
      " 10  RDA                 938482 non-null  float64\n",
      " 11  ReadyForCollection  938482 non-null  object \n",
      " 12  ClientCollected     938482 non-null  object \n",
      " 13  GoodArrived         938482 non-null  object \n",
      " 14  ready_latitude      935267 non-null  float64\n",
      " 15  ready_longitude     935267 non-null  float64\n",
      " 16  onway_latitude      935267 non-null  float64\n",
      " 17  onway_longitude     935267 non-null  float64\n",
      " 18  arrived_latitude    935267 non-null  float64\n",
      " 19  arrived_longitude   935267 non-null  float64\n",
      " 20  center_latitude     938482 non-null  float64\n",
      " 21  center_longitude    938482 non-null  float64\n",
      " 22  route               921901 non-null  object \n",
      " 23  track               786720 non-null  object \n",
      " 24  id                  938482 non-null  int64  \n",
      " 25  dropoff_datetime    938482 non-null  object \n",
      "dtypes: float64(16), int64(3), object(7)\n",
      "memory usage: 193.3+ MB\n"
     ]
    }
   ],
   "source": [
    "train.info()"
   ]
  },
  {
   "cell_type": "code",
   "execution_count": null,
   "metadata": {},
   "outputs": [],
   "source": []
  },
  {
   "cell_type": "code",
   "execution_count": null,
   "metadata": {},
   "outputs": [],
   "source": []
  },
  {
   "cell_type": "code",
   "execution_count": 22,
   "metadata": {},
   "outputs": [],
   "source": [
    "train[\"dropoff_datetime\"] = train.apply(\n",
    "    lambda x: (dt.datetime.strptime(x[\"pickup_datetime\"], \"%Y-%m-%d %H:%M:%S\") + \n",
    "               dt.timedelta(0, x[\"trip_duration\"])).strftime(\n",
    "            \"%Y-%m-%d %H:%M:%S\"), axis=1\n",
    ")"
   ]
  },
  {
   "cell_type": "code",
   "execution_count": 23,
   "metadata": {},
   "outputs": [
    {
     "data": {
      "text/html": [
       "<div>\n",
       "<style scoped>\n",
       "    .dataframe tbody tr th:only-of-type {\n",
       "        vertical-align: middle;\n",
       "    }\n",
       "\n",
       "    .dataframe tbody tr th {\n",
       "        vertical-align: top;\n",
       "    }\n",
       "\n",
       "    .dataframe thead th {\n",
       "        text-align: right;\n",
       "    }\n",
       "</style>\n",
       "<table border=\"1\" class=\"dataframe\">\n",
       "  <thead>\n",
       "    <tr style=\"text-align: right;\">\n",
       "      <th></th>\n",
       "      <th>Id</th>\n",
       "      <th>main_id_locality</th>\n",
       "      <th>ETA</th>\n",
       "      <th>trip_duration</th>\n",
       "      <th>pickup_datetime</th>\n",
       "      <th>pickup_latitude</th>\n",
       "      <th>dropoff_latitude</th>\n",
       "      <th>pickup_longitude</th>\n",
       "      <th>dropoff_longitude</th>\n",
       "      <th>EDA</th>\n",
       "      <th>RDA</th>\n",
       "      <th>ReadyForCollection</th>\n",
       "      <th>ClientCollected</th>\n",
       "      <th>GoodArrived</th>\n",
       "      <th>ready_latitude</th>\n",
       "      <th>ready_longitude</th>\n",
       "      <th>onway_latitude</th>\n",
       "      <th>onway_longitude</th>\n",
       "      <th>arrived_latitude</th>\n",
       "      <th>arrived_longitude</th>\n",
       "      <th>center_latitude</th>\n",
       "      <th>center_longitude</th>\n",
       "      <th>route</th>\n",
       "      <th>track</th>\n",
       "      <th>id</th>\n",
       "      <th>dropoff_datetime</th>\n",
       "    </tr>\n",
       "  </thead>\n",
       "  <tbody>\n",
       "    <tr>\n",
       "      <th>0</th>\n",
       "      <td>0</td>\n",
       "      <td>1078</td>\n",
       "      <td>226.0</td>\n",
       "      <td>188.0</td>\n",
       "      <td>2020-02-12 19:12:06</td>\n",
       "      <td>55.826019</td>\n",
       "      <td>55.825581</td>\n",
       "      <td>49.134529</td>\n",
       "      <td>49.126949</td>\n",
       "      <td>1.0</td>\n",
       "      <td>1.0</td>\n",
       "      <td>2020-02-12 19:14:33</td>\n",
       "      <td>2020-02-12 19:15:06</td>\n",
       "      <td>2020-02-12 19:18:14</td>\n",
       "      <td>55.825647</td>\n",
       "      <td>49.134115</td>\n",
       "      <td>55.826261</td>\n",
       "      <td>49.134137</td>\n",
       "      <td>55.825707</td>\n",
       "      <td>49.127136</td>\n",
       "      <td>55.794388</td>\n",
       "      <td>49.111531</td>\n",
       "      <td>gnvsIaq{jHChA??uC???OPG^F^NRzKBd@AN[r@???`@`@`...</td>\n",
       "      <td>io{jHkivsID_A??A}@i@m@I]^SFKBK@AD@@????A?@??A@...</td>\n",
       "      <td>0</td>\n",
       "      <td>2020-02-12 19:15:14</td>\n",
       "    </tr>\n",
       "    <tr>\n",
       "      <th>1</th>\n",
       "      <td>1</td>\n",
       "      <td>1078</td>\n",
       "      <td>718.0</td>\n",
       "      <td>725.0</td>\n",
       "      <td>2020-02-12 19:12:22</td>\n",
       "      <td>55.795502</td>\n",
       "      <td>55.820911</td>\n",
       "      <td>49.131470</td>\n",
       "      <td>49.115360</td>\n",
       "      <td>5.0</td>\n",
       "      <td>6.0</td>\n",
       "      <td>2020-02-12 19:19:03</td>\n",
       "      <td>2020-02-12 19:19:42</td>\n",
       "      <td>2020-02-12 19:31:47</td>\n",
       "      <td>55.795591</td>\n",
       "      <td>49.132281</td>\n",
       "      <td>55.795544</td>\n",
       "      <td>49.131552</td>\n",
       "      <td>55.821531</td>\n",
       "      <td>49.115685</td>\n",
       "      <td>55.794388</td>\n",
       "      <td>49.111531</td>\n",
       "      <td>sqpsI}~zjHyAr]e@lMk@fLaBlb@i@rLKhBCdAUxEGlCg@f...</td>\n",
       "      <td>qh{jHappsIAAA?\\EVSLAC@r@I????h@ERAL?R?x@Cf@ARD...</td>\n",
       "      <td>1</td>\n",
       "      <td>2020-02-12 19:24:27</td>\n",
       "    </tr>\n",
       "    <tr>\n",
       "      <th>2</th>\n",
       "      <td>2</td>\n",
       "      <td>1078</td>\n",
       "      <td>612.0</td>\n",
       "      <td>764.0</td>\n",
       "      <td>2020-02-12 19:12:44</td>\n",
       "      <td>55.791050</td>\n",
       "      <td>55.819962</td>\n",
       "      <td>49.226070</td>\n",
       "      <td>49.176628</td>\n",
       "      <td>5.0</td>\n",
       "      <td>5.0</td>\n",
       "      <td>2020-02-12 19:15:21</td>\n",
       "      <td>2020-02-12 19:15:25</td>\n",
       "      <td>2020-02-12 19:28:09</td>\n",
       "      <td>55.791099</td>\n",
       "      <td>49.226066</td>\n",
       "      <td>55.791099</td>\n",
       "      <td>49.226066</td>\n",
       "      <td>55.819765</td>\n",
       "      <td>49.177432</td>\n",
       "      <td>55.794388</td>\n",
       "      <td>49.111531</td>\n",
       "      <td>auosI}mmkH?LHd@KhC??o@w@[g@m@iAUk@??{G|OiB`Ek@...</td>\n",
       "      <td>}mmkHkuosI????????????????????????????????K?O@...</td>\n",
       "      <td>2</td>\n",
       "      <td>2020-02-12 19:25:28</td>\n",
       "    </tr>\n",
       "    <tr>\n",
       "      <th>3</th>\n",
       "      <td>3</td>\n",
       "      <td>1078</td>\n",
       "      <td>1560.0</td>\n",
       "      <td>1412.0</td>\n",
       "      <td>2020-02-12 19:12:44</td>\n",
       "      <td>55.753899</td>\n",
       "      <td>55.824680</td>\n",
       "      <td>49.188519</td>\n",
       "      <td>49.093700</td>\n",
       "      <td>13.0</td>\n",
       "      <td>14.0</td>\n",
       "      <td>2020-02-12 19:19:00</td>\n",
       "      <td>2020-02-12 19:19:09</td>\n",
       "      <td>2020-02-12 19:42:41</td>\n",
       "      <td>55.754116</td>\n",
       "      <td>49.188853</td>\n",
       "      <td>55.754116</td>\n",
       "      <td>49.188853</td>\n",
       "      <td>55.824734</td>\n",
       "      <td>49.094013</td>\n",
       "      <td>55.794388</td>\n",
       "      <td>49.111531</td>\n",
       "      <td>{lhsIiffkHmKN_C?mIPwMJ??Si@gA{B??Wq@MRCJTp@hAd...</td>\n",
       "      <td>gefkH{{hsIQr@Gn@GlAAr@Ct@@^@J@ZFf@FVHHDD??????...</td>\n",
       "      <td>3</td>\n",
       "      <td>2020-02-12 19:36:16</td>\n",
       "    </tr>\n",
       "    <tr>\n",
       "      <th>4</th>\n",
       "      <td>4</td>\n",
       "      <td>1078</td>\n",
       "      <td>1528.0</td>\n",
       "      <td>893.0</td>\n",
       "      <td>2020-02-12 19:12:45</td>\n",
       "      <td>55.822361</td>\n",
       "      <td>55.786758</td>\n",
       "      <td>49.069092</td>\n",
       "      <td>49.143501</td>\n",
       "      <td>9.0</td>\n",
       "      <td>10.0</td>\n",
       "      <td>2020-02-12 19:16:32</td>\n",
       "      <td>2020-02-12 19:17:26</td>\n",
       "      <td>2020-02-12 19:32:19</td>\n",
       "      <td>55.822483</td>\n",
       "      <td>49.069659</td>\n",
       "      <td>55.822617</td>\n",
       "      <td>49.069229</td>\n",
       "      <td>55.786936</td>\n",
       "      <td>49.143330</td>\n",
       "      <td>55.794388</td>\n",
       "      <td>49.111531</td>\n",
       "      <td>yxusI{xnjHgAfG??}IuHkAqA??pIoe@VsA??dAkG`BuH??...</td>\n",
       "      <td>synjHkzusIHAA?E@C?????????????????????????DARE...</td>\n",
       "      <td>4</td>\n",
       "      <td>2020-02-12 19:27:38</td>\n",
       "    </tr>\n",
       "  </tbody>\n",
       "</table>\n",
       "</div>"
      ],
      "text/plain": [
       "   Id  main_id_locality     ETA  trip_duration      pickup_datetime  \\\n",
       "0   0              1078   226.0          188.0  2020-02-12 19:12:06   \n",
       "1   1              1078   718.0          725.0  2020-02-12 19:12:22   \n",
       "2   2              1078   612.0          764.0  2020-02-12 19:12:44   \n",
       "3   3              1078  1560.0         1412.0  2020-02-12 19:12:44   \n",
       "4   4              1078  1528.0          893.0  2020-02-12 19:12:45   \n",
       "\n",
       "   pickup_latitude  dropoff_latitude  pickup_longitude  dropoff_longitude  \\\n",
       "0        55.826019         55.825581         49.134529          49.126949   \n",
       "1        55.795502         55.820911         49.131470          49.115360   \n",
       "2        55.791050         55.819962         49.226070          49.176628   \n",
       "3        55.753899         55.824680         49.188519          49.093700   \n",
       "4        55.822361         55.786758         49.069092          49.143501   \n",
       "\n",
       "    EDA   RDA   ReadyForCollection      ClientCollected          GoodArrived  \\\n",
       "0   1.0   1.0  2020-02-12 19:14:33  2020-02-12 19:15:06  2020-02-12 19:18:14   \n",
       "1   5.0   6.0  2020-02-12 19:19:03  2020-02-12 19:19:42  2020-02-12 19:31:47   \n",
       "2   5.0   5.0  2020-02-12 19:15:21  2020-02-12 19:15:25  2020-02-12 19:28:09   \n",
       "3  13.0  14.0  2020-02-12 19:19:00  2020-02-12 19:19:09  2020-02-12 19:42:41   \n",
       "4   9.0  10.0  2020-02-12 19:16:32  2020-02-12 19:17:26  2020-02-12 19:32:19   \n",
       "\n",
       "   ready_latitude  ready_longitude  onway_latitude  onway_longitude  \\\n",
       "0       55.825647        49.134115       55.826261        49.134137   \n",
       "1       55.795591        49.132281       55.795544        49.131552   \n",
       "2       55.791099        49.226066       55.791099        49.226066   \n",
       "3       55.754116        49.188853       55.754116        49.188853   \n",
       "4       55.822483        49.069659       55.822617        49.069229   \n",
       "\n",
       "   arrived_latitude  arrived_longitude  center_latitude  center_longitude  \\\n",
       "0         55.825707          49.127136        55.794388         49.111531   \n",
       "1         55.821531          49.115685        55.794388         49.111531   \n",
       "2         55.819765          49.177432        55.794388         49.111531   \n",
       "3         55.824734          49.094013        55.794388         49.111531   \n",
       "4         55.786936          49.143330        55.794388         49.111531   \n",
       "\n",
       "                                               route  \\\n",
       "0  gnvsIaq{jHChA??uC???OPG^F^NRzKBd@AN[r@???`@`@`...   \n",
       "1  sqpsI}~zjHyAr]e@lMk@fLaBlb@i@rLKhBCdAUxEGlCg@f...   \n",
       "2  auosI}mmkH?LHd@KhC??o@w@[g@m@iAUk@??{G|OiB`Ek@...   \n",
       "3  {lhsIiffkHmKN_C?mIPwMJ??Si@gA{B??Wq@MRCJTp@hAd...   \n",
       "4  yxusI{xnjHgAfG??}IuHkAqA??pIoe@VsA??dAkG`BuH??...   \n",
       "\n",
       "                                               track  id     dropoff_datetime  \n",
       "0  io{jHkivsID_A??A}@i@m@I]^SFKBK@AD@@????A?@??A@...   0  2020-02-12 19:15:14  \n",
       "1  qh{jHappsIAAA?\\EVSLAC@r@I????h@ERAL?R?x@Cf@ARD...   1  2020-02-12 19:24:27  \n",
       "2  }mmkHkuosI????????????????????????????????K?O@...   2  2020-02-12 19:25:28  \n",
       "3  gefkH{{hsIQr@Gn@GlAAr@Ct@@^@J@ZFf@FVHHDD??????...   3  2020-02-12 19:36:16  \n",
       "4  synjHkzusIHAA?E@C?????????????????????????DARE...   4  2020-02-12 19:27:38  "
      ]
     },
     "execution_count": 23,
     "metadata": {},
     "output_type": "execute_result"
    }
   ],
   "source": [
    "train.head()"
   ]
  },
  {
   "cell_type": "code",
   "execution_count": 24,
   "metadata": {},
   "outputs": [
    {
     "data": {
      "text/plain": [
       "'2020-02-12 19:12:09'"
      ]
     },
     "execution_count": 24,
     "metadata": {},
     "output_type": "execute_result"
    }
   ],
   "source": [
    "(dt.datetime.strptime(\"2020-02-12 19:12:06\", \"%Y-%m-%d %H:%M:%S\")+ dt.timedelta(0, 3)).strftime(\n",
    "\"%Y-%m-%d %H:%M:%S\")"
   ]
  },
  {
   "cell_type": "code",
   "execution_count": null,
   "metadata": {},
   "outputs": [],
   "source": []
  },
  {
   "cell_type": "code",
   "execution_count": 25,
   "metadata": {},
   "outputs": [
    {
     "name": "stdout",
     "output_type": "stream",
     "text": [
      "Trip_duration and datetimes are ok.\n"
     ]
    }
   ],
   "source": [
    "train['pickup_datetime'] = pd.to_datetime(train.pickup_datetime)\n",
    "test['pickup_datetime'] = pd.to_datetime(test.pickup_datetime)\n",
    "train.loc[:, 'pickup_date'] = train['pickup_datetime'].dt.date\n",
    "test.loc[:, 'pickup_date'] = test['pickup_datetime'].dt.date\n",
    "train['dropoff_datetime'] = pd.to_datetime(train.dropoff_datetime)\n",
    "train['check_trip_duration'] = (train['dropoff_datetime'] - train['pickup_datetime']).map(lambda x: x.total_seconds())\n",
    "duration_difference = train[np.abs(train['check_trip_duration'].values  - train['trip_duration'].values) > 1]\n",
    "print('Trip_duration and datetimes are ok.') if len(duration_difference[['pickup_datetime', 'dropoff_datetime', 'trip_duration', 'check_trip_duration']]) == 0 else print('Ooops.')"
   ]
  },
  {
   "cell_type": "code",
   "execution_count": 26,
   "metadata": {},
   "outputs": [
    {
     "data": {
      "image/png": "[encoded data removed]",
      "text/plain": [
       "<Figure size 432x288 with 1 Axes>"
      ]
     },
     "metadata": {
      "needs_background": "light"
     },
     "output_type": "display_data"
    }
   ],
   "source": [
    "train['log_trip_duration'] = np.log(train['trip_duration'].values + 1)\n",
    "plt.hist(train['log_trip_duration'].values, bins=100)\n",
    "plt.xlabel('log(trip_duration)')\n",
    "plt.ylabel('number of train records')\n",
    "plt.show()"
   ]
  },
  {
   "cell_type": "code",
   "execution_count": 27,
   "metadata": {},
   "outputs": [
    {
     "data": {
      "image/png": "[encoded data removed]",
      "text/plain": [
       "<Figure size 432x288 with 1 Axes>"
      ]
     },
     "metadata": {
      "needs_background": "light"
     },
     "output_type": "display_data"
    }
   ],
   "source": [
    "plt.plot(train.groupby('pickup_date').count()[['id']], 'o-', label='train')\n",
    "plt.plot(test.groupby('pickup_date').count()[['id']], 'o-', label='test')\n",
    "plt.title('Train and test period complete overlap.')\n",
    "plt.legend(loc=0)\n",
    "plt.ylabel('number of records')\n",
    "plt.show()"
   ]
  },
  {
   "cell_type": "code",
   "execution_count": null,
   "metadata": {},
   "outputs": [],
   "source": []
  },
  {
   "cell_type": "code",
   "execution_count": 28,
   "metadata": {},
   "outputs": [],
   "source": [
    "coords = np.vstack((train[['pickup_latitude', 'pickup_longitude']].values,\n",
    "                    train[['dropoff_latitude', 'dropoff_longitude']].values,\n",
    "                    test[['pickup_latitude', 'pickup_longitude']].values,\n",
    "                    test[['dropoff_latitude', 'dropoff_longitude']].values))\n",
    "\n",
    "pca = PCA().fit(coords)\n",
    "train['pickup_pca0'] = pca.transform(train[['pickup_latitude', 'pickup_longitude']])[:, 0]\n",
    "train['pickup_pca1'] = pca.transform(train[['pickup_latitude', 'pickup_longitude']])[:, 1]\n",
    "train['dropoff_pca0'] = pca.transform(train[['dropoff_latitude', 'dropoff_longitude']])[:, 0]\n",
    "train['dropoff_pca1'] = pca.transform(train[['dropoff_latitude', 'dropoff_longitude']])[:, 1]\n",
    "test['pickup_pca0'] = pca.transform(test[['pickup_latitude', 'pickup_longitude']])[:, 0]\n",
    "test['pickup_pca1'] = pca.transform(test[['pickup_latitude', 'pickup_longitude']])[:, 1]\n",
    "test['dropoff_pca0'] = pca.transform(test[['dropoff_latitude', 'dropoff_longitude']])[:, 0]\n",
    "test['dropoff_pca1'] = pca.transform(test[['dropoff_latitude', 'dropoff_longitude']])[:, 1]"
   ]
  },
  {
   "cell_type": "code",
   "execution_count": 29,
   "metadata": {},
   "outputs": [
    {
     "data": {
      "text/plain": [
       "(89938, 17)"
      ]
     },
     "execution_count": 29,
     "metadata": {},
     "output_type": "execute_result"
    }
   ],
   "source": [
    "test.shape"
   ]
  },
  {
   "cell_type": "code",
   "execution_count": 30,
   "metadata": {},
   "outputs": [],
   "source": [
    "def haversine_array(lat1, lng1, lat2, lng2):\n",
    "    lat1, lng1, lat2, lng2 = map(np.radians, (lat1, lng1, lat2, lng2))\n",
    "    AVG_EARTH_RADIUS = 6371  # in km\n",
    "    lat = lat2 - lat1\n",
    "    lng = lng2 - lng1\n",
    "    d = np.sin(lat * 0.5) ** 2 + np.cos(lat1) * np.cos(lat2) * np.sin(lng * 0.5) ** 2\n",
    "    h = 2 * AVG_EARTH_RADIUS * np.arcsin(np.sqrt(d))\n",
    "    return h\n",
    "\n",
    "def dummy_manhattan_distance(lat1, lng1, lat2, lng2):\n",
    "    a = haversine_array(lat1, lng1, lat1, lng2)\n",
    "    b = haversine_array(lat1, lng1, lat2, lng1)\n",
    "    return a + b\n",
    "\n",
    "def bearing_array(lat1, lng1, lat2, lng2):\n",
    "    AVG_EARTH_RADIUS = 6371  # in km\n",
    "    lng_delta_rad = np.radians(lng2 - lng1)\n",
    "    lat1, lng1, lat2, lng2 = map(np.radians, (lat1, lng1, lat2, lng2))\n",
    "    y = np.sin(lng_delta_rad) * np.cos(lat2)\n",
    "    x = np.cos(lat1) * np.sin(lat2) - np.sin(lat1) * np.cos(lat2) * np.cos(lng_delta_rad)\n",
    "    return np.degrees(np.arctan2(y, x))\n",
    "\n",
    "train.loc[:, 'distance_haversine'] = haversine_array(train['pickup_latitude'].values, train['pickup_longitude'].values, train['dropoff_latitude'].values, train['dropoff_longitude'].values)\n",
    "train.loc[:, 'distance_dummy_manhattan'] = dummy_manhattan_distance(train['pickup_latitude'].values, train['pickup_longitude'].values, train['dropoff_latitude'].values, train['dropoff_longitude'].values)\n",
    "train.loc[:, 'direction'] = bearing_array(train['pickup_latitude'].values, train['pickup_longitude'].values, train['dropoff_latitude'].values, train['dropoff_longitude'].values)\n",
    "train.loc[:, 'pca_manhattan'] = np.abs(train['dropoff_pca1'] - train['pickup_pca1']) + np.abs(train['dropoff_pca0'] - train['pickup_pca0'])\n",
    "\n",
    "test.loc[:, 'distance_haversine'] = haversine_array(test['pickup_latitude'].values, test['pickup_longitude'].values, test['dropoff_latitude'].values, test['dropoff_longitude'].values)\n",
    "test.loc[:, 'distance_dummy_manhattan'] = dummy_manhattan_distance(test['pickup_latitude'].values, test['pickup_longitude'].values, test['dropoff_latitude'].values, test['dropoff_longitude'].values)\n",
    "test.loc[:, 'direction'] = bearing_array(test['pickup_latitude'].values, test['pickup_longitude'].values, test['dropoff_latitude'].values, test['dropoff_longitude'].values)\n",
    "test.loc[:, 'pca_manhattan'] = np.abs(test['dropoff_pca1'] - test['pickup_pca1']) + np.abs(test['dropoff_pca0'] - test['pickup_pca0'])\n",
    "\n",
    "train.loc[:, 'center_latitude'] = (train['pickup_latitude'].values + train['dropoff_latitude'].values) / 2\n",
    "train.loc[:, 'center_longitude'] = (train['pickup_longitude'].values + train['dropoff_longitude'].values) / 2\n",
    "test.loc[:, 'center_latitude'] = (test['pickup_latitude'].values + test['dropoff_latitude'].values) / 2\n",
    "test.loc[:, 'center_longitude'] = (test['pickup_longitude'].values + test['dropoff_longitude'].values) / 2"
   ]
  },
  {
   "cell_type": "code",
   "execution_count": 31,
   "metadata": {},
   "outputs": [],
   "source": [
    "train.loc[:, 'pickup_weekday'] = train['pickup_datetime'].dt.weekday\n",
    "train.loc[:, 'pickup_hour_weekofyear'] = train['pickup_datetime'].dt.weekofyear\n",
    "train.loc[:, 'pickup_hour'] = train['pickup_datetime'].dt.hour\n",
    "train.loc[:, 'pickup_minute'] = train['pickup_datetime'].dt.minute\n",
    "train.loc[:, 'pickup_dt'] = (train['pickup_datetime'] - train['pickup_datetime'].min()).dt.total_seconds()\n",
    "train.loc[:, 'pickup_week_hour'] = train['pickup_weekday'] * 24 + train['pickup_hour']\n",
    "\n",
    "test.loc[:, 'pickup_weekday'] = test['pickup_datetime'].dt.weekday\n",
    "test.loc[:, 'pickup_hour_weekofyear'] = test['pickup_datetime'].dt.weekofyear\n",
    "test.loc[:, 'pickup_hour'] = test['pickup_datetime'].dt.hour\n",
    "test.loc[:, 'pickup_minute'] = test['pickup_datetime'].dt.minute\n",
    "test.loc[:, 'pickup_dt'] = (test['pickup_datetime'] - train['pickup_datetime'].min()).dt.total_seconds()\n",
    "test.loc[:, 'pickup_week_hour'] = test['pickup_weekday'] * 24 + test['pickup_hour']"
   ]
  },
  {
   "cell_type": "code",
   "execution_count": 32,
   "metadata": {},
   "outputs": [
    {
     "data": {
      "image/png": "[encoded data removed]",
      "text/plain": [
       "<Figure size 432x288 with 3 Axes>"
      ]
     },
     "metadata": {
      "needs_background": "light"
     },
     "output_type": "display_data"
    }
   ],
   "source": [
    "train.loc[:, 'avg_speed_h'] = 1000 * train['distance_haversine'] / train['trip_duration']\n",
    "train.loc[:, 'avg_speed_m'] = 1000 * train['distance_dummy_manhattan'] / train['trip_duration']\n",
    "fig, ax = plt.subplots(ncols=3, sharey=True)\n",
    "ax[0].plot(train.groupby('pickup_hour').mean()['avg_speed_h'], 'bo-', lw=2, alpha=0.7)\n",
    "ax[1].plot(train.groupby('pickup_weekday').mean()['avg_speed_h'], 'go-', lw=2, alpha=0.7)\n",
    "ax[2].plot(train.groupby('pickup_week_hour').mean()['avg_speed_h'], 'ro-', lw=2, alpha=0.7)\n",
    "ax[0].set_xlabel('hour')\n",
    "ax[1].set_xlabel('weekday')\n",
    "ax[2].set_xlabel('weekhour')\n",
    "ax[0].set_ylabel('average speed')\n",
    "fig.suptitle('Rush hour average traffic speed')\n",
    "plt.show()"
   ]
  },
  {
   "cell_type": "code",
   "execution_count": 33,
   "metadata": {},
   "outputs": [
    {
     "data": {
      "text/plain": [
       "(89938, 27)"
      ]
     },
     "execution_count": 33,
     "metadata": {},
     "output_type": "execute_result"
    }
   ],
   "source": [
    "test.shape"
   ]
  },
  {
   "cell_type": "code",
   "execution_count": 34,
   "metadata": {},
   "outputs": [
    {
     "data": {
      "image/png": "[encoded data removed]",
      "text/plain": [
       "<Figure size 432x288 with 1 Axes>"
      ]
     },
     "metadata": {
      "needs_background": "light"
     },
     "output_type": "display_data"
    }
   ],
   "source": [
    "train.loc[:, 'pickup_lat_bin'] = np.round(train['pickup_latitude'], 3)\n",
    "train.loc[:, 'pickup_long_bin'] = np.round(train['pickup_longitude'], 3)\n",
    "# Average speed for regions\n",
    "gby_cols = ['pickup_lat_bin', 'pickup_long_bin']\n",
    "coord_speed = train.groupby(gby_cols).mean()[['avg_speed_h']].reset_index()\n",
    "coord_count = train.groupby(gby_cols).count()[['id']].reset_index()\n",
    "coord_stats = pd.merge(coord_speed, coord_count, on=gby_cols)\n",
    "coord_stats = coord_stats[coord_stats['id'] > 100]\n",
    "fig, ax = plt.subplots(ncols=1, nrows=1)\n",
    "ax.scatter(train.pickup_longitude.values[:N], train.pickup_latitude.values[:N],\n",
    "           color='black', s=1, alpha=0.5)\n",
    "ax.scatter(coord_stats.pickup_long_bin.values, coord_stats.pickup_lat_bin.values,\n",
    "           c=coord_stats.avg_speed_h.values,\n",
    "           cmap='RdYlGn', s=20, alpha=0.5, vmin=1, vmax=8)\n",
    "\n",
    "ax.set_xlabel('Longitude')\n",
    "ax.set_ylabel('Latitude')\n",
    "plt.title('Average speed')\n",
    "plt.show()\n",
    "\n",
    "train.loc[:, 'pickup_lat_bin'] = np.round(train['pickup_latitude'], 2)\n",
    "train.loc[:, 'pickup_long_bin'] = np.round(train['pickup_longitude'], 2)\n",
    "train.loc[:, 'center_lat_bin'] = np.round(train['center_latitude'], 2)\n",
    "train.loc[:, 'center_long_bin'] = np.round(train['center_longitude'], 2)\n",
    "train.loc[:, 'pickup_dt_bin'] = (train['pickup_dt'] // (3 * 3600))\n",
    "test.loc[:, 'pickup_lat_bin'] = np.round(test['pickup_latitude'], 2)\n",
    "test.loc[:, 'pickup_long_bin'] = np.round(test['pickup_longitude'], 2)\n",
    "test.loc[:, 'center_lat_bin'] = np.round(test['center_latitude'], 2)\n",
    "test.loc[:, 'center_long_bin'] = np.round(test['center_longitude'], 2)\n",
    "test.loc[:, 'pickup_dt_bin'] = (test['pickup_dt'] // (3 * 3600))"
   ]
  },
  {
   "cell_type": "code",
   "execution_count": 35,
   "metadata": {},
   "outputs": [],
   "source": [
    "sample_ind = np.random.permutation(len(coords))[:500000]\n",
    "kmeans = MiniBatchKMeans(n_clusters=100, batch_size=10000).fit(coords[sample_ind])"
   ]
  },
  {
   "cell_type": "code",
   "execution_count": 36,
   "metadata": {},
   "outputs": [
    {
     "name": "stdout",
     "output_type": "stream",
     "text": [
      "Time till clustering: 127 seconds\n"
     ]
    }
   ],
   "source": [
    "train.loc[:, 'pickup_cluster'] = kmeans.predict(train[['pickup_latitude', 'pickup_longitude']])\n",
    "train.loc[:, 'dropoff_cluster'] = kmeans.predict(train[['dropoff_latitude', 'dropoff_longitude']])\n",
    "test.loc[:, 'pickup_cluster'] = kmeans.predict(test[['pickup_latitude', 'pickup_longitude']])\n",
    "test.loc[:, 'dropoff_cluster'] = kmeans.predict(test[['dropoff_latitude', 'dropoff_longitude']])\n",
    "t1 = dt.datetime.now()\n",
    "print('Time till clustering: %i seconds' % (t1 - t0).seconds)"
   ]
  },
  {
   "cell_type": "code",
   "execution_count": 37,
   "metadata": {},
   "outputs": [
    {
     "data": {
      "image/png": "[encoded data removed]",
      "text/plain": [
       "<Figure size 432x288 with 1 Axes>"
      ]
     },
     "metadata": {
      "needs_background": "light"
     },
     "output_type": "display_data"
    }
   ],
   "source": [
    "fig, ax = plt.subplots(ncols=1, nrows=1)\n",
    "ax.scatter(train.pickup_longitude.values[:N], train.pickup_latitude.values[:N], s=10, lw=0,\n",
    "           c=train.pickup_cluster[:N].values, cmap='tab20', alpha=0.2)\n",
    "\n",
    "ax.set_xlabel('Longitude')\n",
    "ax.set_ylabel('Latitude')\n",
    "plt.show()"
   ]
  },
  {
   "cell_type": "code",
   "execution_count": 38,
   "metadata": {},
   "outputs": [
    {
     "data": {
      "text/plain": [
       "(89938, 34)"
      ]
     },
     "execution_count": 38,
     "metadata": {},
     "output_type": "execute_result"
    }
   ],
   "source": [
    "test.shape"
   ]
  },
  {
   "cell_type": "code",
   "execution_count": null,
   "metadata": {},
   "outputs": [],
   "source": []
  },
  {
   "cell_type": "code",
   "execution_count": 39,
   "metadata": {},
   "outputs": [],
   "source": [
    "for gby_col in ['pickup_hour', 'pickup_date', 'pickup_dt_bin',\n",
    "               'pickup_week_hour', 'pickup_cluster', 'dropoff_cluster']:\n",
    "    gby = train.groupby(gby_col).mean()[['avg_speed_h', 'avg_speed_m', 'log_trip_duration']]\n",
    "    gby.columns = ['%s_gby_%s' % (col, gby_col) for col in gby.columns]\n",
    "    train = pd.merge(train, gby, how='left', left_on=gby_col, right_index=True)\n",
    "    test = pd.merge(test, gby, how='left', left_on=gby_col, right_index=True)\n",
    "\n",
    "for gby_cols in [['center_lat_bin', 'center_long_bin'],\n",
    "                 ['pickup_hour', 'center_lat_bin', 'center_long_bin'],\n",
    "                 ['pickup_hour', 'pickup_cluster'],  ['pickup_hour', 'dropoff_cluster'],\n",
    "                 ['pickup_cluster', 'dropoff_cluster']]:\n",
    "    coord_speed = train.groupby(gby_cols).mean()[['avg_speed_h']].reset_index()\n",
    "    coord_count = train.groupby(gby_cols).count()[['id']].reset_index()\n",
    "    coord_stats = pd.merge(coord_speed, coord_count, on=gby_cols)\n",
    "    coord_stats.columns = gby_cols + ['avg_speed_h_%s' % '_'.join(gby_cols), 'cnt_%s' %  '_'.join(gby_cols)]\n",
    "    train_new = pd.merge(train, coord_stats, how='left', on=gby_cols)\n",
    "    test_new = pd.merge(test, coord_stats, how='left', on=gby_cols)"
   ]
  },
  {
   "cell_type": "code",
   "execution_count": 40,
   "metadata": {},
   "outputs": [
    {
     "data": {
      "text/plain": [
       "((938482, 70), (938482, 72), (89938, 52), (89938, 54))"
      ]
     },
     "execution_count": 40,
     "metadata": {},
     "output_type": "execute_result"
    }
   ],
   "source": [
    "train.shape, train_new.shape, test.shape, test_new.shape"
   ]
  },
  {
   "cell_type": "code",
   "execution_count": null,
   "metadata": {},
   "outputs": [],
   "source": []
  },
  {
   "cell_type": "code",
   "execution_count": null,
   "metadata": {},
   "outputs": [],
   "source": []
  },
  {
   "cell_type": "code",
   "execution_count": 41,
   "metadata": {},
   "outputs": [],
   "source": [
    "df_all = pd.concat((train, test))[['id', 'pickup_datetime', 'pickup_cluster', 'dropoff_cluster']]\n",
    "train.loc[:, 'pickup_datetime_group'] = train['pickup_datetime'].dt.floor('60min')\n",
    "test.loc[:, 'pickup_datetime_group'] = test['pickup_datetime'].dt.floor('60min')"
   ]
  },
  {
   "cell_type": "code",
   "execution_count": 42,
   "metadata": {},
   "outputs": [
    {
     "data": {
      "text/plain": [
       "(89938, 53)"
      ]
     },
     "execution_count": 42,
     "metadata": {},
     "output_type": "execute_result"
    }
   ],
   "source": [
    "test.shape"
   ]
  },
  {
   "cell_type": "code",
   "execution_count": null,
   "metadata": {},
   "outputs": [],
   "source": []
  },
  {
   "cell_type": "code",
   "execution_count": 54,
   "metadata": {},
   "outputs": [
    {
     "name": "stdout",
     "output_type": "stream",
     "text": [
      "['ClientCollected' 'GoodArrived' 'RDA' 'ReadyForCollection'\n",
      " 'arrived_latitude' 'arrived_longitude' 'avg_speed_h' 'avg_speed_m'\n",
      " 'check_trip_duration' 'dropoff_datetime' 'log_trip_duration'\n",
      " 'onway_latitude' 'onway_longitude' 'ready_latitude' 'ready_longitude'\n",
      " 'route' 'track' 'trip_duration']\n",
      "We have 44 features.\n",
      "Feature extraction time: 637 seconds\n"
     ]
    }
   ],
   "source": [
    "feature_names = list(train.columns)\n",
    "print(np.setdiff1d(train.columns, test.columns))\n",
    "do_not_use_for_training = ['id', 'log_trip_duration', 'pickup_datetime', 'dropoff_datetime',\n",
    "                           'trip_duration', 'check_trip_duration',\n",
    "                           'pickup_date', 'avg_speed_h', 'avg_speed_m',\n",
    "                           'pickup_lat_bin', 'pickup_long_bin',\n",
    "                           'center_lat_bin', 'center_long_bin',\n",
    "                           'pickup_dt_bin', 'pickup_datetime_group'] + [\"ReadyForCollection\", \"ClientCollected\", \"GoodArrived\", \"ready_latitude\", \"ready_longitude\", \n",
    "\"onway_latitude\", \"onway_longitude\", \"arrived_latitude\", \"arrived_longitude\", \"track\", \"route\", \"RDA\", \"RTA\"]\n",
    "feature_names = [f for f in train.columns if f not in do_not_use_for_training]\n",
    "# print(feature_names)\n",
    "print('We have %i features.' % len(feature_names))\n",
    "train[feature_names].count()\n",
    "y = train['trip_duration'].values\n",
    "\n",
    "t1 = dt.datetime.now()\n",
    "print('Feature extraction time: %i seconds' % (t1 - t0).seconds)"
   ]
  },
  {
   "cell_type": "code",
   "execution_count": 55,
   "metadata": {},
   "outputs": [
    {
     "data": {
      "text/plain": [
       "['Id',\n",
       " 'main_id_locality',\n",
       " 'ETA',\n",
       " 'pickup_latitude',\n",
       " 'dropoff_latitude',\n",
       " 'pickup_longitude',\n",
       " 'dropoff_longitude',\n",
       " 'EDA',\n",
       " 'center_latitude',\n",
       " 'center_longitude',\n",
       " 'pickup_pca0',\n",
       " 'pickup_pca1',\n",
       " 'dropoff_pca0',\n",
       " 'dropoff_pca1',\n",
       " 'distance_haversine',\n",
       " 'distance_dummy_manhattan',\n",
       " 'direction',\n",
       " 'pca_manhattan',\n",
       " 'pickup_weekday',\n",
       " 'pickup_hour_weekofyear',\n",
       " 'pickup_hour',\n",
       " 'pickup_minute',\n",
       " 'pickup_dt',\n",
       " 'pickup_week_hour',\n",
       " 'pickup_cluster',\n",
       " 'dropoff_cluster',\n",
       " 'avg_speed_h_gby_pickup_hour',\n",
       " 'avg_speed_m_gby_pickup_hour',\n",
       " 'log_trip_duration_gby_pickup_hour',\n",
       " 'avg_speed_h_gby_pickup_date',\n",
       " 'avg_speed_m_gby_pickup_date',\n",
       " 'log_trip_duration_gby_pickup_date',\n",
       " 'avg_speed_h_gby_pickup_dt_bin',\n",
       " 'avg_speed_m_gby_pickup_dt_bin',\n",
       " 'log_trip_duration_gby_pickup_dt_bin',\n",
       " 'avg_speed_h_gby_pickup_week_hour',\n",
       " 'avg_speed_m_gby_pickup_week_hour',\n",
       " 'log_trip_duration_gby_pickup_week_hour',\n",
       " 'avg_speed_h_gby_pickup_cluster',\n",
       " 'avg_speed_m_gby_pickup_cluster',\n",
       " 'log_trip_duration_gby_pickup_cluster',\n",
       " 'avg_speed_h_gby_dropoff_cluster',\n",
       " 'avg_speed_m_gby_dropoff_cluster',\n",
       " 'log_trip_duration_gby_dropoff_cluster']"
      ]
     },
     "execution_count": 55,
     "metadata": {},
     "output_type": "execute_result"
    }
   ],
   "source": [
    "feature_names"
   ]
  },
  {
   "cell_type": "code",
   "execution_count": 45,
   "metadata": {},
   "outputs": [],
   "source": [
    "train = train.rename(mapping_reverse)"
   ]
  },
  {
   "cell_type": "code",
   "execution_count": 56,
   "metadata": {},
   "outputs": [],
   "source": [
    "test_ext2 = test[feature_names].rename(mapping_reverse)"
   ]
  },
  {
   "cell_type": "code",
   "execution_count": 57,
   "metadata": {},
   "outputs": [],
   "source": [
    "train_ext2 = train[:train_size][feature_names]"
   ]
  },
  {
   "cell_type": "code",
   "execution_count": 58,
   "metadata": {},
   "outputs": [],
   "source": [
    "valid_ext2 = train[train_size:][feature_names]"
   ]
  },
  {
   "cell_type": "code",
   "execution_count": 59,
   "metadata": {},
   "outputs": [
    {
     "data": {
      "text/html": [
       "<div>\n",
       "<style scoped>\n",
       "    .dataframe tbody tr th:only-of-type {\n",
       "        vertical-align: middle;\n",
       "    }\n",
       "\n",
       "    .dataframe tbody tr th {\n",
       "        vertical-align: top;\n",
       "    }\n",
       "\n",
       "    .dataframe thead th {\n",
       "        text-align: right;\n",
       "    }\n",
       "</style>\n",
       "<table border=\"1\" class=\"dataframe\">\n",
       "  <thead>\n",
       "    <tr style=\"text-align: right;\">\n",
       "      <th></th>\n",
       "      <th>Id</th>\n",
       "      <th>main_id_locality</th>\n",
       "      <th>ETA</th>\n",
       "      <th>pickup_latitude</th>\n",
       "      <th>dropoff_latitude</th>\n",
       "      <th>pickup_longitude</th>\n",
       "      <th>dropoff_longitude</th>\n",
       "      <th>EDA</th>\n",
       "      <th>center_latitude</th>\n",
       "      <th>center_longitude</th>\n",
       "      <th>pickup_pca0</th>\n",
       "      <th>pickup_pca1</th>\n",
       "      <th>dropoff_pca0</th>\n",
       "      <th>dropoff_pca1</th>\n",
       "      <th>distance_haversine</th>\n",
       "      <th>distance_dummy_manhattan</th>\n",
       "      <th>direction</th>\n",
       "      <th>pca_manhattan</th>\n",
       "      <th>pickup_weekday</th>\n",
       "      <th>pickup_hour_weekofyear</th>\n",
       "      <th>pickup_hour</th>\n",
       "      <th>pickup_minute</th>\n",
       "      <th>pickup_dt</th>\n",
       "      <th>pickup_week_hour</th>\n",
       "      <th>pickup_cluster</th>\n",
       "      <th>dropoff_cluster</th>\n",
       "      <th>avg_speed_h_gby_pickup_hour</th>\n",
       "      <th>avg_speed_m_gby_pickup_hour</th>\n",
       "      <th>log_trip_duration_gby_pickup_hour</th>\n",
       "      <th>avg_speed_h_gby_pickup_date</th>\n",
       "      <th>avg_speed_m_gby_pickup_date</th>\n",
       "      <th>log_trip_duration_gby_pickup_date</th>\n",
       "      <th>avg_speed_h_gby_pickup_dt_bin</th>\n",
       "      <th>avg_speed_m_gby_pickup_dt_bin</th>\n",
       "      <th>log_trip_duration_gby_pickup_dt_bin</th>\n",
       "      <th>avg_speed_h_gby_pickup_week_hour</th>\n",
       "      <th>avg_speed_m_gby_pickup_week_hour</th>\n",
       "      <th>log_trip_duration_gby_pickup_week_hour</th>\n",
       "      <th>avg_speed_h_gby_pickup_cluster</th>\n",
       "      <th>avg_speed_m_gby_pickup_cluster</th>\n",
       "      <th>log_trip_duration_gby_pickup_cluster</th>\n",
       "      <th>avg_speed_h_gby_dropoff_cluster</th>\n",
       "      <th>avg_speed_m_gby_dropoff_cluster</th>\n",
       "      <th>log_trip_duration_gby_dropoff_cluster</th>\n",
       "    </tr>\n",
       "  </thead>\n",
       "  <tbody>\n",
       "    <tr>\n",
       "      <th>0</th>\n",
       "      <td>0</td>\n",
       "      <td>1078</td>\n",
       "      <td>226.0</td>\n",
       "      <td>55.826019</td>\n",
       "      <td>55.825581</td>\n",
       "      <td>49.134529</td>\n",
       "      <td>49.126949</td>\n",
       "      <td>1.0</td>\n",
       "      <td>55.825800</td>\n",
       "      <td>49.130739</td>\n",
       "      <td>-0.893777</td>\n",
       "      <td>-1.378632</td>\n",
       "      <td>-0.900514</td>\n",
       "      <td>-1.382132</td>\n",
       "      <td>0.475936</td>\n",
       "      <td>0.522207</td>\n",
       "      <td>-95.879608</td>\n",
       "      <td>0.010238</td>\n",
       "      <td>2</td>\n",
       "      <td>7</td>\n",
       "      <td>19</td>\n",
       "      <td>12</td>\n",
       "      <td>2056285.0</td>\n",
       "      <td>67</td>\n",
       "      <td>64</td>\n",
       "      <td>63</td>\n",
       "      <td>5.459265</td>\n",
       "      <td>6.999325</td>\n",
       "      <td>6.423005</td>\n",
       "      <td>5.215243</td>\n",
       "      <td>6.688212</td>\n",
       "      <td>6.513568</td>\n",
       "      <td>5.457045</td>\n",
       "      <td>6.982554</td>\n",
       "      <td>6.452200</td>\n",
       "      <td>5.401272</td>\n",
       "      <td>6.929604</td>\n",
       "      <td>6.441993</td>\n",
       "      <td>6.014004</td>\n",
       "      <td>7.581035</td>\n",
       "      <td>6.457459</td>\n",
       "      <td>5.661696</td>\n",
       "      <td>7.180574</td>\n",
       "      <td>6.447411</td>\n",
       "    </tr>\n",
       "    <tr>\n",
       "      <th>1</th>\n",
       "      <td>1</td>\n",
       "      <td>1078</td>\n",
       "      <td>718.0</td>\n",
       "      <td>55.795502</td>\n",
       "      <td>55.820911</td>\n",
       "      <td>49.131470</td>\n",
       "      <td>49.115360</td>\n",
       "      <td>5.0</td>\n",
       "      <td>55.808207</td>\n",
       "      <td>49.123415</td>\n",
       "      <td>-0.912015</td>\n",
       "      <td>-1.353974</td>\n",
       "      <td>-0.912861</td>\n",
       "      <td>-1.384048</td>\n",
       "      <td>2.999397</td>\n",
       "      <td>3.832401</td>\n",
       "      <td>-19.603279</td>\n",
       "      <td>0.030920</td>\n",
       "      <td>2</td>\n",
       "      <td>7</td>\n",
       "      <td>19</td>\n",
       "      <td>12</td>\n",
       "      <td>2056301.0</td>\n",
       "      <td>67</td>\n",
       "      <td>90</td>\n",
       "      <td>63</td>\n",
       "      <td>5.459265</td>\n",
       "      <td>6.999325</td>\n",
       "      <td>6.423005</td>\n",
       "      <td>5.215243</td>\n",
       "      <td>6.688212</td>\n",
       "      <td>6.513568</td>\n",
       "      <td>5.457045</td>\n",
       "      <td>6.982554</td>\n",
       "      <td>6.452200</td>\n",
       "      <td>5.401272</td>\n",
       "      <td>6.929604</td>\n",
       "      <td>6.441993</td>\n",
       "      <td>6.119228</td>\n",
       "      <td>7.870835</td>\n",
       "      <td>6.420048</td>\n",
       "      <td>5.661696</td>\n",
       "      <td>7.180574</td>\n",
       "      <td>6.447411</td>\n",
       "    </tr>\n",
       "    <tr>\n",
       "      <th>2</th>\n",
       "      <td>2</td>\n",
       "      <td>1078</td>\n",
       "      <td>612.0</td>\n",
       "      <td>55.791050</td>\n",
       "      <td>55.819962</td>\n",
       "      <td>49.226070</td>\n",
       "      <td>49.176628</td>\n",
       "      <td>5.0</td>\n",
       "      <td>55.805506</td>\n",
       "      <td>49.201349</td>\n",
       "      <td>-0.833002</td>\n",
       "      <td>-1.301762</td>\n",
       "      <td>-0.860700</td>\n",
       "      <td>-1.351894</td>\n",
       "      <td>4.458880</td>\n",
       "      <td>6.305716</td>\n",
       "      <td>-43.843021</td>\n",
       "      <td>0.077830</td>\n",
       "      <td>2</td>\n",
       "      <td>7</td>\n",
       "      <td>19</td>\n",
       "      <td>12</td>\n",
       "      <td>2056323.0</td>\n",
       "      <td>67</td>\n",
       "      <td>54</td>\n",
       "      <td>14</td>\n",
       "      <td>5.459265</td>\n",
       "      <td>6.999325</td>\n",
       "      <td>6.423005</td>\n",
       "      <td>5.215243</td>\n",
       "      <td>6.688212</td>\n",
       "      <td>6.513568</td>\n",
       "      <td>5.457045</td>\n",
       "      <td>6.982554</td>\n",
       "      <td>6.452200</td>\n",
       "      <td>5.401272</td>\n",
       "      <td>6.929604</td>\n",
       "      <td>6.441993</td>\n",
       "      <td>5.850607</td>\n",
       "      <td>7.499397</td>\n",
       "      <td>6.571342</td>\n",
       "      <td>6.065958</td>\n",
       "      <td>7.751825</td>\n",
       "      <td>6.616904</td>\n",
       "    </tr>\n",
       "    <tr>\n",
       "      <th>3</th>\n",
       "      <td>3</td>\n",
       "      <td>1078</td>\n",
       "      <td>1560.0</td>\n",
       "      <td>55.753899</td>\n",
       "      <td>55.824680</td>\n",
       "      <td>49.188519</td>\n",
       "      <td>49.093700</td>\n",
       "      <td>13.0</td>\n",
       "      <td>55.789289</td>\n",
       "      <td>49.141109</td>\n",
       "      <td>-0.884273</td>\n",
       "      <td>-1.289045</td>\n",
       "      <td>-0.929545</td>\n",
       "      <td>-1.398365</td>\n",
       "      <td>9.853176</td>\n",
       "      <td>13.803791</td>\n",
       "      <td>-36.946603</td>\n",
       "      <td>0.154593</td>\n",
       "      <td>2</td>\n",
       "      <td>7</td>\n",
       "      <td>19</td>\n",
       "      <td>12</td>\n",
       "      <td>2056323.0</td>\n",
       "      <td>67</td>\n",
       "      <td>67</td>\n",
       "      <td>4</td>\n",
       "      <td>5.459265</td>\n",
       "      <td>6.999325</td>\n",
       "      <td>6.423005</td>\n",
       "      <td>5.215243</td>\n",
       "      <td>6.688212</td>\n",
       "      <td>6.513568</td>\n",
       "      <td>5.457045</td>\n",
       "      <td>6.982554</td>\n",
       "      <td>6.452200</td>\n",
       "      <td>5.401272</td>\n",
       "      <td>6.929604</td>\n",
       "      <td>6.441993</td>\n",
       "      <td>5.423937</td>\n",
       "      <td>7.028498</td>\n",
       "      <td>6.538926</td>\n",
       "      <td>5.730565</td>\n",
       "      <td>7.348535</td>\n",
       "      <td>6.427492</td>\n",
       "    </tr>\n",
       "    <tr>\n",
       "      <th>4</th>\n",
       "      <td>4</td>\n",
       "      <td>1078</td>\n",
       "      <td>1528.0</td>\n",
       "      <td>55.822361</td>\n",
       "      <td>55.786758</td>\n",
       "      <td>49.069092</td>\n",
       "      <td>49.143501</td>\n",
       "      <td>9.0</td>\n",
       "      <td>55.804560</td>\n",
       "      <td>49.106297</td>\n",
       "      <td>-0.951878</td>\n",
       "      <td>-1.408959</td>\n",
       "      <td>-0.906148</td>\n",
       "      <td>-1.340307</td>\n",
       "      <td>6.107029</td>\n",
       "      <td>8.606808</td>\n",
       "      <td>130.378310</td>\n",
       "      <td>0.114382</td>\n",
       "      <td>2</td>\n",
       "      <td>7</td>\n",
       "      <td>19</td>\n",
       "      <td>12</td>\n",
       "      <td>2056324.0</td>\n",
       "      <td>67</td>\n",
       "      <td>93</td>\n",
       "      <td>7</td>\n",
       "      <td>5.459265</td>\n",
       "      <td>6.999325</td>\n",
       "      <td>6.423005</td>\n",
       "      <td>5.215243</td>\n",
       "      <td>6.688212</td>\n",
       "      <td>6.513568</td>\n",
       "      <td>5.457045</td>\n",
       "      <td>6.982554</td>\n",
       "      <td>6.452200</td>\n",
       "      <td>5.401272</td>\n",
       "      <td>6.929604</td>\n",
       "      <td>6.441993</td>\n",
       "      <td>5.530983</td>\n",
       "      <td>7.140986</td>\n",
       "      <td>6.550487</td>\n",
       "      <td>5.593248</td>\n",
       "      <td>7.150013</td>\n",
       "      <td>6.485789</td>\n",
       "    </tr>\n",
       "    <tr>\n",
       "      <th>...</th>\n",
       "      <td>...</td>\n",
       "      <td>...</td>\n",
       "      <td>...</td>\n",
       "      <td>...</td>\n",
       "      <td>...</td>\n",
       "      <td>...</td>\n",
       "      <td>...</td>\n",
       "      <td>...</td>\n",
       "      <td>...</td>\n",
       "      <td>...</td>\n",
       "      <td>...</td>\n",
       "      <td>...</td>\n",
       "      <td>...</td>\n",
       "      <td>...</td>\n",
       "      <td>...</td>\n",
       "      <td>...</td>\n",
       "      <td>...</td>\n",
       "      <td>...</td>\n",
       "      <td>...</td>\n",
       "      <td>...</td>\n",
       "      <td>...</td>\n",
       "      <td>...</td>\n",
       "      <td>...</td>\n",
       "      <td>...</td>\n",
       "      <td>...</td>\n",
       "      <td>...</td>\n",
       "      <td>...</td>\n",
       "      <td>...</td>\n",
       "      <td>...</td>\n",
       "      <td>...</td>\n",
       "      <td>...</td>\n",
       "      <td>...</td>\n",
       "      <td>...</td>\n",
       "      <td>...</td>\n",
       "      <td>...</td>\n",
       "      <td>...</td>\n",
       "      <td>...</td>\n",
       "      <td>...</td>\n",
       "      <td>...</td>\n",
       "      <td>...</td>\n",
       "      <td>...</td>\n",
       "      <td>...</td>\n",
       "      <td>...</td>\n",
       "      <td>...</td>\n",
       "    </tr>\n",
       "    <tr>\n",
       "      <th>837123</th>\n",
       "      <td>831219</td>\n",
       "      <td>22438</td>\n",
       "      <td>1276.0</td>\n",
       "      <td>57.957760</td>\n",
       "      <td>58.002869</td>\n",
       "      <td>56.276749</td>\n",
       "      <td>56.234638</td>\n",
       "      <td>7.0</td>\n",
       "      <td>57.980314</td>\n",
       "      <td>56.255693</td>\n",
       "      <td>6.333834</td>\n",
       "      <td>0.442704</td>\n",
       "      <td>6.320721</td>\n",
       "      <td>0.382403</td>\n",
       "      <td>5.596670</td>\n",
       "      <td>7.500126</td>\n",
       "      <td>-26.316080</td>\n",
       "      <td>0.073413</td>\n",
       "      <td>2</td>\n",
       "      <td>6</td>\n",
       "      <td>10</td>\n",
       "      <td>7</td>\n",
       "      <td>1418809.0</td>\n",
       "      <td>58</td>\n",
       "      <td>34</td>\n",
       "      <td>1</td>\n",
       "      <td>5.137891</td>\n",
       "      <td>6.579938</td>\n",
       "      <td>6.505754</td>\n",
       "      <td>5.076985</td>\n",
       "      <td>6.494341</td>\n",
       "      <td>6.512212</td>\n",
       "      <td>5.053960</td>\n",
       "      <td>6.445127</td>\n",
       "      <td>6.527359</td>\n",
       "      <td>5.033471</td>\n",
       "      <td>6.448986</td>\n",
       "      <td>6.510368</td>\n",
       "      <td>4.672411</td>\n",
       "      <td>5.927368</td>\n",
       "      <td>6.652595</td>\n",
       "      <td>4.426903</td>\n",
       "      <td>5.635040</td>\n",
       "      <td>6.436964</td>\n",
       "    </tr>\n",
       "    <tr>\n",
       "      <th>837124</th>\n",
       "      <td>831220</td>\n",
       "      <td>22438</td>\n",
       "      <td>2079.0</td>\n",
       "      <td>57.954140</td>\n",
       "      <td>58.010120</td>\n",
       "      <td>56.212978</td>\n",
       "      <td>56.292702</td>\n",
       "      <td>13.0</td>\n",
       "      <td>57.982130</td>\n",
       "      <td>56.252840</td>\n",
       "      <td>6.277185</td>\n",
       "      <td>0.413197</td>\n",
       "      <td>6.374323</td>\n",
       "      <td>0.405871</td>\n",
       "      <td>7.799848</td>\n",
       "      <td>10.928429</td>\n",
       "      <td>37.020715</td>\n",
       "      <td>0.104466</td>\n",
       "      <td>2</td>\n",
       "      <td>6</td>\n",
       "      <td>10</td>\n",
       "      <td>8</td>\n",
       "      <td>1418839.0</td>\n",
       "      <td>58</td>\n",
       "      <td>91</td>\n",
       "      <td>57</td>\n",
       "      <td>5.137891</td>\n",
       "      <td>6.579938</td>\n",
       "      <td>6.505754</td>\n",
       "      <td>5.076985</td>\n",
       "      <td>6.494341</td>\n",
       "      <td>6.512212</td>\n",
       "      <td>5.053960</td>\n",
       "      <td>6.445127</td>\n",
       "      <td>6.527359</td>\n",
       "      <td>5.033471</td>\n",
       "      <td>6.448986</td>\n",
       "      <td>6.510368</td>\n",
       "      <td>4.246784</td>\n",
       "      <td>5.405376</td>\n",
       "      <td>6.556452</td>\n",
       "      <td>4.475097</td>\n",
       "      <td>5.670947</td>\n",
       "      <td>6.414001</td>\n",
       "    </tr>\n",
       "    <tr>\n",
       "      <th>837125</th>\n",
       "      <td>831221</td>\n",
       "      <td>22438</td>\n",
       "      <td>268.0</td>\n",
       "      <td>57.995800</td>\n",
       "      <td>57.997299</td>\n",
       "      <td>56.164589</td>\n",
       "      <td>56.148571</td>\n",
       "      <td>1.0</td>\n",
       "      <td>57.996550</td>\n",
       "      <td>56.156580</td>\n",
       "      <td>6.256912</td>\n",
       "      <td>0.352648</td>\n",
       "      <td>6.243915</td>\n",
       "      <td>0.343167</td>\n",
       "      <td>0.958543</td>\n",
       "      <td>1.110656</td>\n",
       "      <td>-79.977938</td>\n",
       "      <td>0.022478</td>\n",
       "      <td>2</td>\n",
       "      <td>6</td>\n",
       "      <td>10</td>\n",
       "      <td>8</td>\n",
       "      <td>1418858.0</td>\n",
       "      <td>58</td>\n",
       "      <td>74</td>\n",
       "      <td>30</td>\n",
       "      <td>5.137891</td>\n",
       "      <td>6.579938</td>\n",
       "      <td>6.505754</td>\n",
       "      <td>5.076985</td>\n",
       "      <td>6.494341</td>\n",
       "      <td>6.512212</td>\n",
       "      <td>5.053960</td>\n",
       "      <td>6.445127</td>\n",
       "      <td>6.527359</td>\n",
       "      <td>5.033471</td>\n",
       "      <td>6.448986</td>\n",
       "      <td>6.510368</td>\n",
       "      <td>4.950909</td>\n",
       "      <td>6.161420</td>\n",
       "      <td>6.525395</td>\n",
       "      <td>5.712953</td>\n",
       "      <td>7.071010</td>\n",
       "      <td>6.659516</td>\n",
       "    </tr>\n",
       "    <tr>\n",
       "      <th>837126</th>\n",
       "      <td>831222</td>\n",
       "      <td>22438</td>\n",
       "      <td>695.0</td>\n",
       "      <td>58.006859</td>\n",
       "      <td>58.001469</td>\n",
       "      <td>56.260590</td>\n",
       "      <td>56.304562</td>\n",
       "      <td>4.0</td>\n",
       "      <td>58.004164</td>\n",
       "      <td>56.282576</td>\n",
       "      <td>6.345062</td>\n",
       "      <td>0.392248</td>\n",
       "      <td>6.380089</td>\n",
       "      <td>0.419371</td>\n",
       "      <td>2.659147</td>\n",
       "      <td>3.189885</td>\n",
       "      <td>103.007477</td>\n",
       "      <td>0.062151</td>\n",
       "      <td>2</td>\n",
       "      <td>6</td>\n",
       "      <td>10</td>\n",
       "      <td>8</td>\n",
       "      <td>1418888.0</td>\n",
       "      <td>58</td>\n",
       "      <td>75</td>\n",
       "      <td>13</td>\n",
       "      <td>5.137891</td>\n",
       "      <td>6.579938</td>\n",
       "      <td>6.505754</td>\n",
       "      <td>5.076985</td>\n",
       "      <td>6.494341</td>\n",
       "      <td>6.512212</td>\n",
       "      <td>5.053960</td>\n",
       "      <td>6.445127</td>\n",
       "      <td>6.527359</td>\n",
       "      <td>5.033471</td>\n",
       "      <td>6.448986</td>\n",
       "      <td>6.510368</td>\n",
       "      <td>4.375540</td>\n",
       "      <td>5.574612</td>\n",
       "      <td>6.344359</td>\n",
       "      <td>4.965339</td>\n",
       "      <td>6.178074</td>\n",
       "      <td>6.530892</td>\n",
       "    </tr>\n",
       "    <tr>\n",
       "      <th>837127</th>\n",
       "      <td>831223</td>\n",
       "      <td>22438</td>\n",
       "      <td>542.0</td>\n",
       "      <td>57.995941</td>\n",
       "      <td>57.985729</td>\n",
       "      <td>56.202202</td>\n",
       "      <td>56.216560</td>\n",
       "      <td>2.0</td>\n",
       "      <td>57.990835</td>\n",
       "      <td>56.209381</td>\n",
       "      <td>6.289305</td>\n",
       "      <td>0.371766</td>\n",
       "      <td>6.296420</td>\n",
       "      <td>0.387885</td>\n",
       "      <td>1.416189</td>\n",
       "      <td>1.981679</td>\n",
       "      <td>143.297319</td>\n",
       "      <td>0.023234</td>\n",
       "      <td>2</td>\n",
       "      <td>6</td>\n",
       "      <td>10</td>\n",
       "      <td>9</td>\n",
       "      <td>1418900.0</td>\n",
       "      <td>58</td>\n",
       "      <td>28</td>\n",
       "      <td>28</td>\n",
       "      <td>5.137891</td>\n",
       "      <td>6.579938</td>\n",
       "      <td>6.505754</td>\n",
       "      <td>5.076985</td>\n",
       "      <td>6.494341</td>\n",
       "      <td>6.512212</td>\n",
       "      <td>5.053960</td>\n",
       "      <td>6.445127</td>\n",
       "      <td>6.527359</td>\n",
       "      <td>5.033471</td>\n",
       "      <td>6.448986</td>\n",
       "      <td>6.510368</td>\n",
       "      <td>4.398410</td>\n",
       "      <td>5.569979</td>\n",
       "      <td>6.438445</td>\n",
       "      <td>4.349956</td>\n",
       "      <td>5.515496</td>\n",
       "      <td>6.433774</td>\n",
       "    </tr>\n",
       "  </tbody>\n",
       "</table>\n",
       "<p>837128 rows × 44 columns</p>\n",
       "</div>"
      ],
      "text/plain": [
       "            Id  main_id_locality     ETA  pickup_latitude  dropoff_latitude  \\\n",
       "0            0              1078   226.0        55.826019         55.825581   \n",
       "1            1              1078   718.0        55.795502         55.820911   \n",
       "2            2              1078   612.0        55.791050         55.819962   \n",
       "3            3              1078  1560.0        55.753899         55.824680   \n",
       "4            4              1078  1528.0        55.822361         55.786758   \n",
       "...        ...               ...     ...              ...               ...   \n",
       "837123  831219             22438  1276.0        57.957760         58.002869   \n",
       "837124  831220             22438  2079.0        57.954140         58.010120   \n",
       "837125  831221             22438   268.0        57.995800         57.997299   \n",
       "837126  831222             22438   695.0        58.006859         58.001469   \n",
       "837127  831223             22438   542.0        57.995941         57.985729   \n",
       "\n",
       "        pickup_longitude  dropoff_longitude   EDA  center_latitude  \\\n",
       "0              49.134529          49.126949   1.0        55.825800   \n",
       "1              49.131470          49.115360   5.0        55.808207   \n",
       "2              49.226070          49.176628   5.0        55.805506   \n",
       "3              49.188519          49.093700  13.0        55.789289   \n",
       "4              49.069092          49.143501   9.0        55.804560   \n",
       "...                  ...                ...   ...              ...   \n",
       "837123         56.276749          56.234638   7.0        57.980314   \n",
       "837124         56.212978          56.292702  13.0        57.982130   \n",
       "837125         56.164589          56.148571   1.0        57.996550   \n",
       "837126         56.260590          56.304562   4.0        58.004164   \n",
       "837127         56.202202          56.216560   2.0        57.990835   \n",
       "\n",
       "        center_longitude  pickup_pca0  pickup_pca1  dropoff_pca0  \\\n",
       "0              49.130739    -0.893777    -1.378632     -0.900514   \n",
       "1              49.123415    -0.912015    -1.353974     -0.912861   \n",
       "2              49.201349    -0.833002    -1.301762     -0.860700   \n",
       "3              49.141109    -0.884273    -1.289045     -0.929545   \n",
       "4              49.106297    -0.951878    -1.408959     -0.906148   \n",
       "...                  ...          ...          ...           ...   \n",
       "837123         56.255693     6.333834     0.442704      6.320721   \n",
       "837124         56.252840     6.277185     0.413197      6.374323   \n",
       "837125         56.156580     6.256912     0.352648      6.243915   \n",
       "837126         56.282576     6.345062     0.392248      6.380089   \n",
       "837127         56.209381     6.289305     0.371766      6.296420   \n",
       "\n",
       "        dropoff_pca1  distance_haversine  distance_dummy_manhattan  \\\n",
       "0          -1.382132            0.475936                  0.522207   \n",
       "1          -1.384048            2.999397                  3.832401   \n",
       "2          -1.351894            4.458880                  6.305716   \n",
       "3          -1.398365            9.853176                 13.803791   \n",
       "4          -1.340307            6.107029                  8.606808   \n",
       "...              ...                 ...                       ...   \n",
       "837123      0.382403            5.596670                  7.500126   \n",
       "837124      0.405871            7.799848                 10.928429   \n",
       "837125      0.343167            0.958543                  1.110656   \n",
       "837126      0.419371            2.659147                  3.189885   \n",
       "837127      0.387885            1.416189                  1.981679   \n",
       "\n",
       "         direction  pca_manhattan  pickup_weekday  pickup_hour_weekofyear  \\\n",
       "0       -95.879608       0.010238               2                       7   \n",
       "1       -19.603279       0.030920               2                       7   \n",
       "2       -43.843021       0.077830               2                       7   \n",
       "3       -36.946603       0.154593               2                       7   \n",
       "4       130.378310       0.114382               2                       7   \n",
       "...            ...            ...             ...                     ...   \n",
       "837123  -26.316080       0.073413               2                       6   \n",
       "837124   37.020715       0.104466               2                       6   \n",
       "837125  -79.977938       0.022478               2                       6   \n",
       "837126  103.007477       0.062151               2                       6   \n",
       "837127  143.297319       0.023234               2                       6   \n",
       "\n",
       "        pickup_hour  pickup_minute  pickup_dt  pickup_week_hour  \\\n",
       "0                19             12  2056285.0                67   \n",
       "1                19             12  2056301.0                67   \n",
       "2                19             12  2056323.0                67   \n",
       "3                19             12  2056323.0                67   \n",
       "4                19             12  2056324.0                67   \n",
       "...             ...            ...        ...               ...   \n",
       "837123           10              7  1418809.0                58   \n",
       "837124           10              8  1418839.0                58   \n",
       "837125           10              8  1418858.0                58   \n",
       "837126           10              8  1418888.0                58   \n",
       "837127           10              9  1418900.0                58   \n",
       "\n",
       "        pickup_cluster  dropoff_cluster  avg_speed_h_gby_pickup_hour  \\\n",
       "0                   64               63                     5.459265   \n",
       "1                   90               63                     5.459265   \n",
       "2                   54               14                     5.459265   \n",
       "3                   67                4                     5.459265   \n",
       "4                   93                7                     5.459265   \n",
       "...                ...              ...                          ...   \n",
       "837123              34                1                     5.137891   \n",
       "837124              91               57                     5.137891   \n",
       "837125              74               30                     5.137891   \n",
       "837126              75               13                     5.137891   \n",
       "837127              28               28                     5.137891   \n",
       "\n",
       "        avg_speed_m_gby_pickup_hour  log_trip_duration_gby_pickup_hour  \\\n",
       "0                          6.999325                           6.423005   \n",
       "1                          6.999325                           6.423005   \n",
       "2                          6.999325                           6.423005   \n",
       "3                          6.999325                           6.423005   \n",
       "4                          6.999325                           6.423005   \n",
       "...                             ...                                ...   \n",
       "837123                     6.579938                           6.505754   \n",
       "837124                     6.579938                           6.505754   \n",
       "837125                     6.579938                           6.505754   \n",
       "837126                     6.579938                           6.505754   \n",
       "837127                     6.579938                           6.505754   \n",
       "\n",
       "        avg_speed_h_gby_pickup_date  avg_speed_m_gby_pickup_date  \\\n",
       "0                          5.215243                     6.688212   \n",
       "1                          5.215243                     6.688212   \n",
       "2                          5.215243                     6.688212   \n",
       "3                          5.215243                     6.688212   \n",
       "4                          5.215243                     6.688212   \n",
       "...                             ...                          ...   \n",
       "837123                     5.076985                     6.494341   \n",
       "837124                     5.076985                     6.494341   \n",
       "837125                     5.076985                     6.494341   \n",
       "837126                     5.076985                     6.494341   \n",
       "837127                     5.076985                     6.494341   \n",
       "\n",
       "        log_trip_duration_gby_pickup_date  avg_speed_h_gby_pickup_dt_bin  \\\n",
       "0                                6.513568                       5.457045   \n",
       "1                                6.513568                       5.457045   \n",
       "2                                6.513568                       5.457045   \n",
       "3                                6.513568                       5.457045   \n",
       "4                                6.513568                       5.457045   \n",
       "...                                   ...                            ...   \n",
       "837123                           6.512212                       5.053960   \n",
       "837124                           6.512212                       5.053960   \n",
       "837125                           6.512212                       5.053960   \n",
       "837126                           6.512212                       5.053960   \n",
       "837127                           6.512212                       5.053960   \n",
       "\n",
       "        avg_speed_m_gby_pickup_dt_bin  log_trip_duration_gby_pickup_dt_bin  \\\n",
       "0                            6.982554                             6.452200   \n",
       "1                            6.982554                             6.452200   \n",
       "2                            6.982554                             6.452200   \n",
       "3                            6.982554                             6.452200   \n",
       "4                            6.982554                             6.452200   \n",
       "...                               ...                                  ...   \n",
       "837123                       6.445127                             6.527359   \n",
       "837124                       6.445127                             6.527359   \n",
       "837125                       6.445127                             6.527359   \n",
       "837126                       6.445127                             6.527359   \n",
       "837127                       6.445127                             6.527359   \n",
       "\n",
       "        avg_speed_h_gby_pickup_week_hour  avg_speed_m_gby_pickup_week_hour  \\\n",
       "0                               5.401272                          6.929604   \n",
       "1                               5.401272                          6.929604   \n",
       "2                               5.401272                          6.929604   \n",
       "3                               5.401272                          6.929604   \n",
       "4                               5.401272                          6.929604   \n",
       "...                                  ...                               ...   \n",
       "837123                          5.033471                          6.448986   \n",
       "837124                          5.033471                          6.448986   \n",
       "837125                          5.033471                          6.448986   \n",
       "837126                          5.033471                          6.448986   \n",
       "837127                          5.033471                          6.448986   \n",
       "\n",
       "        log_trip_duration_gby_pickup_week_hour  \\\n",
       "0                                     6.441993   \n",
       "1                                     6.441993   \n",
       "2                                     6.441993   \n",
       "3                                     6.441993   \n",
       "4                                     6.441993   \n",
       "...                                        ...   \n",
       "837123                                6.510368   \n",
       "837124                                6.510368   \n",
       "837125                                6.510368   \n",
       "837126                                6.510368   \n",
       "837127                                6.510368   \n",
       "\n",
       "        avg_speed_h_gby_pickup_cluster  avg_speed_m_gby_pickup_cluster  \\\n",
       "0                             6.014004                        7.581035   \n",
       "1                             6.119228                        7.870835   \n",
       "2                             5.850607                        7.499397   \n",
       "3                             5.423937                        7.028498   \n",
       "4                             5.530983                        7.140986   \n",
       "...                                ...                             ...   \n",
       "837123                        4.672411                        5.927368   \n",
       "837124                        4.246784                        5.405376   \n",
       "837125                        4.950909                        6.161420   \n",
       "837126                        4.375540                        5.574612   \n",
       "837127                        4.398410                        5.569979   \n",
       "\n",
       "        log_trip_duration_gby_pickup_cluster  avg_speed_h_gby_dropoff_cluster  \\\n",
       "0                                   6.457459                         5.661696   \n",
       "1                                   6.420048                         5.661696   \n",
       "2                                   6.571342                         6.065958   \n",
       "3                                   6.538926                         5.730565   \n",
       "4                                   6.550487                         5.593248   \n",
       "...                                      ...                              ...   \n",
       "837123                              6.652595                         4.426903   \n",
       "837124                              6.556452                         4.475097   \n",
       "837125                              6.525395                         5.712953   \n",
       "837126                              6.344359                         4.965339   \n",
       "837127                              6.438445                         4.349956   \n",
       "\n",
       "        avg_speed_m_gby_dropoff_cluster  log_trip_duration_gby_dropoff_cluster  \n",
       "0                              7.180574                               6.447411  \n",
       "1                              7.180574                               6.447411  \n",
       "2                              7.751825                               6.616904  \n",
       "3                              7.348535                               6.427492  \n",
       "4                              7.150013                               6.485789  \n",
       "...                                 ...                                    ...  \n",
       "837123                         5.635040                               6.436964  \n",
       "837124                         5.670947                               6.414001  \n",
       "837125                         7.071010                               6.659516  \n",
       "837126                         6.178074                               6.530892  \n",
       "837127                         5.515496                               6.433774  \n",
       "\n",
       "[837128 rows x 44 columns]"
      ]
     },
     "execution_count": 59,
     "metadata": {},
     "output_type": "execute_result"
    }
   ],
   "source": [
    "train_ext2"
   ]
  },
  {
   "cell_type": "code",
   "execution_count": 60,
   "metadata": {},
   "outputs": [
    {
     "name": "stdout",
     "output_type": "stream",
     "text": [
      "test_additional.csv\t test.csv      train.csv      validation.csv\r\n",
      "test_additional.csv.zip  test.csv.zip  train.csv.zip  validation.csv.zip\r\n"
     ]
    }
   ],
   "source": [
    "!ls ../../data/"
   ]
  },
  {
   "cell_type": "code",
   "execution_count": 61,
   "metadata": {},
   "outputs": [],
   "source": [
    "train_ext2.to_csv(\"../../data/train_ext2.csv\", index=False)"
   ]
  },
  {
   "cell_type": "code",
   "execution_count": null,
   "metadata": {},
   "outputs": [],
   "source": [
    "valid_ext2.to_csv(\"../../data/valid_ext2.csv\", index=False)"
   ]
  },
  {
   "cell_type": "code",
   "execution_count": null,
   "metadata": {},
   "outputs": [],
   "source": [
    "test_ext2.to_csv(\"../../data/test_ext2.csv\", index=False)"
   ]
  },
  {
   "cell_type": "code",
   "execution_count": null,
   "metadata": {},
   "outputs": [],
   "source": []
  },
  {
   "cell_type": "markdown",
   "metadata": {},
   "source": [
    "## Modeling"
   ]
  },
  {
   "cell_type": "code",
   "execution_count": null,
   "metadata": {},
   "outputs": [],
   "source": [
    "test.shape"
   ]
  },
  {
   "cell_type": "code",
   "execution_count": null,
   "metadata": {},
   "outputs": [],
   "source": [
    "%matplotlib inline\n",
    "import pandas as pd # data processing, CSV file I/O (e.g. pd.read_csv)\n",
    "from datetime import timedelta\n",
    "import datetime as dt\n",
    "import matplotlib.pyplot as plt\n",
    "plt.rcParams['figure.figsize'] = [16, 10]\n",
    "import seaborn as sns\n",
    "import xgboost as xgb\n",
    "from sklearn.model_selection import train_test_split\n",
    "from sklearn.decomposition import PCA\n",
    "from sklearn.cluster import MiniBatchKMeans\n",
    "import warnings\n",
    "warnings.filterwarnings('ignore')"
   ]
  },
  {
   "cell_type": "code",
   "execution_count": null,
   "metadata": {},
   "outputs": [],
   "source": [
    "Xtr, Xv, ytr, yv = train_test_split(train[feature_names].values, y, test_size=0.2, random_state=1987)\n"
   ]
  },
  {
   "cell_type": "code",
   "execution_count": null,
   "metadata": {},
   "outputs": [],
   "source": [
    "yv"
   ]
  },
  {
   "cell_type": "code",
   "execution_count": null,
   "metadata": {},
   "outputs": [],
   "source": [
    "test.shape"
   ]
  },
  {
   "cell_type": "code",
   "execution_count": null,
   "metadata": {},
   "outputs": [],
   "source": [
    "dtrain = xgb.DMatrix(Xtr, label=ytr)\n",
    "dvalid = xgb.DMatrix(Xv, label=yv)\n",
    "dtest = xgb.DMatrix(test[feature_names].values)"
   ]
  },
  {
   "cell_type": "code",
   "execution_count": null,
   "metadata": {},
   "outputs": [],
   "source": [
    "dtest.num_row()"
   ]
  },
  {
   "cell_type": "code",
   "execution_count": null,
   "metadata": {},
   "outputs": [],
   "source": [
    "\n",
    "watchlist = [(dtrain, 'train'), (dvalid, 'valid')]\n",
    "\n",
    "# Try different parameters! My favorite is random search :)\n",
    "xgb_pars = {'min_child_weight': 50, 'eta': 0.3, 'colsample_bytree': 0.3, 'max_depth': 8,\n",
    "            'subsample': 0.8, 'lambda': 1., 'nthread': 4, 'booster' : 'gbtree', 'silent': 1,\n",
    "            'eval_metric': 'rmse', 'objective': 'reg:linear'}"
   ]
  },
  {
   "cell_type": "code",
   "execution_count": null,
   "metadata": {},
   "outputs": [],
   "source": []
  },
  {
   "cell_type": "code",
   "execution_count": null,
   "metadata": {},
   "outputs": [],
   "source": [
    "# You could try to train with more epoch\n",
    "model = xgb.train(xgb_pars, dtrain, 100, watchlist, early_stopping_rounds=50,\n",
    "                  maximize=False, verbose_eval=10)"
   ]
  },
  {
   "cell_type": "code",
   "execution_count": null,
   "metadata": {},
   "outputs": [],
   "source": []
  },
  {
   "cell_type": "code",
   "execution_count": null,
   "metadata": {
    "scrolled": true
   },
   "outputs": [],
   "source": [
    "feature_importance_dict = model.get_fscore()\n",
    "fs = ['f%i' % i for i in range(len(feature_names))]\n",
    "f1 = pd.DataFrame({'f': list(feature_importance_dict.keys()),\n",
    "                   'importance': list(feature_importance_dict.values())})\n",
    "f2 = pd.DataFrame({'f': fs, 'feature_name': feature_names})\n",
    "feature_importance = pd.merge(f1, f2, how='right', on='f')\n",
    "feature_importance = feature_importance.fillna(0)\n",
    "\n",
    "feature_importance[['feature_name', 'importance']].sort_values(by='importance', ascending=False)"
   ]
  },
  {
   "cell_type": "code",
   "execution_count": null,
   "metadata": {},
   "outputs": [],
   "source": []
  },
  {
   "cell_type": "code",
   "execution_count": null,
   "metadata": {},
   "outputs": [],
   "source": [
    "dtest"
   ]
  },
  {
   "cell_type": "code",
   "execution_count": null,
   "metadata": {},
   "outputs": [],
   "source": [
    "preds = model.predict(dvalid)"
   ]
  },
  {
   "cell_type": "code",
   "execution_count": null,
   "metadata": {},
   "outputs": [],
   "source": [
    "len(preds)"
   ]
  },
  {
   "cell_type": "code",
   "execution_count": null,
   "metadata": {},
   "outputs": [],
   "source": [
    "def mean_absolute_percentage_error(y_true, y_pred):\n",
    "    y_true, y_pred = np.array(y_true), np.array(y_pred)\n",
    "    return np.mean(np.abs((y_true - y_pred) / y_true))"
   ]
  },
  {
   "cell_type": "code",
   "execution_count": null,
   "metadata": {},
   "outputs": [],
   "source": [
    "valid[\"RTA\"]"
   ]
  },
  {
   "cell_type": "code",
   "execution_count": null,
   "metadata": {},
   "outputs": [],
   "source": [
    "yv"
   ]
  },
  {
   "cell_type": "code",
   "execution_count": null,
   "metadata": {},
   "outputs": [],
   "source": [
    "preds"
   ]
  },
  {
   "cell_type": "code",
   "execution_count": null,
   "metadata": {},
   "outputs": [],
   "source": [
    "mape = mean_absolute_percentage_error(yv, preds)"
   ]
  },
  {
   "cell_type": "code",
   "execution_count": null,
   "metadata": {},
   "outputs": [],
   "source": [
    "mape"
   ]
  },
  {
   "cell_type": "code",
   "execution_count": null,
   "metadata": {},
   "outputs": [],
   "source": []
  },
  {
   "cell_type": "code",
   "execution_count": null,
   "metadata": {},
   "outputs": [],
   "source": [
    "preds_test = model.predict(dtest)"
   ]
  },
  {
   "cell_type": "code",
   "execution_count": null,
   "metadata": {},
   "outputs": [],
   "source": [
    "preds_test.shape"
   ]
  },
  {
   "cell_type": "code",
   "execution_count": null,
   "metadata": {},
   "outputs": [],
   "source": [
    "test.shape"
   ]
  },
  {
   "cell_type": "code",
   "execution_count": null,
   "metadata": {},
   "outputs": [],
   "source": [
    "test_orig = pd.read_csv('../../data/test.csv', index_col=None)"
   ]
  },
  {
   "cell_type": "code",
   "execution_count": null,
   "metadata": {},
   "outputs": [],
   "source": [
    "test_orig.head(4)"
   ]
  },
  {
   "cell_type": "code",
   "execution_count": null,
   "metadata": {},
   "outputs": [],
   "source": [
    "test_orig.shape"
   ]
  },
  {
   "cell_type": "code",
   "execution_count": null,
   "metadata": {},
   "outputs": [],
   "source": [
    "test_orig = test_orig.dropna(subset=[\"Id\"])"
   ]
  },
  {
   "cell_type": "code",
   "execution_count": null,
   "metadata": {},
   "outputs": [],
   "source": [
    "test_orig[\"Id\"].nunique()"
   ]
  },
  {
   "cell_type": "code",
   "execution_count": null,
   "metadata": {},
   "outputs": [],
   "source": []
  },
  {
   "cell_type": "code",
   "execution_count": null,
   "metadata": {},
   "outputs": [],
   "source": [
    "test = test.drop(\"Id\", axis=1)"
   ]
  },
  {
   "cell_type": "code",
   "execution_count": null,
   "metadata": {},
   "outputs": [],
   "source": [
    "test.head(4)"
   ]
  },
  {
   "cell_type": "code",
   "execution_count": null,
   "metadata": {},
   "outputs": [],
   "source": [
    "test[\"Prediction\"] = preds_test\n",
    "test[\"Id\"] = test_orig[\"Id\"].astype(int)"
   ]
  },
  {
   "cell_type": "code",
   "execution_count": null,
   "metadata": {},
   "outputs": [],
   "source": [
    "test_orig[\"Id\"].nunique()"
   ]
  },
  {
   "cell_type": "code",
   "execution_count": null,
   "metadata": {},
   "outputs": [],
   "source": [
    "test.shape"
   ]
  },
  {
   "cell_type": "code",
   "execution_count": null,
   "metadata": {},
   "outputs": [],
   "source": []
  },
  {
   "cell_type": "code",
   "execution_count": null,
   "metadata": {},
   "outputs": [],
   "source": [
    "test"
   ]
  },
  {
   "cell_type": "code",
   "execution_count": null,
   "metadata": {},
   "outputs": [],
   "source": [
    "test[['Id', 'Prediction']].to_csv('../submission/submission_xgboost.csv', sep=',', index=False, header=True)"
   ]
  },
  {
   "cell_type": "code",
   "execution_count": null,
   "metadata": {},
   "outputs": [],
   "source": [
    "!ls ../"
   ]
  },
  {
   "cell_type": "code",
   "execution_count": null,
   "metadata": {},
   "outputs": [],
   "source": [
    "print(test[['Id', 'Prediction']].head())"
   ]
  },
  {
   "cell_type": "code",
   "execution_count": null,
   "metadata": {},
   "outputs": [],
   "source": [
    "sub1 = pd.read_csv(\"../submission/submission-1.csv\")"
   ]
  },
  {
   "cell_type": "code",
   "execution_count": null,
   "metadata": {},
   "outputs": [],
   "source": [
    "sub1.head()"
   ]
  },
  {
   "cell_type": "code",
   "execution_count": null,
   "metadata": {},
   "outputs": [],
   "source": []
  },
  {
   "cell_type": "code",
   "execution_count": null,
   "metadata": {},
   "outputs": [],
   "source": []
  }
 ],
 "metadata": {
  "kernelspec": {
   "display_name": "Python 3",
   "language": "python",
   "name": "python3"
  },
  "language_info": {
   "codemirror_mode": {
    "name": "ipython",
    "version": 3
   },
   "file_extension": ".py",
   "mimetype": "text/x-python",
   "name": "python",
   "nbconvert_exporter": "python",
   "pygments_lexer": "ipython3",
   "version": "3.6.10"
  }
 },
 "nbformat": 4,
 "nbformat_minor": 4
}
